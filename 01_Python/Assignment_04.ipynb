{
 "cells": [
  {
   "cell_type": "markdown",
   "id": "c51a5910",
   "metadata": {},
   "source": [
    "<div style=\"text-align: center\"> <h1>Assignment 4</h1></div>"
   ]
  },
  {
   "cell_type": "markdown",
   "id": "532defd4",
   "metadata": {},
   "source": [
    "<h2 style='text-align: left;'> Assignment Questions </h2>"
   ]
  },
  {
   "cell_type": "markdown",
   "id": "b4079c02",
   "metadata": {},
   "source": [
    "<h3 style='text-align: left;'> 1. Which keyword is used to create a function? <br> \n",
    "    Create a function to return a list of odd numbers in the range of 1 to 25. </h3>"
   ]
  },
  {
   "cell_type": "markdown",
   "id": "53e29617",
   "metadata": {},
   "source": [
    "<p style=’text-align: left;’> <b>Ans:- <br>The def keyword is used to create, (or define) a function.<b> </p>\n"
   ]
  },
  {
   "cell_type": "code",
   "execution_count": 54,
   "id": "f37b6f68",
   "metadata": {},
   "outputs": [
    {
     "data": {
      "text/plain": [
       "[1, 3, 5, 7, 9, 11, 13, 15, 17, 19, 21, 23, 25]"
      ]
     },
     "execution_count": 54,
     "metadata": {},
     "output_type": "execute_result"
    }
   ],
   "source": [
    "def odd_numbers():\n",
    "    l = []\n",
    "    for i in range(1,26):\n",
    "        if(i % 2 != 0):\n",
    "            l.append(i)\n",
    "    return l       \n",
    "odd_numbers()            "
   ]
  },
  {
   "cell_type": "markdown",
   "id": "923c437d",
   "metadata": {},
   "source": [
    "<h3 style='text-align: left;'> 2. Why *args and **kwargs is used in some functions? <br>\n",
    "    Create a function each for *args and **kwargs \n",
    "to demonstrate their use. </h3>"
   ]
  },
  {
   "cell_type": "markdown",
   "id": "4f5cec5c",
   "metadata": {},
   "source": [
    "<p style=’text-align: left;’> <b>Ans:-<br>*args allows us to pass a variable number of non-keyword arguments to a Python function.<br> In the function, we should use an asterisk (*) before the parameter name to pass a variable number of arguments.<b> </p>\n"
   ]
  },
  {
   "cell_type": "code",
   "execution_count": 55,
   "id": "43f13553",
   "metadata": {},
   "outputs": [
    {
     "name": "stdout",
     "output_type": "stream",
     "text": [
      "(2, 3) <class 'tuple'>\n"
     ]
    }
   ],
   "source": [
    "def add(*args):\n",
    "    print(args, type(args))\n",
    "\n",
    "add(2, 3)"
   ]
  },
  {
   "cell_type": "code",
   "execution_count": 56,
   "id": "35f51821",
   "metadata": {},
   "outputs": [
    {
     "name": "stdout",
     "output_type": "stream",
     "text": [
      "3\n",
      "17\n",
      "18\n"
     ]
    }
   ],
   "source": [
    "def add_number(*numbers):\n",
    "    total = 0\n",
    "    for i in numbers:\n",
    "        total += i\n",
    "    return total\n",
    "\n",
    "print(add_number(1,2))\n",
    "print(add_number(5,5,7))\n",
    "print(add_number(7,5,6))"
   ]
  },
  {
   "cell_type": "markdown",
   "id": "8d19f3c5",
   "metadata": {},
   "source": [
    "<p style=’text-align: left;’><b>**kwargs allows us to pass a variable number of keyword arguments to a Python function. <br>In the function, we use the double-asterisk (**) before the parameter name to denote this type of argument.<b> </p>\n"
   ]
  },
  {
   "cell_type": "code",
   "execution_count": 57,
   "id": "243bfbe8",
   "metadata": {},
   "outputs": [
    {
     "name": "stdout",
     "output_type": "stream",
     "text": [
      "{'banana': 5, 'mango': 7, 'apple': 8} <class 'dict'>\n"
     ]
    }
   ],
   "source": [
    "def total_fruits(**kwargs):\n",
    "    print(kwargs, type(kwargs))\n",
    "\n",
    "\n",
    "total_fruits(banana=5, mango=7, apple=8)"
   ]
  },
  {
   "cell_type": "code",
   "execution_count": 58,
   "id": "647e3df8",
   "metadata": {},
   "outputs": [
    {
     "name": "stdout",
     "output_type": "stream",
     "text": [
      "16\n"
     ]
    }
   ],
   "source": [
    "def t_fruits(**fruits):\n",
    "    total = 0\n",
    "    for amount in fruits.values():\n",
    "        total += amount\n",
    "    return total\n",
    "\n",
    "print(t_fruits(banana = 5, apple = 4, mango = 7))"
   ]
  },
  {
   "cell_type": "markdown",
   "id": "b89ca897",
   "metadata": {},
   "source": [
    "<h3 style='text-align: left;'> 3. What is an iterator in python? \n",
    "    <br>Name the method used to initialise the iterator object and the method \n",
    "used for iteration. <br>Use these methods to print the first five elements of the given list [2, 4, 6, 8, 10, 12, 14, \n",
    "16, 18, 20]. </h3>"
   ]
  },
  {
   "cell_type": "markdown",
   "id": "45624f92",
   "metadata": {},
   "source": [
    "<p style=’text-align: left;’><b>Ans:- <br>An iterator is an object that contains a countable number of values.\n",
    "<br>An iterator is an object that can be iterated upon, meaning that you can traverse through all the values.\n",
    "<br>Technically, in Python, an iterator is an object which implements the iterator protocol, which consist of the methods __iter__() and __next__(). <b> </p>\n"
   ]
  },
  {
   "cell_type": "markdown",
   "id": "7b10b05f",
   "metadata": {},
   "source": [
    "<p>\n",
    "<b>\n",
    "1.__iter__(): The iter() method is called for the initialization of an iterator. This returns an iterator object.\n",
    "<br>\n",
    "2.__next__(): The next method returns the next value for the iterable. When we use a for loop to traverse any iterable object, internally it uses the iter() method to get an iterator object, which further uses the next() method to iterate over. This method raises a StopIteration to signal the end of the iteration.\n",
    "</b>\n",
    "</p>"
   ]
  },
  {
   "cell_type": "code",
   "execution_count": 59,
   "id": "51b6b325",
   "metadata": {},
   "outputs": [
    {
     "name": "stdout",
     "output_type": "stream",
     "text": [
      "2\n",
      "4\n",
      "6\n",
      "8\n",
      "10\n"
     ]
    }
   ],
   "source": [
    "l1 = [2, 4, 6, 8, 10, 12, 14, 16, 18, 20]\n",
    "\n",
    "iter_obj = iter(l1)\n",
    "\n",
    "print(next(iter_obj))\n",
    "print(next(iter_obj))\n",
    "print(next(iter_obj))\n",
    "print(next(iter_obj))\n",
    "print(next(iter_obj))"
   ]
  },
  {
   "cell_type": "code",
   "execution_count": 60,
   "id": "0daad5fc",
   "metadata": {},
   "outputs": [
    {
     "name": "stdout",
     "output_type": "stream",
     "text": [
      "Iterable loop : \n",
      "2\n",
      "4\n",
      "6\n",
      "8\n",
      "10\n"
     ]
    }
   ],
   "source": [
    "# Another way\n",
    "l = [2, 4, 6, 8, 10, 12, 14, 16, 18, 20] \n",
    "\n",
    "iter_objs = iter(l)\n",
    "\n",
    "print(\"Iterable loop : \")\n",
    "#iterating on iterable\n",
    "for item in iter_objs:\n",
    "    print(item)\n",
    "    if(item == 10):\n",
    "        break"
   ]
  },
  {
   "cell_type": "markdown",
   "id": "fc57e42d",
   "metadata": {},
   "source": [
    "<h3 style='text-align: left;'> 4. What is a generator function in python?\n",
    "    <br>Why yield keyword is used?\n",
    "    <br>Give an example of a generator function. </h3>"
   ]
  },
  {
   "cell_type": "markdown",
   "id": "421c6a1e",
   "metadata": {},
   "source": [
    "<p> \n",
    "<b>\n",
    "Ans:-<br> Generator: <br>\n",
    "1.In Python, a generator is a function that returns an iterator that produces a sequence of values when iterated over.<br>\n",
    "2.Generators are useful when we want to produce a large sequence of values, but we don't want to store all of them in memory at once.\n",
    "<br> Yield: <br>\n",
    "The yield keyword is used to produce a value from the generator.\n",
    "</b>\n",
    "</p>"
   ]
  },
  {
   "cell_type": "markdown",
   "id": "aeebda56",
   "metadata": {},
   "source": [
    "#syntax \n",
    "\n",
    "\"\"\"\n",
    "\n",
    "def generator_name(arg):\n",
    "    # statements\n",
    "    yield something\n",
    "\n",
    "\"\"\""
   ]
  },
  {
   "cell_type": "markdown",
   "id": "ee40c522",
   "metadata": {},
   "source": [
    "# Example 1:"
   ]
  },
  {
   "cell_type": "code",
   "execution_count": 62,
   "id": "176600f7",
   "metadata": {},
   "outputs": [
    {
     "name": "stdout",
     "output_type": "stream",
     "text": [
      "0\n",
      "1\n",
      "2\n",
      "3\n",
      "4\n"
     ]
    }
   ],
   "source": [
    "def my_generator(n):\n",
    "    value = 0\n",
    "    \n",
    "    while value < n:\n",
    "        yield value\n",
    "        value += 1\n",
    "        \n",
    "for value in my_generator(5):\n",
    "    print(value)"
   ]
  },
  {
   "cell_type": "markdown",
   "id": "aa4752ca",
   "metadata": {},
   "source": [
    "# Example 2:"
   ]
  },
  {
   "cell_type": "code",
   "execution_count": 63,
   "id": "17e6f247",
   "metadata": {},
   "outputs": [
    {
     "name": "stdout",
     "output_type": "stream",
     "text": [
      "0\n",
      "1\n",
      "4\n",
      "9\n",
      "16\n"
     ]
    }
   ],
   "source": [
    "# create the generator object\n",
    "squares_generator = (i * i for i in range(5))\n",
    "\n",
    "# iterate over the generator and print the values\n",
    "for i in squares_generator:\n",
    "    print(i)"
   ]
  },
  {
   "cell_type": "markdown",
   "id": "1b89ff7b",
   "metadata": {},
   "source": [
    "<h3 style='text-align: left;'> 5. Create a generator function for prime numbers less than 1000. <br>\n",
    "    Use the next() method to print the first 20 prime numbers. </h3>"
   ]
  },
  {
   "cell_type": "code",
   "execution_count": 64,
   "id": "448cedf2",
   "metadata": {},
   "outputs": [
    {
     "name": "stdout",
     "output_type": "stream",
     "text": [
      "2\n",
      "3\n",
      "5\n",
      "7\n",
      "11\n",
      "13\n",
      "17\n",
      "19\n",
      "23\n",
      "29\n",
      "31\n",
      "37\n",
      "41\n",
      "43\n",
      "47\n",
      "53\n",
      "59\n",
      "61\n",
      "67\n",
      "71\n"
     ]
    }
   ],
   "source": [
    "# Apprroach \n",
    "def prime_no_generator():\n",
    "    for number in range (1, 1000):  \n",
    "        if number > 1:  \n",
    "            for i in range (2, number):  \n",
    "                if (number % i) == 0:  \n",
    "                    break  \n",
    "            else:  \n",
    "                yield number\n",
    "\n",
    "prime_number = prime_no_generator()\n",
    "print(next(prime_number))\n",
    "print(next(prime_number))\n",
    "print(next(prime_number))\n",
    "print(next(prime_number))\n",
    "print(next(prime_number))\n",
    "print(next(prime_number))\n",
    "print(next(prime_number))\n",
    "print(next(prime_number))\n",
    "print(next(prime_number))\n",
    "print(next(prime_number))\n",
    "print(next(prime_number))\n",
    "print(next(prime_number))\n",
    "print(next(prime_number))\n",
    "print(next(prime_number))\n",
    "print(next(prime_number))\n",
    "print(next(prime_number))\n",
    "print(next(prime_number))\n",
    "print(next(prime_number))\n",
    "print(next(prime_number))\n",
    "print(next(prime_number))"
   ]
  },
  {
   "cell_type": "code",
   "execution_count": 65,
   "id": "4c02f4b2",
   "metadata": {},
   "outputs": [
    {
     "name": "stdout",
     "output_type": "stream",
     "text": [
      "2\n",
      "3\n",
      "5\n",
      "7\n",
      "11\n",
      "13\n",
      "17\n",
      "19\n",
      "23\n",
      "29\n",
      "31\n",
      "37\n",
      "41\n",
      "43\n",
      "47\n",
      "53\n",
      "59\n",
      "61\n",
      "67\n",
      "71\n"
     ]
    }
   ],
   "source": [
    "# Approach 2\n",
    "def prime_no_generators(n):\n",
    "    for numbers in range (1, n):  \n",
    "        if numbers > 1:  \n",
    "            for i in range (2, numbers):  \n",
    "                if (numbers % i) == 0:  \n",
    "                    break  \n",
    "            else:  \n",
    "                yield numbers\n",
    "\n",
    "prime_numbers = iter(prime_no_generators(72))\n",
    "\n",
    "while True:\n",
    "    # item will be \"end\" if iteration is complete\n",
    "    item = next(prime_numbers, \"end\")\n",
    "    if item == \"end\":\n",
    "        break\n",
    "    print(item)"
   ]
  },
  {
   "cell_type": "markdown",
   "id": "1d0efa4f",
   "metadata": {},
   "source": [
    "<h3 style='text-align: left;'> 6. Write a python program to print the first 10 Fibonacci numbers using a while loop. </h3>"
   ]
  },
  {
   "cell_type": "code",
   "execution_count": 66,
   "id": "4a7a949b",
   "metadata": {},
   "outputs": [
    {
     "name": "stdout",
     "output_type": "stream",
     "text": [
      "0 1 1 2 3 5 8 13 21 34 "
     ]
    }
   ],
   "source": [
    "n = 10\n",
    "\n",
    "a,b = 0,1\n",
    "\n",
    "i = 0\n",
    "while i < 10:\n",
    "    print(a, end = \" \")\n",
    "    c = a + b\n",
    "    a = b\n",
    "    b = c\n",
    "    i = i + 1"
   ]
  },
  {
   "cell_type": "markdown",
   "id": "5e4db822",
   "metadata": {},
   "source": [
    "<h3 style='text-align: left;'> 7. Write a List Comprehension to iterate through the given string: ‘pwskills’. <br>\n",
    "\n",
    "Expected output: ['p', 'w', 's', 'k', 'i', 'l', 'l', 's'] </h3>"
   ]
  },
  {
   "cell_type": "code",
   "execution_count": 67,
   "id": "1597008c",
   "metadata": {},
   "outputs": [
    {
     "name": "stdout",
     "output_type": "stream",
     "text": [
      "['p', 'w', 's', 'k', 'i', 'l', 'l', 's']\n"
     ]
    }
   ],
   "source": [
    "s = \"pwskills\"\n",
    "List = [character for character in s]\n",
    " \n",
    "# Displaying list\n",
    "print(List)"
   ]
  },
  {
   "cell_type": "markdown",
   "id": "6049d03a",
   "metadata": {},
   "source": [
    "<h3 style='text-align: left;'> 8.  Write a python program to check whether a given number is Palindrome or not using a while loop. </h3>"
   ]
  },
  {
   "cell_type": "code",
   "execution_count": 68,
   "id": "816d9c63",
   "metadata": {},
   "outputs": [
    {
     "name": "stdout",
     "output_type": "stream",
     "text": [
      "Enter a number:123321\n",
      "The number is palindrome!\n"
     ]
    }
   ],
   "source": [
    "num=int(input(\"Enter a number:\"))\n",
    "temp=num\n",
    "rev=0\n",
    "while(num>0):\n",
    "    dig=num%10\n",
    "    rev=rev*10+dig\n",
    "    num=num//10\n",
    "if(temp==rev):\n",
    "    print(\"The number is palindrome!\")\n",
    "else:\n",
    "    print(\"Not a palindrome!\")"
   ]
  },
  {
   "cell_type": "markdown",
   "id": "e86900cf",
   "metadata": {},
   "source": [
    "<h3 style='text-align: left;'> 9. Write a code to print odd numbers from 1 to 100 using list comprehension.<br>\n",
    "Note: Use a list comprehension to create a list from 1 to 100 and use another List comprehension to filter \n",
    "out odd numbers </h3>"
   ]
  },
  {
   "cell_type": "code",
   "execution_count": 69,
   "id": "d3c8e74b",
   "metadata": {},
   "outputs": [],
   "source": [
    "L = [i for i in range(101)]"
   ]
  },
  {
   "cell_type": "code",
   "execution_count": 70,
   "id": "8a44127b",
   "metadata": {},
   "outputs": [],
   "source": [
    "L1 = [i for i in L if i % 2 != 0]"
   ]
  },
  {
   "cell_type": "code",
   "execution_count": 71,
   "id": "6d4f697b",
   "metadata": {},
   "outputs": [
    {
     "name": "stdout",
     "output_type": "stream",
     "text": [
      "Odd Numbers = [1, 3, 5, 7, 9, 11, 13, 15, 17, 19, 21, 23, 25, 27, 29, 31, 33, 35, 37, 39, 41, 43, 45, 47, 49, 51, 53, 55, 57, 59, 61, 63, 65, 67, 69, 71, 73, 75, 77, 79, 81, 83, 85, 87, 89, 91, 93, 95, 97, 99]\n"
     ]
    }
   ],
   "source": [
    "print(\"Odd Numbers =\", L1)"
   ]
  },
  {
   "cell_type": "markdown",
   "id": "87bfaaf3",
   "metadata": {},
   "source": [
    "<h4 style='text-align: right;'> Yash Sanjeev Halwai </h4>"
   ]
  }
 ],
 "metadata": {
  "kernelspec": {
   "display_name": "Python 3 (ipykernel)",
   "language": "python",
   "name": "python3"
  },
  "language_info": {
   "codemirror_mode": {
    "name": "ipython",
    "version": 3
   },
   "file_extension": ".py",
   "mimetype": "text/x-python",
   "name": "python",
   "nbconvert_exporter": "python",
   "pygments_lexer": "ipython3",
   "version": "3.9.7"
  }
 },
 "nbformat": 4,
 "nbformat_minor": 5
}
