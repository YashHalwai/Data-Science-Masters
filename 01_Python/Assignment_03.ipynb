{
 "cells": [
  {
   "cell_type": "markdown",
   "id": "6e14d937",
   "metadata": {},
   "source": [
    "<div style = \"text-align: center\"> <h1> Assignment 3 </h1> </div>"
   ]
  },
  {
   "cell_type": "markdown",
   "id": "2a8178f2",
   "metadata": {},
   "source": [
    "<h2 style = 'text-align: left';> Assignment Questions </h2>"
   ]
  },
  {
   "cell_type": "markdown",
   "id": "b7760921",
   "metadata": {},
   "source": [
    "<h3 style = 'text-align: left';> 1. Explain with an example each when to use a for loop and a while loop. </h3>"
   ]
  },
  {
   "cell_type": "markdown",
   "id": "aa7f6ab4",
   "metadata": {},
   "source": [
    "<h3 style =  'text-align: left';> (A) For Loop: - </h3>"
   ]
  },
  {
   "cell_type": "markdown",
   "id": "0b83ea05",
   "metadata": {},
   "source": [
    "<p><b>A for loop is used for iterating over a sequence (that is either a list, a tuple, a dictionary, a set, or a string).<br>\n",
    "This is less like the for keyword in other programming languages, and works more like an iterator method as found in other object-orientated programming languages.<br>\n",
    "With the for loop we can execute a set of statements, once for each item in a list, tuple, set etc.</b><br>\n",
    "</p>"
   ]
  },
  {
   "cell_type": "markdown",
   "id": "20d987ad",
   "metadata": {},
   "source": [
    "<h3 style = 'text-align: left';> Example 1: - </h3>"
   ]
  },
  {
   "cell_type": "code",
   "execution_count": 103,
   "id": "f97d47d9",
   "metadata": {},
   "outputs": [
    {
     "name": "stdout",
     "output_type": "stream",
     "text": [
      "Web Developer\n",
      "Java Developer\n",
      "Python Developer\n",
      "Business Analyst\n",
      "Data Scientist\n"
     ]
    }
   ],
   "source": [
    "job_profile = [\"Web Developer\", \"Java Developer\", \"Python Developer\", \"Business Analyst\", \"Data Scientist\"]\n",
    "\n",
    "for i in job_profile:\n",
    "    print(i)"
   ]
  },
  {
   "cell_type": "markdown",
   "id": "b0c9c374",
   "metadata": {},
   "source": [
    "<h3 style = 'text-align: left';> Example 2: - </h3>"
   ]
  },
  {
   "cell_type": "code",
   "execution_count": 104,
   "id": "22a95086",
   "metadata": {},
   "outputs": [
    {
     "name": "stdout",
     "output_type": "stream",
     "text": [
      "0\n",
      "1\n",
      "2\n",
      "3\n",
      "4\n",
      "5\n"
     ]
    }
   ],
   "source": [
    "for x in range(6):\n",
    "    print(x)"
   ]
  },
  {
   "cell_type": "markdown",
   "id": "a7a9bfad",
   "metadata": {},
   "source": [
    "<h3 style = 'text-align: left';> (B) While Loop: - </h3>"
   ]
  },
  {
   "cell_type": "markdown",
   "id": "d40da2e9",
   "metadata": {},
   "source": [
    "<p>\n",
    "<b>\n",
    "Python While Loop is used to execute a block of statements repeatedly until a given condition is satisfied. <br>\n",
    "And when the condition becomes false, the line immediately after the loop in the program is executed.\n",
    "\n",
    "Syntax: \n",
    "    \n",
    "while expression:  \n",
    "&emsp;&emsp;statement(s)\n",
    "</b>\n",
    "</p>"
   ]
  },
  {
   "cell_type": "markdown",
   "id": "639d3fe5",
   "metadata": {},
   "source": [
    "<h3 style = 'text-align: left';> Example 1: - </h3>"
   ]
  },
  {
   "cell_type": "code",
   "execution_count": 107,
   "id": "637d3d2c",
   "metadata": {},
   "outputs": [
    {
     "name": "stdout",
     "output_type": "stream",
     "text": [
      "5\n",
      "4\n",
      "3\n",
      "2\n",
      "1\n"
     ]
    }
   ],
   "source": [
    "a = [1,2,3,4,5]\n",
    "\n",
    "while a:\n",
    "    print(a.pop())"
   ]
  },
  {
   "cell_type": "markdown",
   "id": "01c87aab",
   "metadata": {},
   "source": [
    "<h3 style = 'text-align: left';> Example 2: - </h3>"
   ]
  },
  {
   "cell_type": "code",
   "execution_count": 108,
   "id": "50f79e3f",
   "metadata": {},
   "outputs": [
    {
     "name": "stdout",
     "output_type": "stream",
     "text": [
      "7 X 1 = 7\n",
      "7 X 2 = 14\n",
      "7 X 3 = 21\n",
      "7 X 4 = 28\n",
      "7 X 5 = 35\n",
      "7 X 6 = 42\n",
      "7 X 7 = 49\n",
      "7 X 8 = 56\n",
      "7 X 9 = 63\n",
      "7 X 10 = 70\n"
     ]
    }
   ],
   "source": [
    "n = 7\n",
    "\n",
    "i = 1\n",
    "\n",
    "while i <= 10:\n",
    "    print(n, \"X\", i, \"=\", n*i)\n",
    "    i = i + 1"
   ]
  },
  {
   "cell_type": "markdown",
   "id": "93e5e12f",
   "metadata": {},
   "source": [
    "<h3 style = 'text-align: left';> 2. Write a python program to print the sum and product of the first 10 natural numbers using for and while loop. </h3>"
   ]
  },
  {
   "cell_type": "markdown",
   "id": "e315e48f",
   "metadata": {},
   "source": [
    "<h3 style = 'text-align: left';> (A) For Loop: - </h3>"
   ]
  },
  {
   "cell_type": "code",
   "execution_count": 110,
   "id": "d164141f",
   "metadata": {},
   "outputs": [
    {
     "name": "stdout",
     "output_type": "stream",
     "text": [
      "Sum of the first 10 natural number is 55\n",
      "Product of the first 10 natural number is 3628800\n"
     ]
    }
   ],
   "source": [
    "sum = 0\n",
    "prd = 1\n",
    "for i in range (1,11):\n",
    "    sum = sum + i\n",
    "    prd = prd * i\n",
    "print(\"Sum of the first 10 natural number is\", sum)\n",
    "print(\"Product of the first 10 natural number is\", prd)"
   ]
  },
  {
   "cell_type": "markdown",
   "id": "96cfacbf",
   "metadata": {},
   "source": [
    "<h3 style = 'text-align: left';> (B) While Loop: - </h3>"
   ]
  },
  {
   "cell_type": "code",
   "execution_count": 111,
   "id": "b3802017",
   "metadata": {},
   "outputs": [
    {
     "name": "stdout",
     "output_type": "stream",
     "text": [
      "Sum of the first 10 natural number is 55\n",
      "Product of the first 10 natural number is 3628800\n"
     ]
    }
   ],
   "source": [
    "n = 10\n",
    "i = 1\n",
    "\n",
    "s = 0\n",
    "p = 1\n",
    "\n",
    "while i <= n:\n",
    "    s = s + i\n",
    "    p = p * i\n",
    "    \n",
    "    i = i + 1\n",
    "\n",
    "print(\"Sum of the first 10 natural number is\", sum)\n",
    "print(\"Product of the first 10 natural number is\", prd)"
   ]
  },
  {
   "cell_type": "markdown",
   "id": "457614f2",
   "metadata": {},
   "source": [
    "<h3 style = 'text-align: left';> \n",
    "3. Create a python program to compute the electricity bill for a household.<br><br>\n",
    "The per-unit charges in rupees are as follows:<br>\n",
    "For the first 100 units, the user will be charged Rs. 4.5 per unit<br>\n",
    "For the next 100 units , the user will be charged Rs. 6 per unit<br>\n",
    "And for the next 100 units, the user will be charged Rs. 10 per unit<br>\n",
    "After 300 hours units and above the user will be charged Rs. 20 per unit <br>\n",
    "\n",
    "You are required to take the units of electricity consumed in a month from the user as input.<br>\n",
    "\n",
    "Your program must pass this test case: when the unit of electricity consumed by the user in a month is \n",
    "310, the total electricity bill should be 2250<br>\n",
    "</h3>"
   ]
  },
  {
   "cell_type": "code",
   "execution_count": 112,
   "id": "d52ce148",
   "metadata": {},
   "outputs": [
    {
     "name": "stdout",
     "output_type": "stream",
     "text": [
      "Enter the unit of electricity consumed: 310\n",
      "Electricity is consumed: 2250.0\n"
     ]
    }
   ],
   "source": [
    "unit_of_electricity = int(input(\"Enter the unit of electricity consumed: \"))\n",
    "\n",
    "if(unit_of_electricity <= 100):\n",
    "    print(\"Electricity is consumed:\",unit_of_electricity * 4.5)\n",
    "elif(unit_of_electricity > 100 and unit_of_electricity <= 200):\n",
    "    print(\"Electricity is consumed:\",(100 * 4.5) + (unit_of_electricity - 100) * 6)\n",
    "elif(unit_of_electricity > 200 and unit_of_electricity  <= 300):\n",
    "    print(\"Electricity is consumed:\",(100*4.5) + (100*6) + (unit_of_electricity  - 200) * 10)\n",
    "else:\n",
    "    print(\"Electricity is consumed:\", (100*4.5) + (100*6) + (100*10) + (unit_of_electricity  - 300) * 20)"
   ]
  },
  {
   "cell_type": "markdown",
   "id": "55f0b880",
   "metadata": {},
   "source": [
    "<h3 style = 'text-align: left';> 4.  Create a list of numbers from 1 to 100. Use for loop and while loop to calculate the cube of each \n",
    "number and if the cube of that number is divisible by 4 or 5 then append that number in a list and print \n",
    "that list. </h3>"
   ]
  },
  {
   "cell_type": "code",
   "execution_count": 95,
   "id": "8856645a",
   "metadata": {},
   "outputs": [],
   "source": [
    "numbers = list(range(1,101))"
   ]
  },
  {
   "cell_type": "markdown",
   "id": "e5a8e6fc",
   "metadata": {},
   "source": [
    "<h3 style = 'text-align: left';> (A) For Loop: - </h3>"
   ]
  },
  {
   "cell_type": "code",
   "execution_count": 113,
   "id": "6512a935",
   "metadata": {},
   "outputs": [
    {
     "name": "stdout",
     "output_type": "stream",
     "text": [
      "1 = 1\n",
      "2 = 8\n",
      "3 = 27\n",
      "4 = 64\n",
      "5 = 125\n",
      "6 = 216\n",
      "7 = 343\n",
      "8 = 512\n",
      "9 = 729\n",
      "10 = 1000\n",
      "11 = 1331\n",
      "12 = 1728\n",
      "13 = 2197\n",
      "14 = 2744\n",
      "15 = 3375\n",
      "16 = 4096\n",
      "17 = 4913\n",
      "18 = 5832\n",
      "19 = 6859\n",
      "20 = 8000\n",
      "21 = 9261\n",
      "22 = 10648\n",
      "23 = 12167\n",
      "24 = 13824\n",
      "25 = 15625\n",
      "26 = 17576\n",
      "27 = 19683\n",
      "28 = 21952\n",
      "29 = 24389\n",
      "30 = 27000\n",
      "31 = 29791\n",
      "32 = 32768\n",
      "33 = 35937\n",
      "34 = 39304\n",
      "35 = 42875\n",
      "36 = 46656\n",
      "37 = 50653\n",
      "38 = 54872\n",
      "39 = 59319\n",
      "40 = 64000\n",
      "41 = 68921\n",
      "42 = 74088\n",
      "43 = 79507\n",
      "44 = 85184\n",
      "45 = 91125\n",
      "46 = 97336\n",
      "47 = 103823\n",
      "48 = 110592\n",
      "49 = 117649\n",
      "50 = 125000\n",
      "51 = 132651\n",
      "52 = 140608\n",
      "53 = 148877\n",
      "54 = 157464\n",
      "55 = 166375\n",
      "56 = 175616\n",
      "57 = 185193\n",
      "58 = 195112\n",
      "59 = 205379\n",
      "60 = 216000\n",
      "61 = 226981\n",
      "62 = 238328\n",
      "63 = 250047\n",
      "64 = 262144\n",
      "65 = 274625\n",
      "66 = 287496\n",
      "67 = 300763\n",
      "68 = 314432\n",
      "69 = 328509\n",
      "70 = 343000\n",
      "71 = 357911\n",
      "72 = 373248\n",
      "73 = 389017\n",
      "74 = 405224\n",
      "75 = 421875\n",
      "76 = 438976\n",
      "77 = 456533\n",
      "78 = 474552\n",
      "79 = 493039\n",
      "80 = 512000\n",
      "81 = 531441\n",
      "82 = 551368\n",
      "83 = 571787\n",
      "84 = 592704\n",
      "85 = 614125\n",
      "86 = 636056\n",
      "87 = 658503\n",
      "88 = 681472\n",
      "89 = 704969\n",
      "90 = 729000\n",
      "91 = 753571\n",
      "92 = 778688\n",
      "93 = 804357\n",
      "94 = 830584\n",
      "95 = 857375\n",
      "96 = 884736\n",
      "97 = 912673\n",
      "98 = 941192\n",
      "99 = 970299\n",
      "100 = 1000000\n",
      "The number whose cube is divisible by 4 or 5: [2, 4, 5, 6, 8, 10, 12, 14, 15, 16, 18, 20, 22, 24, 25, 26, 28, 30, 32, 34, 35, 36, 38, 40, 42, 44, 45, 46, 48, 50, 52, 54, 55, 56, 58, 60, 62, 64, 65, 66, 68, 70, 72, 74, 75, 76, 78, 80, 82, 84, 85, 86, 88, 90, 92, 94, 95, 96, 98, 100]\n"
     ]
    }
   ],
   "source": [
    "l1 = []\n",
    "for i in numbers:\n",
    "    cube = i * i * i\n",
    "    print(i,\"=\",cube)\n",
    "    if(cube % 4 == 0 or cube % 5 == 0):\n",
    "        l1.append(i)\n",
    "    i = i + 1    \n",
    "print(\"The number whose cube is divisible by 4 or 5:\",l1)    "
   ]
  },
  {
   "cell_type": "markdown",
   "id": "173a3a1b",
   "metadata": {},
   "source": [
    "<h3  style = 'text-align: left';> (B) While Loop: - </h3>\n"
   ]
  },
  {
   "cell_type": "code",
   "execution_count": 114,
   "id": "e915f950",
   "metadata": {},
   "outputs": [
    {
     "data": {
      "text/plain": [
       "100"
      ]
     },
     "execution_count": 114,
     "metadata": {},
     "output_type": "execute_result"
    }
   ],
   "source": [
    "len(numbers)"
   ]
  },
  {
   "cell_type": "code",
   "execution_count": 115,
   "id": "2b7a2967",
   "metadata": {},
   "outputs": [
    {
     "name": "stdout",
     "output_type": "stream",
     "text": [
      "1 = 1\n",
      "2 = 8\n",
      "3 = 27\n",
      "4 = 64\n",
      "5 = 125\n",
      "6 = 216\n",
      "7 = 343\n",
      "8 = 512\n",
      "9 = 729\n",
      "10 = 1000\n",
      "11 = 1331\n",
      "12 = 1728\n",
      "13 = 2197\n",
      "14 = 2744\n",
      "15 = 3375\n",
      "16 = 4096\n",
      "17 = 4913\n",
      "18 = 5832\n",
      "19 = 6859\n",
      "20 = 8000\n",
      "21 = 9261\n",
      "22 = 10648\n",
      "23 = 12167\n",
      "24 = 13824\n",
      "25 = 15625\n",
      "26 = 17576\n",
      "27 = 19683\n",
      "28 = 21952\n",
      "29 = 24389\n",
      "30 = 27000\n",
      "31 = 29791\n",
      "32 = 32768\n",
      "33 = 35937\n",
      "34 = 39304\n",
      "35 = 42875\n",
      "36 = 46656\n",
      "37 = 50653\n",
      "38 = 54872\n",
      "39 = 59319\n",
      "40 = 64000\n",
      "41 = 68921\n",
      "42 = 74088\n",
      "43 = 79507\n",
      "44 = 85184\n",
      "45 = 91125\n",
      "46 = 97336\n",
      "47 = 103823\n",
      "48 = 110592\n",
      "49 = 117649\n",
      "50 = 125000\n",
      "51 = 132651\n",
      "52 = 140608\n",
      "53 = 148877\n",
      "54 = 157464\n",
      "55 = 166375\n",
      "56 = 175616\n",
      "57 = 185193\n",
      "58 = 195112\n",
      "59 = 205379\n",
      "60 = 216000\n",
      "61 = 226981\n",
      "62 = 238328\n",
      "63 = 250047\n",
      "64 = 262144\n",
      "65 = 274625\n",
      "66 = 287496\n",
      "67 = 300763\n",
      "68 = 314432\n",
      "69 = 328509\n",
      "70 = 343000\n",
      "71 = 357911\n",
      "72 = 373248\n",
      "73 = 389017\n",
      "74 = 405224\n",
      "75 = 421875\n",
      "76 = 438976\n",
      "77 = 456533\n",
      "78 = 474552\n",
      "79 = 493039\n",
      "80 = 512000\n",
      "81 = 531441\n",
      "82 = 551368\n",
      "83 = 571787\n",
      "84 = 592704\n",
      "85 = 614125\n",
      "86 = 636056\n",
      "87 = 658503\n",
      "88 = 681472\n",
      "89 = 704969\n",
      "90 = 729000\n",
      "91 = 753571\n",
      "92 = 778688\n",
      "93 = 804357\n",
      "94 = 830584\n",
      "95 = 857375\n",
      "96 = 884736\n",
      "97 = 912673\n",
      "98 = 941192\n",
      "99 = 970299\n",
      "100 = 1000000\n",
      "The number whose cube is divisible by 4 or 5: [2, 4, 5, 6, 8, 10, 12, 14, 15, 16, 18, 20, 22, 24, 25, 26, 28, 30, 32, 34, 35, 36, 38, 40, 42, 44, 45, 46, 48, 50, 52, 54, 55, 56, 58, 60, 62, 64, 65, 66, 68, 70, 72, 74, 75, 76, 78, 80, 82, 84, 85, 86, 88, 90, 92, 94, 95, 96, 98, 100]\n"
     ]
    }
   ],
   "source": [
    "j = 1\n",
    "\n",
    "l2 = []\n",
    "\n",
    "while j <= len(numbers):\n",
    "    c = j * j * j\n",
    "    print(j,\"=\",c)\n",
    "    if(c % 4 == 0 or c % 5 == 0):\n",
    "        l2.append(j)\n",
    "    j = j + 1\n",
    "print(\"The number whose cube is divisible by 4 or 5:\",l2)      "
   ]
  },
  {
   "cell_type": "markdown",
   "id": "fd92a2a8",
   "metadata": {},
   "source": [
    "<h3 style = 'text-align: left';> 5.  Write a program to filter count vowels in the below-given string. <br>\n",
    "\n",
    "string = \"I want to become a data scientist\" </h3>"
   ]
  },
  {
   "cell_type": "code",
   "execution_count": 100,
   "id": "73ad72cd",
   "metadata": {},
   "outputs": [
    {
     "name": "stdout",
     "output_type": "stream",
     "text": [
      "Filter vowels: ['I', 'a', 'o', 'e', 'o', 'e', 'a', 'a', 'a', 'i', 'e', 'i']\n",
      "Count vowels: 12\n"
     ]
    }
   ],
   "source": [
    "filter = []\n",
    "count = 0\n",
    "str = \"I want to become a data scientist\"\n",
    "for i in str:\n",
    "    if i == \"a\" or i == \"e\" or i == \"i\" or i == \"o\" or i == \"u\" or i == \"A\" or i == \"E\" or i == \"I\" or i == \"O\" or i == \"U\":\n",
    "        filter.append(i)\n",
    "        count = count + 1;\n",
    "print(\"Filter vowels:\",filter)        \n",
    "print(\"Count vowels:\",count)        "
   ]
  },
  {
   "cell_type": "markdown",
   "id": "33346f20",
   "metadata": {},
   "source": [
    "<h4 style='text-align: right;'><b> Yash Sanjeev Halwai </b> </h4>"
   ]
  }
 ],
 "metadata": {
  "kernelspec": {
   "display_name": "Python 3 (ipykernel)",
   "language": "python",
   "name": "python3"
  },
  "language_info": {
   "codemirror_mode": {
    "name": "ipython",
    "version": 3
   },
   "file_extension": ".py",
   "mimetype": "text/x-python",
   "name": "python",
   "nbconvert_exporter": "python",
   "pygments_lexer": "ipython3",
   "version": "3.9.7"
  }
 },
 "nbformat": 4,
 "nbformat_minor": 5
}
