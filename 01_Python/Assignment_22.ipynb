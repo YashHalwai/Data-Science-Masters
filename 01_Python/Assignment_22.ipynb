{
 "cells": [
  {
   "cell_type": "markdown",
   "id": "9872c815",
   "metadata": {},
   "source": [
    "<div style=\"text-align: center\"> <h1>Assignment 22</h1></div>"
   ]
  },
  {
   "cell_type": "markdown",
   "id": "e30cb007",
   "metadata": {},
   "source": [
    "<h2 style='text-align: left;'> Assignment Questions </h2>"
   ]
  },
  {
   "cell_type": "markdown",
   "id": "52d56f2c",
   "metadata": {},
   "source": [
    "<h3 style='text-align: left;'> 1.  Create a Pandas Series that contains the following data: 4, 8, 15, 16, 23, and 42. Then, print the series. </h3>"
   ]
  },
  {
   "cell_type": "code",
   "execution_count": 2,
   "id": "0d866b65",
   "metadata": {},
   "outputs": [],
   "source": [
    "import pandas as pd"
   ]
  },
  {
   "cell_type": "code",
   "execution_count": 7,
   "id": "ae8e3c37",
   "metadata": {},
   "outputs": [],
   "source": [
    "s = pd.Series((4,8,15,16,23,42)) "
   ]
  },
  {
   "cell_type": "code",
   "execution_count": 8,
   "id": "538419b8",
   "metadata": {},
   "outputs": [
    {
     "name": "stdout",
     "output_type": "stream",
     "text": [
      "0     4\n",
      "1     8\n",
      "2    15\n",
      "3    16\n",
      "4    23\n",
      "5    42\n",
      "dtype: int64\n"
     ]
    }
   ],
   "source": [
    "print(s)"
   ]
  },
  {
   "cell_type": "markdown",
   "id": "fab5133c",
   "metadata": {},
   "source": [
    "<h3 style='text-align: left;'> 2. Create a variable of list type containing 10 elements in it, and apply pandas.Series function on the variable print it. </h3>"
   ]
  },
  {
   "cell_type": "code",
   "execution_count": 11,
   "id": "89d23642",
   "metadata": {},
   "outputs": [],
   "source": [
    "l = [1,2,3,4,5,6,7,8,9,10]"
   ]
  },
  {
   "cell_type": "code",
   "execution_count": 13,
   "id": "45ca48cf",
   "metadata": {},
   "outputs": [],
   "source": [
    "s1 = pd.Series(l)"
   ]
  },
  {
   "cell_type": "code",
   "execution_count": 14,
   "id": "bfbdd9cf",
   "metadata": {},
   "outputs": [
    {
     "name": "stdout",
     "output_type": "stream",
     "text": [
      "0     1\n",
      "1     2\n",
      "2     3\n",
      "3     4\n",
      "4     5\n",
      "5     6\n",
      "6     7\n",
      "7     8\n",
      "8     9\n",
      "9    10\n",
      "dtype: int64\n"
     ]
    }
   ],
   "source": [
    "print(s1)"
   ]
  },
  {
   "cell_type": "markdown",
   "id": "0f7f8605",
   "metadata": {},
   "source": [
    "<h3 style='text-align: left;'> 3. Create a Pandas DataFrame that contains the following data: </h3>\n",
    "\n",
    "<table border=\"1\">\n",
    "    <tr>\n",
    "        <td>Name</td>\n",
    "        <td>Age</td>\n",
    "        <td>Gender</td>\n",
    "    </tr>\n",
    "    <tr>\n",
    "        <td>Alice</td>\n",
    "        <td>25</td>\n",
    "        <td>Female</td>\n",
    "    </tr>\n",
    "    <tr>\n",
    "        <td>Bob</td>\n",
    "        <td>30</td>\n",
    "        <td>Male</td>\n",
    "    </tr>\n",
    "     <tr>\n",
    "        <td>Claire</td>\n",
    "        <td>27</td>\n",
    "        <td>Female</td>\n",
    "    </tr>\n",
    "</table>\n",
    "<h3> Then, print the DataFrame </h3>"
   ]
  },
  {
   "cell_type": "code",
   "execution_count": 38,
   "id": "e4407550",
   "metadata": {},
   "outputs": [],
   "source": [
    "df = pd.DataFrame([[\"Alice\",25 , \"Female\"], [\"Bob\",30,\"Male\"], [\"Claire\", 27, \"Female\"]], columns = [\"Name\", \"Age\", \"Gender\"]) \n",
    "# we specify value for rows"
   ]
  },
  {
   "cell_type": "code",
   "execution_count": 39,
   "id": "8135ed11",
   "metadata": {},
   "outputs": [
    {
     "data": {
      "text/html": [
       "<div>\n",
       "<style scoped>\n",
       "    .dataframe tbody tr th:only-of-type {\n",
       "        vertical-align: middle;\n",
       "    }\n",
       "\n",
       "    .dataframe tbody tr th {\n",
       "        vertical-align: top;\n",
       "    }\n",
       "\n",
       "    .dataframe thead th {\n",
       "        text-align: right;\n",
       "    }\n",
       "</style>\n",
       "<table border=\"1\" class=\"dataframe\">\n",
       "  <thead>\n",
       "    <tr style=\"text-align: right;\">\n",
       "      <th></th>\n",
       "      <th>Name</th>\n",
       "      <th>Age</th>\n",
       "      <th>Gender</th>\n",
       "    </tr>\n",
       "  </thead>\n",
       "  <tbody>\n",
       "    <tr>\n",
       "      <th>0</th>\n",
       "      <td>Alice</td>\n",
       "      <td>25</td>\n",
       "      <td>Female</td>\n",
       "    </tr>\n",
       "    <tr>\n",
       "      <th>1</th>\n",
       "      <td>Bob</td>\n",
       "      <td>30</td>\n",
       "      <td>Male</td>\n",
       "    </tr>\n",
       "    <tr>\n",
       "      <th>2</th>\n",
       "      <td>Claire</td>\n",
       "      <td>27</td>\n",
       "      <td>Female</td>\n",
       "    </tr>\n",
       "  </tbody>\n",
       "</table>\n",
       "</div>"
      ],
      "text/plain": [
       "     Name  Age  Gender\n",
       "0   Alice   25  Female\n",
       "1     Bob   30    Male\n",
       "2  Claire   27  Female"
      ]
     },
     "execution_count": 39,
     "metadata": {},
     "output_type": "execute_result"
    }
   ],
   "source": [
    "df"
   ]
  },
  {
   "cell_type": "code",
   "execution_count": 35,
   "id": "b79811bd",
   "metadata": {},
   "outputs": [],
   "source": [
    "data = {\"Name\" : ['Alice', 'Bob', 'Claire'], \"Age\" : [25,30,27], \"Gender\" : [\"Female\", \"Male\", \"Feamle\"]}\n",
    "# we specify value for each columns"
   ]
  },
  {
   "cell_type": "code",
   "execution_count": 36,
   "id": "736469f6",
   "metadata": {},
   "outputs": [],
   "source": [
    "df1 = pd.DataFrame(data)"
   ]
  },
  {
   "cell_type": "code",
   "execution_count": 37,
   "id": "ed1febd4",
   "metadata": {},
   "outputs": [
    {
     "data": {
      "text/html": [
       "<div>\n",
       "<style scoped>\n",
       "    .dataframe tbody tr th:only-of-type {\n",
       "        vertical-align: middle;\n",
       "    }\n",
       "\n",
       "    .dataframe tbody tr th {\n",
       "        vertical-align: top;\n",
       "    }\n",
       "\n",
       "    .dataframe thead th {\n",
       "        text-align: right;\n",
       "    }\n",
       "</style>\n",
       "<table border=\"1\" class=\"dataframe\">\n",
       "  <thead>\n",
       "    <tr style=\"text-align: right;\">\n",
       "      <th></th>\n",
       "      <th>Name</th>\n",
       "      <th>Age</th>\n",
       "      <th>Gender</th>\n",
       "    </tr>\n",
       "  </thead>\n",
       "  <tbody>\n",
       "    <tr>\n",
       "      <th>0</th>\n",
       "      <td>Alice</td>\n",
       "      <td>25</td>\n",
       "      <td>Female</td>\n",
       "    </tr>\n",
       "    <tr>\n",
       "      <th>1</th>\n",
       "      <td>Bob</td>\n",
       "      <td>30</td>\n",
       "      <td>Male</td>\n",
       "    </tr>\n",
       "    <tr>\n",
       "      <th>2</th>\n",
       "      <td>Claire</td>\n",
       "      <td>27</td>\n",
       "      <td>Feamle</td>\n",
       "    </tr>\n",
       "  </tbody>\n",
       "</table>\n",
       "</div>"
      ],
      "text/plain": [
       "     Name  Age  Gender\n",
       "0   Alice   25  Female\n",
       "1     Bob   30    Male\n",
       "2  Claire   27  Feamle"
      ]
     },
     "execution_count": 37,
     "metadata": {},
     "output_type": "execute_result"
    }
   ],
   "source": [
    "df1"
   ]
  },
  {
   "cell_type": "markdown",
   "id": "a8c293e8",
   "metadata": {},
   "source": [
    "<h3 style='text-align: left;'> 4.  What is ‘DataFrame’ in pandas and how is it different from pandas.series? Explain with an example. </h3>"
   ]
  },
  {
   "cell_type": "markdown",
   "id": "1c410d44",
   "metadata": {},
   "source": [
    "<p> <b> Ans:- </b> <br><br> In the context of the Python library pandas, a `DataFrame` is a two-dimensional tabular data structure that can store and manipulate data in a structured and organized manner. It is similar to a table in a relational database or an Excel spreadsheet. Each column in a `DataFrame` can hold data of different types, such as integers, floats, strings, etc. It provides powerful tools for data manipulation, analysis, and cleaning.\n",
    "\n",
    "On the other hand, a `Series` is a one-dimensional array-like data structure in pandas. It can be thought of as a single column from a `DataFrame`. A `Series` holds an array of data along with an associated array of data labels, which are referred to as the index.\n",
    "\n",
    "\n",
    "In this example, `df` is a `DataFrame` with three columns: 'Name', 'Age', and 'City'. Each column is a `Series` containing the respective data. The `ages` variable is a standalone `Series` containing the ages of individuals.\n",
    "\n",
    "Key differences:\n",
    "1. `DataFrame` is a two-dimensional structure with rows and columns, while `Series` is a one-dimensional array with an index.\n",
    "2. `DataFrame` can hold multiple columns of data, each potentially of a different type, while `Series` is designed to hold a single column of data of the same type.\n",
    "3. `DataFrame` provides more functionalities for data manipulation across multiple columns, while `Series` is more suited for working with a single column of data.\n",
    "\n",
    "In summary, `DataFrame` is a more comprehensive structure for handling structured data, while `Series` is used for working with a single column of data. <br>  </p>"
   ]
  },
  {
   "cell_type": "code",
   "execution_count": 40,
   "id": "fcfc99d6",
   "metadata": {},
   "outputs": [
    {
     "name": "stdout",
     "output_type": "stream",
     "text": [
      "DataFrame:\n",
      "      Name  Age           City\n",
      "0    Alice   25       New York\n",
      "1      Bob   30         London\n",
      "2  Charlie   28  San Francisco\n",
      "\n",
      "Series:\n",
      "0    25\n",
      "1    30\n",
      "2    28\n",
      "Name: Age, dtype: int64\n"
     ]
    }
   ],
   "source": [
    "import pandas as pd\n",
    "\n",
    "# Creating a DataFrame\n",
    "data = {'Name': ['Alice', 'Bob', 'Charlie'],\n",
    "        'Age': [25, 30, 28],\n",
    "        'City': ['New York', 'London', 'San Francisco']}\n",
    "\n",
    "df = pd.DataFrame(data)\n",
    "\n",
    "# Creating a Series\n",
    "ages = pd.Series([25, 30, 28], name='Age')\n",
    "\n",
    "print(\"DataFrame:\")\n",
    "print(df)\n",
    "print(\"\\nSeries:\")\n",
    "print(ages)\n"
   ]
  },
  {
   "cell_type": "markdown",
   "id": "a2f17fcb",
   "metadata": {},
   "source": [
    "<h3 style='text-align: left;'> 5. What are some common functions you can use to manipulate data in a Pandas DataFrame? Can \n",
    "you give an example of when you might use one of these functions? </h3>"
   ]
  },
  {
   "cell_type": "markdown",
   "id": "440aeab8",
   "metadata": {},
   "source": [
    "<p>  <b> Ans:- </b> <br><br> \n",
    "\n",
    "Pandas provides a wide range of functions for manipulating data in a DataFrame. Here are some common functions along with examples of when you might use them:\n",
    "\n",
    "1. **Selection and Indexing:**\n",
    "   - `df[column]`: Access a specific column.\n",
    "   - `df.loc[row_label, column_label]`: Access a specific cell by label.\n",
    "   - `df.iloc[row_index, column_index]`: Access a specific cell by index.\n",
    "\n",
    "2. **Filtering and Querying:**\n",
    "   - `df[df['column'] > value]`: Filter rows based on a condition.\n",
    "   - `df.query('condition')`: Query DataFrame using a string-based expression.\n",
    "\n",
    "3. **Grouping and Aggregation:**\n",
    "   - `df.groupby('column').agg_function()`: Group data by a column and apply an aggregation function.\n",
    "\n",
    "4. **Sorting:**\n",
    "   - `df.sort_values('column')`: Sort DataFrame by a column.\n",
    "   - `df.sort_index()`: Sort DataFrame by index.\n",
    "   \n",
    "5. **Joining and Merging:**\n",
    "   - `pd.merge(df1, df2, on='key')`: Merge two DataFrames on a common key.\n",
    "\n",
    "6. **Adding and Dropping Columns:**\n",
    "   - `df['new_column'] = value`: Add a new column.\n",
    "   - `df.drop('column', axis=1)`: Drop a column.\n",
    "\n",
    "7. **Handling Missing Data:**\n",
    "   - `df.dropna()`: Drop rows with missing values.\n",
    "   - `df.fillna(value)`: Fill missing values with a specified value.\n",
    "\n",
    "These are just a few examples of the many functions that Pandas provides for data manipulation. The specific functions you use will depend on your data analysis tasks and goals.\n",
    "    \n",
    "</p>"
   ]
  },
  {
   "cell_type": "code",
   "execution_count": 67,
   "id": "1f40dd84",
   "metadata": {},
   "outputs": [
    {
     "name": "stdout",
     "output_type": "stream",
     "text": [
      "0      Alice\n",
      "1        Bob\n",
      "2    Charlie\n",
      "Name: Name, dtype: object\n",
      "25\n"
     ]
    },
    {
     "data": {
      "text/html": [
       "<div>\n",
       "<style scoped>\n",
       "    .dataframe tbody tr th:only-of-type {\n",
       "        vertical-align: middle;\n",
       "    }\n",
       "\n",
       "    .dataframe tbody tr th {\n",
       "        vertical-align: top;\n",
       "    }\n",
       "\n",
       "    .dataframe thead th {\n",
       "        text-align: right;\n",
       "    }\n",
       "</style>\n",
       "<table border=\"1\" class=\"dataframe\">\n",
       "  <thead>\n",
       "    <tr style=\"text-align: right;\">\n",
       "      <th></th>\n",
       "      <th>Name</th>\n",
       "      <th>Age</th>\n",
       "    </tr>\n",
       "  </thead>\n",
       "  <tbody>\n",
       "    <tr>\n",
       "      <th>0</th>\n",
       "      <td>Alice</td>\n",
       "      <td>25</td>\n",
       "    </tr>\n",
       "    <tr>\n",
       "      <th>1</th>\n",
       "      <td>Bob</td>\n",
       "      <td>30</td>\n",
       "    </tr>\n",
       "    <tr>\n",
       "      <th>2</th>\n",
       "      <td>Charlie</td>\n",
       "      <td>28</td>\n",
       "    </tr>\n",
       "  </tbody>\n",
       "</table>\n",
       "</div>"
      ],
      "text/plain": [
       "      Name  Age\n",
       "0    Alice   25\n",
       "1      Bob   30\n",
       "2  Charlie   28"
      ]
     },
     "execution_count": 67,
     "metadata": {},
     "output_type": "execute_result"
    }
   ],
   "source": [
    "import pandas as pd\n",
    "\n",
    "data = {'Name': ['Alice', 'Bob', 'Charlie'],\n",
    "        'Age': [25, 30, 28]}\n",
    "df = pd.DataFrame(data)\n",
    "\n",
    "print(df['Name'])  # Access the 'Name' column\n",
    "print(df.loc[0, 'Age'])  # Access the cell in the first row and 'Age' column\n",
    "\n",
    "df"
   ]
  },
  {
   "cell_type": "code",
   "execution_count": 69,
   "id": "75fd5289",
   "metadata": {},
   "outputs": [
    {
     "data": {
      "text/html": [
       "<div>\n",
       "<style scoped>\n",
       "    .dataframe tbody tr th:only-of-type {\n",
       "        vertical-align: middle;\n",
       "    }\n",
       "\n",
       "    .dataframe tbody tr th {\n",
       "        vertical-align: top;\n",
       "    }\n",
       "\n",
       "    .dataframe thead th {\n",
       "        text-align: right;\n",
       "    }\n",
       "</style>\n",
       "<table border=\"1\" class=\"dataframe\">\n",
       "  <thead>\n",
       "    <tr style=\"text-align: right;\">\n",
       "      <th></th>\n",
       "      <th>Name</th>\n",
       "      <th>Age</th>\n",
       "    </tr>\n",
       "  </thead>\n",
       "  <tbody>\n",
       "    <tr>\n",
       "      <th>2</th>\n",
       "      <td>Charlie</td>\n",
       "      <td>28</td>\n",
       "    </tr>\n",
       "  </tbody>\n",
       "</table>\n",
       "</div>"
      ],
      "text/plain": [
       "      Name  Age\n",
       "2  Charlie   28"
      ]
     },
     "execution_count": 69,
     "metadata": {},
     "output_type": "execute_result"
    }
   ],
   "source": [
    "adults = df[df['Age'] > 25]  # Filter rows where Age is greater than 25\n",
    "charlies = df.query(\"Name == 'Charlie'\")  # Query rows with Name equal to 'Charlie'\n",
    "\n",
    "adults\n",
    "charlies"
   ]
  },
  {
   "cell_type": "code",
   "execution_count": 70,
   "id": "c9aee720",
   "metadata": {},
   "outputs": [
    {
     "data": {
      "text/plain": [
       "Age\n",
       "25    1\n",
       "28    1\n",
       "30    1\n",
       "Name: Name, dtype: int64"
      ]
     },
     "execution_count": 70,
     "metadata": {},
     "output_type": "execute_result"
    }
   ],
   "source": [
    "grouped = df.groupby('Age')['Name'].count()  # Count occurrences of each age\n",
    "grouped"
   ]
  },
  {
   "cell_type": "code",
   "execution_count": 71,
   "id": "3f066dd1",
   "metadata": {},
   "outputs": [
    {
     "data": {
      "text/html": [
       "<div>\n",
       "<style scoped>\n",
       "    .dataframe tbody tr th:only-of-type {\n",
       "        vertical-align: middle;\n",
       "    }\n",
       "\n",
       "    .dataframe tbody tr th {\n",
       "        vertical-align: top;\n",
       "    }\n",
       "\n",
       "    .dataframe thead th {\n",
       "        text-align: right;\n",
       "    }\n",
       "</style>\n",
       "<table border=\"1\" class=\"dataframe\">\n",
       "  <thead>\n",
       "    <tr style=\"text-align: right;\">\n",
       "      <th></th>\n",
       "      <th>Name</th>\n",
       "      <th>Age</th>\n",
       "    </tr>\n",
       "  </thead>\n",
       "  <tbody>\n",
       "    <tr>\n",
       "      <th>1</th>\n",
       "      <td>Bob</td>\n",
       "      <td>30</td>\n",
       "    </tr>\n",
       "    <tr>\n",
       "      <th>2</th>\n",
       "      <td>Charlie</td>\n",
       "      <td>28</td>\n",
       "    </tr>\n",
       "    <tr>\n",
       "      <th>0</th>\n",
       "      <td>Alice</td>\n",
       "      <td>25</td>\n",
       "    </tr>\n",
       "  </tbody>\n",
       "</table>\n",
       "</div>"
      ],
      "text/plain": [
       "      Name  Age\n",
       "1      Bob   30\n",
       "2  Charlie   28\n",
       "0    Alice   25"
      ]
     },
     "execution_count": 71,
     "metadata": {},
     "output_type": "execute_result"
    }
   ],
   "source": [
    "sorted_df = df.sort_values('Age', ascending=False)  # Sort by 'Age' in descending order\n",
    "sorted_df"
   ]
  },
  {
   "cell_type": "code",
   "execution_count": 77,
   "id": "3925520b",
   "metadata": {},
   "outputs": [
    {
     "data": {
      "text/html": [
       "<div>\n",
       "<style scoped>\n",
       "    .dataframe tbody tr th:only-of-type {\n",
       "        vertical-align: middle;\n",
       "    }\n",
       "\n",
       "    .dataframe tbody tr th {\n",
       "        vertical-align: top;\n",
       "    }\n",
       "\n",
       "    .dataframe thead th {\n",
       "        text-align: right;\n",
       "    }\n",
       "</style>\n",
       "<table border=\"1\" class=\"dataframe\">\n",
       "  <thead>\n",
       "    <tr style=\"text-align: right;\">\n",
       "      <th></th>\n",
       "      <th>ID</th>\n",
       "      <th>Value1</th>\n",
       "    </tr>\n",
       "  </thead>\n",
       "  <tbody>\n",
       "    <tr>\n",
       "      <th>0</th>\n",
       "      <td>1</td>\n",
       "      <td>10</td>\n",
       "    </tr>\n",
       "    <tr>\n",
       "      <th>1</th>\n",
       "      <td>2</td>\n",
       "      <td>20</td>\n",
       "    </tr>\n",
       "    <tr>\n",
       "      <th>2</th>\n",
       "      <td>3</td>\n",
       "      <td>30</td>\n",
       "    </tr>\n",
       "  </tbody>\n",
       "</table>\n",
       "</div>"
      ],
      "text/plain": [
       "   ID  Value1\n",
       "0   1      10\n",
       "1   2      20\n",
       "2   3      30"
      ]
     },
     "execution_count": 77,
     "metadata": {},
     "output_type": "execute_result"
    }
   ],
   "source": [
    "df1 = pd.DataFrame({'ID': [1, 2, 3], 'Value1': [10, 20, 30]})\n",
    "df2 = pd.DataFrame({'ID': [2, 3, 4], 'Value2': [15, 25, 35]})\n",
    "merged = pd.merge(df1, df2, on='ID')  # Merge based on 'ID' column\n",
    "df1"
   ]
  },
  {
   "cell_type": "code",
   "execution_count": 80,
   "id": "5de7ff19",
   "metadata": {},
   "outputs": [
    {
     "data": {
      "text/html": [
       "<div>\n",
       "<style scoped>\n",
       "    .dataframe tbody tr th:only-of-type {\n",
       "        vertical-align: middle;\n",
       "    }\n",
       "\n",
       "    .dataframe tbody tr th {\n",
       "        vertical-align: top;\n",
       "    }\n",
       "\n",
       "    .dataframe thead th {\n",
       "        text-align: right;\n",
       "    }\n",
       "</style>\n",
       "<table border=\"1\" class=\"dataframe\">\n",
       "  <thead>\n",
       "    <tr style=\"text-align: right;\">\n",
       "      <th></th>\n",
       "      <th>ID</th>\n",
       "      <th>Value2</th>\n",
       "    </tr>\n",
       "  </thead>\n",
       "  <tbody>\n",
       "    <tr>\n",
       "      <th>0</th>\n",
       "      <td>2</td>\n",
       "      <td>15</td>\n",
       "    </tr>\n",
       "    <tr>\n",
       "      <th>1</th>\n",
       "      <td>3</td>\n",
       "      <td>25</td>\n",
       "    </tr>\n",
       "    <tr>\n",
       "      <th>2</th>\n",
       "      <td>4</td>\n",
       "      <td>35</td>\n",
       "    </tr>\n",
       "  </tbody>\n",
       "</table>\n",
       "</div>"
      ],
      "text/plain": [
       "   ID  Value2\n",
       "0   2      15\n",
       "1   3      25\n",
       "2   4      35"
      ]
     },
     "execution_count": 80,
     "metadata": {},
     "output_type": "execute_result"
    }
   ],
   "source": [
    "df2"
   ]
  },
  {
   "cell_type": "code",
   "execution_count": 86,
   "id": "d2157d89",
   "metadata": {},
   "outputs": [
    {
     "data": {
      "text/html": [
       "<div>\n",
       "<style scoped>\n",
       "    .dataframe tbody tr th:only-of-type {\n",
       "        vertical-align: middle;\n",
       "    }\n",
       "\n",
       "    .dataframe tbody tr th {\n",
       "        vertical-align: top;\n",
       "    }\n",
       "\n",
       "    .dataframe thead th {\n",
       "        text-align: right;\n",
       "    }\n",
       "</style>\n",
       "<table border=\"1\" class=\"dataframe\">\n",
       "  <thead>\n",
       "    <tr style=\"text-align: right;\">\n",
       "      <th></th>\n",
       "      <th>ID</th>\n",
       "      <th>Value1</th>\n",
       "      <th>Value2</th>\n",
       "    </tr>\n",
       "  </thead>\n",
       "  <tbody>\n",
       "    <tr>\n",
       "      <th>0</th>\n",
       "      <td>2</td>\n",
       "      <td>20</td>\n",
       "      <td>15</td>\n",
       "    </tr>\n",
       "    <tr>\n",
       "      <th>1</th>\n",
       "      <td>3</td>\n",
       "      <td>30</td>\n",
       "      <td>25</td>\n",
       "    </tr>\n",
       "  </tbody>\n",
       "</table>\n",
       "</div>"
      ],
      "text/plain": [
       "   ID  Value1  Value2\n",
       "0   2      20      15\n",
       "1   3      30      25"
      ]
     },
     "execution_count": 86,
     "metadata": {},
     "output_type": "execute_result"
    }
   ],
   "source": [
    "merged"
   ]
  },
  {
   "cell_type": "markdown",
   "id": "bea1ad31",
   "metadata": {},
   "source": [
    "<h3 style='text-align: left;'> 6. Which of the following is mutable in nature Series, DataFrame, Panel? </h3>"
   ]
  },
  {
   "cell_type": "markdown",
   "id": "0588bda0",
   "metadata": {},
   "source": [
    "<p> <b> Ans:- </b> <br><br> In pandas, among the options you provided, both `Series` and `DataFrame` are mutable in nature, while `Panel` is not.\n",
    "\n",
    "1. **Series:** A `Series` is a one-dimensional array-like data structure and is mutable. You can change the values of individual elements in a Series after it has been created.\n",
    "\n",
    "2. **DataFrame:** A `DataFrame` is a two-dimensional tabular data structure and is also mutable. You can modify the data in individual cells, add or remove columns, and perform various other data manipulation operations on a DataFrame.\n",
    "\n",
    "3. **Panel:** However, the `Panel` data structure has been deprecated since pandas version 0.25.0 (July 2019) and is no longer recommended for use. It was a three-dimensional data structure for handling data, but its functionality has been integrated into the `MultiIndex` levels of DataFrames. `Panel` was not mutable like `Series` and `DataFrame`.\n",
    "\n",
    "In modern versions of pandas, you will mostly work with `Series` and `DataFrame` for data manipulation and analysis. </p>"
   ]
  },
  {
   "cell_type": "markdown",
   "id": "631f3527",
   "metadata": {},
   "source": [
    "<h3 style='text-align: left;'> 7. Create a DataFrame using multiple Series. Explain with an example. </h3>"
   ]
  },
  {
   "cell_type": "code",
   "execution_count": 87,
   "id": "2193a500",
   "metadata": {},
   "outputs": [
    {
     "name": "stdout",
     "output_type": "stream",
     "text": [
      "      Name  Age           City\n",
      "0    Alice   25       New York\n",
      "1      Bob   30         London\n",
      "2  Charlie   28  San Francisco\n"
     ]
    }
   ],
   "source": [
    "import pandas as pd\n",
    "\n",
    "# Creating multiple Series\n",
    "names = pd.Series(['Alice', 'Bob', 'Charlie'])\n",
    "ages = pd.Series([25, 30, 28])\n",
    "cities = pd.Series(['New York', 'London', 'San Francisco'])\n",
    "\n",
    "# Creating a DataFrame using the Series\n",
    "data = {'Name': names, 'Age': ages, 'City': cities}\n",
    "df = pd.DataFrame(data)\n",
    "\n",
    "# Display the DataFrame\n",
    "print(df)\n"
   ]
  },
  {
   "cell_type": "markdown",
   "id": "988d98c7",
   "metadata": {},
   "source": [
    "<h4 style='text-align: right;'> Yash Sanjeev Halwai </h4>"
   ]
  }
 ],
 "metadata": {
  "kernelspec": {
   "display_name": "Python 3 (ipykernel)",
   "language": "python",
   "name": "python3"
  },
  "language_info": {
   "codemirror_mode": {
    "name": "ipython",
    "version": 3
   },
   "file_extension": ".py",
   "mimetype": "text/x-python",
   "name": "python",
   "nbconvert_exporter": "python",
   "pygments_lexer": "ipython3",
   "version": "3.9.7"
  }
 },
 "nbformat": 4,
 "nbformat_minor": 5
}
