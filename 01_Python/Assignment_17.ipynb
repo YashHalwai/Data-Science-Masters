{
 "cells": [
  {
   "cell_type": "markdown",
   "id": "5d340be9",
   "metadata": {},
   "source": [
    "<div style=\"text-align: center\"> <h1>Assignment 17</h1></div>"
   ]
  },
  {
   "cell_type": "markdown",
   "id": "c5b55d3a",
   "metadata": {},
   "source": [
    "<h2 style='text-align: left;'> Assignment Questions </h2>"
   ]
  },
  {
   "cell_type": "markdown",
   "id": "d9be17de",
   "metadata": {},
   "source": [
    "<h3 style='text-align: left;'> 1.  What is an API? Give an example, where an API is used in real life. </h3>"
   ]
  },
  {
   "cell_type": "markdown",
   "id": "e6a5b262",
   "metadata": {},
   "source": [
    "<p> <b> Ans:- <br><br> API stands for Application Programming Interface. In the context of APIs, the word Application refers to any software with a distinct function. Interface can be thought of as a contract of service between two applications. This contract defines how the two communicate with each other using requests and responses. </b> </p>"
   ]
  },
  {
   "cell_type": "markdown",
   "id": "c3ed869e",
   "metadata": {},
   "source": [
    "<p> <b> API is used in real life: <br><br> 1) Weather Snippets:- <br> Weather data is a popular API example that we come across regularly. Rich weather snippets appear ubiquitous, appearing on all platforms such as Google Search, Apple's Weather app, and even your smart home device. <br> 2) Log-in Using XYZ <br> 3) Pay with PayPal <br> 4) Twitter Bots <br> 5) Travel Booking <br> 6) Google Maps <br> 7) Restaurants"
   ]
  },
  {
   "cell_type": "markdown",
   "id": "5777fd05",
   "metadata": {},
   "source": [
    "<h3 style='text-align: left;'> 2. Give advantages and disadvantages of using API.  </h3>"
   ]
  },
  {
   "cell_type": "markdown",
   "id": "5b5b2408",
   "metadata": {},
   "source": [
    "<p> <b> Ans:- <br><br> The advantages of using APIs are: <br><br> 1) Personalized Content: <br> API enables businesses to get a clear understanding of the tastes and preferences of the customer. This allows businesses to make personalized recommendations and generate better customer leads and interactions. <br> <br> 2) Automation: <br> One no longer needs to make assumptions and interpretations manually. API does it all for you by managing all the workflow making business processes more productive and efficient. <br> <br> 3) Fraud Prevention: <br> API has various levels of security depending upon the type of API that you use which ensures that only authorized personnel have access to the data generated using API. <br> <br> 4) Improved Competency: <br> The information that is transmitted from one system to another is quickly intercepted and interpreted by API. This level of efficiency ensures information automatically available to every platform which leads to quicker and improved decision making. <br> <br> 5) Adaptability: <br> API can anticipate changes in terms of needs that arise in the due course of business. It used the technology at its disposal to analyze the information present within the system more closely and thus makes the service provisions more flexible. <br> <br> The disadvantages of using APIs are: <br> <br> 1) Cost: <br> Providing an API is expensive in terms of development time, ongoing maintenance, providing API documentation on your website and providing support to users of your API. <br> <br> 2) Security exposure: <br> Adding an API adds another attack surface to your website. </b> </p>"
   ]
  },
  {
   "cell_type": "markdown",
   "id": "45d22457",
   "metadata": {},
   "source": [
    "<h3 style='text-align: left;'> 3. What is a Web API? Differentiate between API and Web API.  </h3>"
   ]
  },
  {
   "cell_type": "markdown",
   "id": "948f4237",
   "metadata": {},
   "source": [
    "<p> <b> Ans:- <br><br> Web API is a programming interface/application type that provides communication or interaction between software applications. Web API is often used to provide an interface for websites and client applications to have data access. Web APIs can be used to access data from a database and save data back to the database.  </b> </p>"
   ]
  },
  {
   "cell_type": "markdown",
   "id": "688438f0",
   "metadata": {},
   "source": [
    "  <p> <b> <br> Difference between API and Web API </b> </p>\n",
    "  <table>\n",
    "    <center>\n",
    "        <tr>\n",
    "            <th><center>API</center></th>\n",
    "                <th><center>Web API</center></th>\n",
    "        </tr>\n",
    "        <tr>\n",
    "            <td>An API (Application programming interface) acts as an interface between two applications helping them to communicate with each other. </td>\n",
    "            <td>A Web API manages the interaction between two machines over a network.</td>\n",
    "        </tr>\n",
    "        <tr>\n",
    "            <td>It is a method by which third-party vendors can write programs that interface easily with the other programs.</td>\n",
    "            <td>Web API has an interface that is depicted in a machine-processable format which is usually specified in Web Service Description Language (WSDL).</td>\n",
    "        </tr>\n",
    "        <tr>\n",
    "            <td>API can use any means of communication to initiate the interaction between the applications\n",
    "In API, functions are called from within a software program.</td>\n",
    "            <td>“HTTP” is the most commonly used protocol for Web communication. Web service also uses SOAP,  XML-RPC and REST as a means of communication.</td>\n",
    "        </tr>\n",
    "        <tr>\n",
    "            <td>API doesn't always need to be web-based.</td>\n",
    "            <td>API used is web-based</td>\n",
    "        </tr>\n",
    "        <tr>\n",
    "            <td>An API doesn't always need a network for its operation.</td>\n",
    "            <td>A Web API always needs a network for its operation.</td>\n",
    "        </tr>\n",
    "    </center>\n",
    "</table>"
   ]
  },
  {
   "cell_type": "markdown",
   "id": "ab834b39",
   "metadata": {},
   "source": [
    "<h3 style='text-align: left;'> 4. Explain REST and SOAP Architecture. Mention shortcomings of SOAP.  </h3>"
   ]
  },
  {
   "cell_type": "markdown",
   "id": "7768b308",
   "metadata": {},
   "source": [
    "<p> <b> Ans:- <br><br>RESt Architecture:- <br><br> REST stands for REpresentational State Transfer and API stands for Application Program Interface. <br> REST is a software architectural style that defines the set of rules to be used for creating web services. <br> Web services which follow the REST architectural style are known as RESTful web services. <br> It allows requesting systems to access and manipulate web resources by using a uniform and predefined set of rules. <br> Interaction in REST based systems happen through Internet’s Hypertext Transfer Protocol (HTTP). <br><br> A Restful system consists of a: <br> client who requests for the resources. <br> server who has the resources. <br><br> Architectural Constraints of RESTful API: <br> <br>  There are six architectural constraints which makes any web service are listed below: <br> i. Uniform Interface<br>ii. Stateless<br>iii. Cacheable<br>iv. Client-Server<br>v. Layered System<br>vi. Code on Demand <br><br> SOAP Architecture:- <br> <br> SOAP stands for Simple Object Access Protocol is a network platform used in a web service to exchange or communicate data between two different machines on a network. <br> It uses the XML format of data to transfer messages over the HTTP protocol. <br> In Web services, SOAP allows the user request to interact with other programming languages. <br>  In this way, it provides a way to communicate between applications running on different platforms (Operating system), with programming languages and technologies used in web service. <br><br> SOAP Building Block:- <br><br> The SOAP building block describes what XML data is sent to the web service and client application. The following diagram represents the SOAP building block. <br><br> SOAP Envelope: Envelope is used to define the start and end of the SOAP message. It contains the details of the SOAP message. It is an important element of the XML documents. <br><br> SOAP Header: It is an optional element in which the header contains the credentials information such as authorization, authentication, etc. is used during the processing of a SOAP message. <br><br> SOAP Body: It is an important element of the SOAP message that contains request and response information in the XML format. It defines the actual content of the message to be sent between the client and the webserver. <br><br> SOAP Fault: The SOAP Fault element is an optional element used to display an error message encountered during the transmission of a SOAP message. It holds the status of SOAP messages and errors. <br><br> Shortcomings of SOAP:- <br><br> SOAP is used only XML format data in web service, whereas JSON and other lightweight formats are not supported by it.<br>It is slow because it uses XML format, whereas the payload for a simple string message is large.<br>There are no security features in the SOAP specification.<br>There is no state reference for the remote object in the SOAP client. </b> </p>"
   ]
  },
  {
   "cell_type": "markdown",
   "id": "d9005607",
   "metadata": {},
   "source": [
    "<h3 style='text-align: left;'> 5. Differentiate between REST and SOAP. </h3>"
   ]
  },
  {
   "cell_type": "markdown",
   "id": "aafcc335",
   "metadata": {},
   "source": [
    "<p> <b> Ans:- <br> <br> <center> Difference between REST and SOAP </center> </b> </p>\n",
    "<table>\n",
    "    <center>\n",
    "        <tr>\n",
    "            <th><center>REST</center></th>\n",
    "                <th><center>SOAP</center></th>\n",
    "        </tr>\n",
    "        <tr>\n",
    "            <td>Relies on REST (Representational State Transfer) architecture using HTTP.</td>\n",
    "            <td>Relies on SOAP (Simple Object Access Protocol).</td>\n",
    "        </tr>\n",
    "        <tr>\n",
    "            <td>Generally transports data in JSON. It is based on URI. <br> Because REST follows stateless model,REST does not enforces message format as XML or JSON etc.</td>\n",
    "            <td>Transports data in standard XML format.</td>\n",
    "        </tr>\n",
    "        <tr>\n",
    "            <td>It works with GET, POST, PUT, DELETE.</td>\n",
    "            <td>Because it is XML based and relies on SOAP, it works with WSDL.</td>\n",
    "        </tr>\n",
    "        <tr>\n",
    "            <td>Works over HTTP and HTTPS.</td>\n",
    "            <td>Works over HTTP, HTTPS, SMTP, XMPP.</td>\n",
    "        </tr>\n",
    "        <tr>\n",
    "            <td>Less structured -> less bulky data.</td>\n",
    "            <td>Highly structured/typed.</td>\n",
    "        </tr>\n",
    "         <tr>\n",
    "            <td>Designed with mobile devices in mind.</td>\n",
    "            <td>Designed with large enterprise applications in mind.</td>\n",
    "        </tr>\n",
    "    </center>\n",
    "</table>"
   ]
  },
  {
   "cell_type": "markdown",
   "id": "24833137",
   "metadata": {},
   "source": [
    "<h4 style='text-align: right;'> Yash Sanjeev Halwai </h4>"
   ]
  }
 ],
 "metadata": {
  "kernelspec": {
   "display_name": "Python 3 (ipykernel)",
   "language": "python",
   "name": "python3"
  },
  "language_info": {
   "codemirror_mode": {
    "name": "ipython",
    "version": 3
   },
   "file_extension": ".py",
   "mimetype": "text/x-python",
   "name": "python",
   "nbconvert_exporter": "python",
   "pygments_lexer": "ipython3",
   "version": "3.9.7"
  }
 },
 "nbformat": 4,
 "nbformat_minor": 5
}
