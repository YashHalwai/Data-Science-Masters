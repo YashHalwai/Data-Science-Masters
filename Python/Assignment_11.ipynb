{
 "cells": [
  {
   "cell_type": "markdown",
   "id": "d12e59dd",
   "metadata": {},
   "source": [
    "<div style=\"text-align: center\"> <h1>Assignment 11</h1></div>"
   ]
  },
  {
   "cell_type": "markdown",
   "id": "ca30f80c",
   "metadata": {},
   "source": [
    "<h2 style='text-align: left;'> Assignment Questions </h2>"
   ]
  },
  {
   "cell_type": "markdown",
   "id": "7fdf57a0",
   "metadata": {},
   "source": [
    "<h3 style='text-align: left;'> 1.  Which function is used to open a file? What are the different modes of opening a file? Explain each mode of file opening. </h3>"
   ]
  },
  {
   "cell_type": "markdown",
   "id": "e9403bb4",
   "metadata": {},
   "source": [
    "<p> <b> Ans:- <br> The open() function opens a file, and returns it as a file object. <br><br> Different modes of opening a file: <br> a) ‘r’ mode <br> b) ‘w’ mode <br> c) ‘a’ mode <br> d) ‘r+’ mode <br> e) ‘w+’ mode <br> f) ‘a+’ mode <br> g) Using ‘b’ with any mode <br><br> i) In ‘r’ mode, the file opens in the read mode. By default, if we don’t specify the mode argument, it will be treated as read or ‘r’ mode. <br> For Example, To open our file myfile.txt in ‘r’ mode: <br> open(\"myfile.txt\") or open(\"myfile.txt\", \"r\") <br><br> ii) In the ‘w’ mode, the file opens in write mode. It removes existing content, if present, in the file. If the specified file doesn’t exist, it creates one with the specified name. <br> For Example, To open our file myfile.txt in ‘w’ mode: <br> open(\"myfile.txt\", \"w\") <br><br> iii) In the ‘a’ mode, the file opens in append mode. It adds content to an existing file (or append at the end of the file). If the specified file doesn’t exist, it creates one with the specified name. It does not remove the existing content from the file. <br> For Example, To open our file myfile.txt in ‘a’ mode: <br> open(\"myfile.txt\", \"a\") <br><br> iv)  In the ‘r+’ mode, the file opens in the read & write mode. It does not remove existing content, if present, in the file and does not create a file if not present in the directory. <br> For Example, To open our file myfile.txt in ‘r+‘ mode: <br> open(\"myfile.txt\", \"r+\") <br><br> v) In the ‘w+’ mode, open the file in the read & write mode & remove existing content. If the file doesn’t exist, it creates a new one. It does not remove existing content & if a file doesn’t exist, it creates a new one. <br> For Example, To open our file myfile.txt in ‘w+’ mode:<br> open(\"myfile.txt\", \"w+\") <br><br> vi)  In the ‘a+’ mode, the file opens in the read & append mode. It does not remove existing content & If the file doesn’t exist, it creates a new one. <br> For Example, To open our file myfile.txt in a+ mode: <br> open(\"myfile.txt\", \"a+\") <br> <br> The modes discussed above are being used on a text file. To use these modes for a binary file, we need to use a different combination of file opening mode arguments. Using ‘b’ with any mode, For example, ‘ab’, ‘rb’, ‘wb’, ‘rb+’, the file opens in binary mode. It is used for non-textual files like image, sound, executable (.exe) files.<br>For Example, To open our file myfile.txt in b mode:\n",
    "<br>open(\"myfile.txt\", \"rb\")\n",
    "Opening a file is not enough. This open function needs to be stored into a variable as this will be used later for writing & reading the file. Here we will assign a variable to our file:<br>file = open(\"myfile.txt\", \"r\")</b> </p>"
   ]
  },
  {
   "cell_type": "markdown",
   "id": "77b99eda",
   "metadata": {},
   "source": [
    "<h3 style='text-align: left;'> 2. Why close() function is used? Why is it important to close a file? </h3>"
   ]
  },
  {
   "cell_type": "markdown",
   "id": "938bfa8f",
   "metadata": {},
   "source": [
    "<p> <b> Ans:- <br> The close() method closes an open file. <br> You should always close your files, in some cases, due to buffering, changes made to a file may not show until you close the file. <br> <br> It is important to close opened files in any programming language. <br> Because, when you open a file, the file is locked for writing(if opened in write mode). <br> Thus you cannot access that file outside your program(e.g. through file browser) while it is open in python. <br> Moreover you cannot see the changes you made to the file in your program until you close it. <br> The close function actually saves the changes to the file and releases the lock. <br><br> Syntax:  fileObject.close() </b> </p>"
   ]
  },
  {
   "cell_type": "markdown",
   "id": "2a1963ce",
   "metadata": {},
   "source": [
    "<h3 style='text-align: left;'> 3. Write a python program to create a text file. Write ‘I want to become a Data Scientist’ in that file. Then close the file. Open this file and read the content of the file. </h3>"
   ]
  },
  {
   "cell_type": "code",
   "execution_count": 3,
   "id": "73ba55fc",
   "metadata": {},
   "outputs": [],
   "source": [
    "# create or open the text file\n",
    "file = open(\"file.txt\", \"w\")"
   ]
  },
  {
   "cell_type": "code",
   "execution_count": 4,
   "id": "b2df4030",
   "metadata": {},
   "outputs": [
    {
     "data": {
      "text/plain": [
       "33"
      ]
     },
     "execution_count": 4,
     "metadata": {},
     "output_type": "execute_result"
    }
   ],
   "source": [
    "# write in the file\n",
    "file.write(\"I want to become a Data Scientist\")"
   ]
  },
  {
   "cell_type": "code",
   "execution_count": 6,
   "id": "fd14d72a",
   "metadata": {},
   "outputs": [],
   "source": [
    "# close the file\n",
    "file.close()"
   ]
  },
  {
   "cell_type": "code",
   "execution_count": 7,
   "id": "d241904c",
   "metadata": {},
   "outputs": [],
   "source": [
    "# read the file\n",
    "file = open(\"file.txt\", \"r\")"
   ]
  },
  {
   "cell_type": "code",
   "execution_count": 8,
   "id": "26fb0d55",
   "metadata": {},
   "outputs": [
    {
     "name": "stdout",
     "output_type": "stream",
     "text": [
      "I want to become a Data Scientist\n"
     ]
    }
   ],
   "source": [
    "# read the content of the file and print it\n",
    "print(file.read())"
   ]
  },
  {
   "cell_type": "markdown",
   "id": "317254b7",
   "metadata": {},
   "source": [
    "<h3 style='text-align: left;'> 4. Explain the following with python code: read(), readline() and readlines(). </h3>"
   ]
  },
  {
   "cell_type": "code",
   "execution_count": 13,
   "id": "56bb59e3",
   "metadata": {},
   "outputs": [],
   "source": [
    "f = open(\"f.txt\", \"w\")\n",
    "\n",
    "f.write(\"My name is Yash.\\nI am a Data Scientist. \\nI am from India.\")\n",
    "\n",
    "f.close()"
   ]
  },
  {
   "cell_type": "markdown",
   "id": "59bcdc7f",
   "metadata": {},
   "source": [
    "<p> <b> Read Only (‘r’) : Open text file for reading. The handle is positioned at the beginning of the file. If the file does not exists, raises I/O error. This is also the default mode in which file is opened. </b> </p>"
   ]
  },
  {
   "cell_type": "code",
   "execution_count": 14,
   "id": "17b35ed5",
   "metadata": {},
   "outputs": [
    {
     "name": "stdout",
     "output_type": "stream",
     "text": [
      "My name is Yash.\n",
      "I am a Data Scientist. \n",
      "I am from India.\n"
     ]
    }
   ],
   "source": [
    "f = open(\"f.txt\", \"r\")\n",
    "print(f.read())"
   ]
  },
  {
   "cell_type": "markdown",
   "id": "cd222ffe",
   "metadata": {},
   "source": [
    "<p> <b> The readline() method returns one line from the file. </b> </p>"
   ]
  },
  {
   "cell_type": "code",
   "execution_count": 20,
   "id": "f78ec406",
   "metadata": {},
   "outputs": [
    {
     "name": "stdout",
     "output_type": "stream",
     "text": [
      "My name is Yash.\n",
      "\n"
     ]
    }
   ],
   "source": [
    "f = open(\"f.txt\", \"r\")\n",
    "print(f.readline())"
   ]
  },
  {
   "cell_type": "markdown",
   "id": "ecd3a1a9",
   "metadata": {},
   "source": [
    "<p> <b> The readlines() method returns a list containing each line in the file as a list item. </b> </p>"
   ]
  },
  {
   "cell_type": "code",
   "execution_count": 21,
   "id": "90db6320",
   "metadata": {},
   "outputs": [
    {
     "name": "stdout",
     "output_type": "stream",
     "text": [
      "['My name is Yash.\\n', 'I am a Data Scientist. \\n', 'I am from India.']\n"
     ]
    }
   ],
   "source": [
    "f = open(\"f.txt\", \"r\")\n",
    "print(f.readlines())"
   ]
  },
  {
   "cell_type": "markdown",
   "id": "d49b36e9",
   "metadata": {},
   "source": [
    "<h3 style='text-align: left;'> 5.  Explain why with statement is used with open(). What is the advantage of using with statement and open() together? </h3>"
   ]
  },
  {
   "cell_type": "markdown",
   "id": "20f2668a",
   "metadata": {},
   "source": [
    "<p> <b> Ans:- <br> In Python, with statement is used in exception handling to make the code cleaner and much more readable. It simplifies the management of common resources like file streams. <br> There is nothing special in open() which makes it usable with the with statement and the same functionality can be provided in user defined objects. <br> When you use with statement with open function, you do not need to close the file at the end, because with would automatically close it for you. <br><br> The advantage of using a with statement is that it is guaranteed to close the file no matter how the nested block exits. If an exception occurs before the end of the block, it will close the file before the exception is caught by an outer exception handler. <br> Using with means that the file will be closed as soon as you leave the block. This is beneficial because closing a file is something that can easily be forgotten and ties up resources that you no longer need.</b></p>"
   ]
  },
  {
   "cell_type": "markdown",
   "id": "cdcda2b3",
   "metadata": {},
   "source": [
    "<h3 style='text-align: left;'> 6. Explain the write() and writelines() functions. Give a suitable example. </h3>"
   ]
  },
  {
   "cell_type": "markdown",
   "id": "b14cb8f4",
   "metadata": {},
   "source": [
    "<p> <b> Ans:- <br> i) write() function:- <br> The write() function will write the content in the file without adding any extra characters. <br> Syntax: <br> # Writes string content referenced by file object. <br> file_name.write(content) <br><br> ii) writelines() function <br> This function writes the content of a list to a file. <br> Syntax: <br> # write all the strings present in the list \"list_of_lines\" <br> # referenced by file object. <br> file_name.writelines(list_of_lines) <br> <br> The only difference between the write() and writelines() is that write() is used to write a string to an already opened file while writelines() method is used to write a list of strings in an opened file. </b> </b>"
   ]
  },
  {
   "cell_type": "markdown",
   "id": "9aa464c7",
   "metadata": {},
   "source": [
    "# Example:-"
   ]
  },
  {
   "cell_type": "code",
   "execution_count": 2,
   "id": "3ba73734",
   "metadata": {},
   "outputs": [
    {
     "name": "stdout",
     "output_type": "stream",
     "text": [
      "Enter the name of the employee: Yash\n",
      "Enter the name of the employee: Atharv\n",
      "Enter the name of the employee: Sanket\n",
      "Data is written into the file.\n"
     ]
    }
   ],
   "source": [
    "### WRITE ###\n",
    "\n",
    "file = open(\"Employees.txt\", \"w\")\n",
    "\n",
    "for i in range(3):\n",
    "    name = input(\"Enter the name of the employee: \")\n",
    "    file.write(name)\n",
    "    file.write(\"\\n\")\n",
    "\n",
    "file.close()\n",
    "\n",
    "print(\"Data is written into the file.\")\n"
   ]
  },
  {
   "cell_type": "code",
   "execution_count": 3,
   "id": "e279b5ce",
   "metadata": {},
   "outputs": [
    {
     "name": "stdout",
     "output_type": "stream",
     "text": [
      "Enter the name of the employee: Yash\n",
      "Enter the name of the employee: Sanket\n",
      "Enter the name of the employee: Atharv\n",
      "Data is written into the file.\n"
     ]
    }
   ],
   "source": [
    "### WRITELINES ###\n",
    "\n",
    "file1 = open(\"Employees.txt\", \"w\")\n",
    "lst = []\n",
    "for i in range(3):\n",
    "    name = input(\"Enter the name of the employee: \")\n",
    "    lst.append(name + '\\n')\n",
    "\n",
    "file1.writelines(lst)\n",
    "file1.close()\n",
    "\n",
    "print(\"Data is written into the file.\")"
   ]
  },
  {
   "cell_type": "markdown",
   "id": "8bc703ab",
   "metadata": {},
   "source": [
    "<h4 style='text-align: right;'> Yash Sanjeev Halwai </h4>"
   ]
  }
 ],
 "metadata": {
  "kernelspec": {
   "display_name": "Python 3 (ipykernel)",
   "language": "python",
   "name": "python3"
  },
  "language_info": {
   "codemirror_mode": {
    "name": "ipython",
    "version": 3
   },
   "file_extension": ".py",
   "mimetype": "text/x-python",
   "name": "python",
   "nbconvert_exporter": "python",
   "pygments_lexer": "ipython3",
   "version": "3.9.7"
  }
 },
 "nbformat": 4,
 "nbformat_minor": 5
}
