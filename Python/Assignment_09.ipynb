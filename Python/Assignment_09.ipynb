{
 "cells": [
  {
   "cell_type": "markdown",
   "id": "41c82ce0",
   "metadata": {},
   "source": [
    "<div style=\"text-align: center\"> <h1>Assignment 9</h1></div>"
   ]
  },
  {
   "cell_type": "markdown",
   "id": "004070d5",
   "metadata": {},
   "source": [
    "<h2 style='text-align: left;'> Assignment Questions </h2>"
   ]
  },
  {
   "cell_type": "markdown",
   "id": "dda7c4f8",
   "metadata": {},
   "source": [
    "<h3 style='text-align: left;'> 1. What is Abstraction in OOps? Explain with an example. </h3>"
   ]
  },
  {
   "cell_type": "markdown",
   "id": "f02bd4b7",
   "metadata": {},
   "source": [
    "<p style=’text-align: left;’> <b>Ans:- <br>Abstraction is used to hide the internal functionality of the function from the users. <br>The users only interact with the basic implementation of the function, but inner working is hidden. User is familiar with that \"what function does\" but they don't know \"how it does.\"<br>In simple words, we all use the smartphone and very much familiar with its functions such as camera, voice-recorder, call-dialing, etc., but we don't know how these operations are happening in the background. <br>Let's take another example - When we use the TV remote to increase the volume. We don't know how pressing a key increases the volume of the TV. We only know to press the \"+\" button to increase the volume.<br>That is exactly the abstraction that works in the object-oriented concept.<br><br> Python provides the abc module to use the abstraction in the Python program. <br> Let's see the following syntax. <b> </p>"
   ]
  },
  {
   "cell_type": "markdown",
   "id": "b6a62a8c",
   "metadata": {},
   "source": [
    "<b>from abc import ABC  \n",
    "class ClassName(ABC):<b>"
   ]
  },
  {
   "cell_type": "markdown",
   "id": "403d2483",
   "metadata": {},
   "source": [
    "# Example:-"
   ]
  },
  {
   "cell_type": "code",
   "execution_count": 1,
   "id": "1a135451",
   "metadata": {},
   "outputs": [
    {
     "name": "stdout",
     "output_type": "stream",
     "text": [
      "The mileage is 30kmph\n",
      "The mileage is 90kmph\n",
      "The mileage is 70kmph\n",
      "The mileage is 50kmph\n"
     ]
    }
   ],
   "source": [
    "from abc import ABC\n",
    "\n",
    "class car(ABC):\n",
    "    \n",
    "    def mileage(self):\n",
    "        pass\n",
    "    \n",
    "class Tesla(car):\n",
    "    \n",
    "    def mileage(self):\n",
    "        print(\"The mileage is 30kmph\")\n",
    "        \n",
    "class Suzuki(car):\n",
    "    \n",
    "    def mileage(self):\n",
    "        print(\"The mileage is 50kmph\")\n",
    "        \n",
    "class Duster(car):\n",
    "    \n",
    "    def mileage(self):\n",
    "        print(\"The mileage is 70kmph\")\n",
    "\n",
    "class Renault(car):\n",
    "    \n",
    "    def mileage(self):\n",
    "        print(\"The mileage is 90kmph\")\n",
    "        \n",
    "\n",
    "t = Tesla()\n",
    "t.mileage()\n",
    "\n",
    "r = Renault()\n",
    "r.mileage()\n",
    "\n",
    "d = Duster()\n",
    "d.mileage()\n",
    "\n",
    "s = Suzuki()\n",
    "s.mileage()"
   ]
  },
  {
   "cell_type": "markdown",
   "id": "1316acc1",
   "metadata": {},
   "source": [
    "<b>In the above code, we have imported the abc module to create the abstract base class. We created the Car class that inherited the ABC class and defined an abstract method named mileage(). We have then inherited the base class from the three different subclasses and implemented the abstract method differently. We created the objects to call the abstract method.<b>"
   ]
  },
  {
   "cell_type": "markdown",
   "id": "44e1efde",
   "metadata": {},
   "source": [
    "<h3 style='text-align: left;'> 2. Differentiate between Abstraction and Encapsulation. Explain with an example. </h3>"
   ]
  },
  {
   "cell_type": "markdown",
   "id": "ddd2a5dc",
   "metadata": {},
   "source": [
    "<p style=’text-align: left;’> <b>Ans:- <br> \n",
    "    <table border = \"1\">\n",
    "         <tr>\n",
    "             <th><center> Abstraction </center></th>\n",
    "             <th><center>Encapsulation </center></th>\n",
    "         </tr>\n",
    "         <tr>\n",
    "            <td style=’text-align: left;’>Abstraction works on the design level.</td>\n",
    "            <td style=’text-align: left;’>Encapsulation works on the application level.</td>\n",
    "         </tr>\n",
    "         <tr>\n",
    "            <td style=’text-align: left;’;>Abstraction is implemented to hide unnecessary data and withdrawing relevant data.</td>\n",
    "            <td style=’text-align: left;’>Encapsulation is the mechanism of hiding the code and the data together from the outside world or misuse.</td>\n",
    "         </tr>\n",
    "        <tr>\n",
    "            <td style=’text-align: left;’>It highlights what the work of an object instead of how the object works is.</td>\n",
    "            <td style=’text-align: left;’>It focuses on the inner details of how the object works. Modifications can be done later to the settings.</td>\n",
    "         </tr>\n",
    "        <tr>\n",
    "            <td style=’text-align: left;’>Abstraction focuses on outside viewing, for example, shifting the car.</td>\n",
    "            <td style=’text-align: left;’>Encapsulation focuses on internal working or inner viewing, for example, the production of the car.</td>\n",
    "         </tr>\n",
    "        <tr>\n",
    "            <td style=’text-align: left;>Abstraction is supported in Java with the interface and the abstract class.</td>\n",
    "            <td style=’text-align: left;>Encapsulation is supported using, e.g. public, private and secure access modification systems.</td>\n",
    "         </tr>\n",
    "        <tr>\n",
    "            <td style=’text-align: left;’>In a nutshell, abstraction is hiding implementation with the help of an interface and an abstract class.</td>\n",
    "            <td style=’text-align: left;’> In a nutshell, encapsulation is hiding the data with the help of getters and setters.</td>\n",
    "         </tr>\n",
    "      </table>\n",
    "<b> </p>"
   ]
  },
  {
   "cell_type": "code",
   "execution_count": null,
   "id": "732beaf9",
   "metadata": {},
   "outputs": [
    {
     "name": "stdout",
     "output_type": "stream",
     "text": [
      "\n",
      "    1.Display Book\n",
      "    2.Borrow Book\n",
      "    3.Return Book\n",
      "\n"
     ]
    }
   ],
   "source": [
    "# Abstraction and Encapsulation in Python\n",
    " \n",
    "class Library:\n",
    "    def __init__(self, books):\n",
    "        self.books = books\n",
    " \n",
    "    def list_books(self):\n",
    "        print(\"Available Books\")\n",
    "        for book in self.books:\n",
    "            print(book)\n",
    " \n",
    "    def borrow_book(self, borrow_book):\n",
    "        if borrow_book in self.books:\n",
    "            print(\"Get Your Book Now\")\n",
    "            self.books.remove(borrow_book)\n",
    "        else:\n",
    "            print(\"Book not Available\")\n",
    " \n",
    "    def receive_book(self, receive_book):\n",
    "        print(\"You have returned the book\")\n",
    "        self.books.append(receive_book)\n",
    " \n",
    " \n",
    "books = ['C', 'C++', 'Java']\n",
    "o = Library(books)\n",
    " \n",
    "msg = \"\"\"\n",
    "    1.Display Book\n",
    "    2.Borrow Book\n",
    "    3.Return Book\n",
    "\"\"\"\n",
    "while True:\n",
    "    print(msg)\n",
    "    ch = int(input(\"Enter Your Choice : \"))\n",
    "    if ch == 1:\n",
    "        o.list_books()\n",
    "    elif ch == 2:\n",
    "        book = input(\"Enter Book Name To Borrow : \")\n",
    "        o.borrow_book(book)\n",
    "    elif ch == 3:\n",
    "        book = input(\"Enter Book Name To Return : \")\n",
    "        o.receive_book(book)\n",
    "    else:\n",
    "        print(\"Thank You come again\")\n",
    "        quit()"
   ]
  },
  {
   "cell_type": "markdown",
   "id": "dc6664e9",
   "metadata": {},
   "source": [
    "<h3 style='text-align: left;'> 3. What is abc module in python? Why is it used? </h3>"
   ]
  },
  {
   "cell_type": "markdown",
   "id": "86bf9a57",
   "metadata": {},
   "source": [
    "<p style=’text-align: left;’> <b>Ans:-<br><br> A class is called an Abstract class if it contains one or more abstract methods. An abstract method is a method that is declared, but contains no implementation. Abstract classes may not be instantiated, and its abstract methods must be implemented by its subclasses. <br><br> The 'abc' module in Python library provides the infrastructure for defining custom abstract base classes.<br><br>'abc' works by marking methods of the base class as abstract. This is done by @absttractmethod decorator. A concrete class which is a sub class of such abstract base class then implements the abstract base by overriding its abstract methods. <br><br> Abstract Base Classes (ABCs) ensure that derived classes implement particular methods from the base class at instantiation time. <br><br> Using ABCs can help avoid bugs and make class hierarchies easier to maintain.\n",
    "</b> </p>"
   ]
  },
  {
   "cell_type": "markdown",
   "id": "5da87cfb",
   "metadata": {},
   "source": [
    "<h3 style='text-align: left;'> 4. How can we achieve data abstraction? </h3>"
   ]
  },
  {
   "cell_type": "markdown",
   "id": "dffb8bc2",
   "metadata": {},
   "source": [
    "<p style=’text-align: left;’> <b> Ans:- <br>In Python, abstraction can be achieved by having/using abstract classes and methods in our programs.<br> An abstract method is a method that is declared, but does not contain implementation.<br>An abstract method in a base class identifies the functionality that should be implemented by all its subclasses.<br>However, since the implementation of an abstract method would differ from one subclass to another, often the method body comprises just a pass statement.<br>Every subclass of the base class will ride this method with its implementation.<br>A class containing abstract methods is called abstract class.Python provides the abc module to use the abstraction in the Python program, syntax as:<br>from abc import ABC,   \n",
    "class ClassName(ABC):</b></h3>"
   ]
  },
  {
   "cell_type": "markdown",
   "id": "ec6ebfb5",
   "metadata": {},
   "source": [
    "<h3 style='text-align: left;'>5. Can we create an instance of an abstract class? Explain your answer.  </h3>"
   ]
  },
  {
   "cell_type": "markdown",
   "id": "b66deaee",
   "metadata": {},
   "source": [
    "<p style=’text-align: left;’> <b> Ans:- <br>Abstract classes are not complete, as they may have some methods that are not defined. <br> So we cannot create an instance or object of an abstract class in Python. <br> If we try to instantiate the abstract class, it raises an error.</b> </p"
   ]
  },
  {
   "cell_type": "markdown",
   "id": "059e3ebf",
   "metadata": {},
   "source": [
    "<h4 style='text-align: right;'>Yash Sanjeev Halwai</h4>"
   ]
  }
 ],
 "metadata": {
  "kernelspec": {
   "display_name": "Python 3",
   "language": "python",
   "name": "python3"
  },
  "language_info": {
   "codemirror_mode": {
    "name": "ipython",
    "version": 3
   },
   "file_extension": ".py",
   "mimetype": "text/x-python",
   "name": "python",
   "nbconvert_exporter": "python",
   "pygments_lexer": "ipython3",
   "version": "3.11.1"
  },
  "vscode": {
   "interpreter": {
    "hash": "6cc8e19d2cadf94763fe5146cff2e58b1840ccfce38c119decac15916151db46"
   }
  }
 },
 "nbformat": 4,
 "nbformat_minor": 5
}
