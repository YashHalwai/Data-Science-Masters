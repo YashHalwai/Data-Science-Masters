{
 "cells": [
  {
   "cell_type": "markdown",
   "id": "bad3eb00",
   "metadata": {},
   "source": [
    "<div style=\"text-align: center\"> <h1>Assignment 8</h1></div>"
   ]
  },
  {
   "cell_type": "markdown",
   "id": "ad8aa2c2",
   "metadata": {},
   "source": [
    "<h2 style='text-align: left;'> Assignment Questions </h2>"
   ]
  },
  {
   "cell_type": "markdown",
   "id": "5e0a2851",
   "metadata": {},
   "source": [
    "<h3 style='text-align: left;'>\n",
    "1. You are writing code for a company. The requirement of the company is that you create a python \n",
    "function that will check whether the password entered by the user is correct or not. The function should \n",
    "take the password as input and return the string “Valid Password” if the entered password follows the \n",
    "below-given password guidelines else it should return “Invalid Password”.\n",
    "<br>\n",
    "Note:<br>\n",
    "1. The Password should contain at least two uppercase letters and at least two lowercase letters.<br>\n",
    "2. The Password should contain at least a number and three special characters.<br>\n",
    "3. The length of the password should be 10 characters long.<br>\n",
    "</h3>"
   ]
  },
  {
   "cell_type": "code",
   "execution_count": 1,
   "id": "8ebb3458",
   "metadata": {},
   "outputs": [
    {
     "name": "stdout",
     "output_type": "stream",
     "text": [
      "Enter the password: YashSHalwai0131@#$\n",
      "Valid Password\n"
     ]
    }
   ],
   "source": [
    "def password_checker(p):\n",
    "    \n",
    "    u,l,n,s = 0,0,0,0\n",
    "\n",
    "    if(len(p) >= 10):\n",
    "\n",
    "        for i in password:\n",
    "\n",
    "            if(i.isupper()):\n",
    "                u+=1\n",
    "            if(i.islower()):\n",
    "                l+=1\n",
    "            if(i.isdigit()):\n",
    "                n+=1\n",
    "            if(i == \"@\" or i == \"$\" or i == \"_\" or i == \"#\"):\n",
    "                s+=1\n",
    "                \n",
    "    if(u >= 2 and l >= 2 and n >= 1 and s >= 3 and u+l+n+s == len(p)):\n",
    "        print(\"Valid Password\")\n",
    "    else:\n",
    "        print(\"Invalid Password\")\n",
    "\n",
    "password = input(\"Enter the password: \")\n",
    "password_checker(password)        "
   ]
  },
  {
   "cell_type": "markdown",
   "id": "d0966f4f",
   "metadata": {},
   "source": [
    "<h3 style='text-align: left;'>\n",
    "2. Solve the below-given questions using at least one of the following:<br><br>\n",
    "1. Lambda function<br>\n",
    "2. Filter function<br>\n",
    "3. Map function<br>\n",
    "4. List Comprehension<br><br>\n",
    "i)Check if the string starts with a particular letter.<br><br>\n",
    "ii)Check if the string is numeric.<br><br>\n",
    "iii)Sort a list of tuples having fruit names and their quantity.<br><br>\n",
    "[(\"mango\",99),(\"orange\",80), (\"grapes\", 1000)]<br><br>\n",
    "iv)Find the squares of numbers from 1 to 10.<br><br>\n",
    "v)Find the cube root of numbers from 1 to 10.<br><br>\n",
    "vi)Check if a given number is even.<br><br>\n",
    "vii)Filter odd numbers from the given list.<br><br>\n",
    "[1,2,3,4,5,6,7,8,9,10] <br><br>\n",
    "viii)Sort a list of integers into positive and negative integers lists.<br><br>\n",
    "[1,2,3,4,5,6,-1,-2,-3,-4,-5,0]\n",
    "<br><br>\n",
    "</h3>"
   ]
  },
  {
   "cell_type": "markdown",
   "id": "230aa6e9",
   "metadata": {},
   "source": [
    "# i) Check if the string starts with a particular letter."
   ]
  },
  {
   "cell_type": "code",
   "execution_count": 8,
   "id": "d6bdcbc3",
   "metadata": {},
   "outputs": [
    {
     "name": "stdout",
     "output_type": "stream",
     "text": [
      "Enter the string:python\n",
      "True\n"
     ]
    }
   ],
   "source": [
    "str = input(\"Enter the string:\")\n",
    "starts_with = lambda x: True if x.startswith('P') or x.startswith('p') else False\n",
    "print(starts_with(str))"
   ]
  },
  {
   "cell_type": "markdown",
   "id": "85f63244",
   "metadata": {},
   "source": [
    "#  ii) Check if the string is numeric."
   ]
  },
  {
   "cell_type": "code",
   "execution_count": 10,
   "id": "2131b173",
   "metadata": {},
   "outputs": [
    {
     "name": "stdout",
     "output_type": "stream",
     "text": [
      "Enter the string: 45\n",
      "True\n"
     ]
    }
   ],
   "source": [
    "str = input(\"Enter the string: \")\n",
    "is_numeric = lambda x: True if x.isnumeric() else False\n",
    "print(is_numeric(str))"
   ]
  },
  {
   "cell_type": "markdown",
   "id": "84fcd429",
   "metadata": {},
   "source": [
    "# iii) Sort a list of tuples having fruit names and their quantity. \n",
    "# [(\"mango\",99),(\"orange\",80), (\"grapes\", 1000)]"
   ]
  },
  {
   "cell_type": "code",
   "execution_count": 11,
   "id": "120d1ec0",
   "metadata": {},
   "outputs": [],
   "source": [
    "l = [(\"mango\",99),(\"orange\",80), (\"grapes\", 1000)]"
   ]
  },
  {
   "cell_type": "code",
   "execution_count": 12,
   "id": "dc66bd8d",
   "metadata": {},
   "outputs": [],
   "source": [
    "l1 = sorted(l, key = lambda x : x[0], reverse = False)"
   ]
  },
  {
   "cell_type": "code",
   "execution_count": 13,
   "id": "45c5060e",
   "metadata": {},
   "outputs": [
    {
     "name": "stdout",
     "output_type": "stream",
     "text": [
      "[('grapes', 1000), ('mango', 99), ('orange', 80)]\n"
     ]
    }
   ],
   "source": [
    "print(l1) # sorted by name"
   ]
  },
  {
   "cell_type": "code",
   "execution_count": 14,
   "id": "bffaf83f",
   "metadata": {},
   "outputs": [],
   "source": [
    "l1 = sorted(l, key = lambda x : x[1], reverse = False)"
   ]
  },
  {
   "cell_type": "code",
   "execution_count": 15,
   "id": "b10906be",
   "metadata": {},
   "outputs": [
    {
     "name": "stdout",
     "output_type": "stream",
     "text": [
      "[('orange', 80), ('mango', 99), ('grapes', 1000)]\n"
     ]
    }
   ],
   "source": [
    "print(l1) # sorted by quantity"
   ]
  },
  {
   "cell_type": "markdown",
   "id": "5be53f22",
   "metadata": {},
   "source": [
    "# iv)  Find the squares of numbers from 1 to 10."
   ]
  },
  {
   "cell_type": "code",
   "execution_count": 16,
   "id": "5d6f89b0",
   "metadata": {},
   "outputs": [],
   "source": [
    "sq = list(map(lambda x : x ** 2, range(1,11)))"
   ]
  },
  {
   "cell_type": "code",
   "execution_count": 17,
   "id": "80645cc4",
   "metadata": {},
   "outputs": [
    {
     "name": "stdout",
     "output_type": "stream",
     "text": [
      "[1, 4, 9, 16, 25, 36, 49, 64, 81, 100]\n"
     ]
    }
   ],
   "source": [
    "print(sq)"
   ]
  },
  {
   "cell_type": "markdown",
   "id": "5c830998",
   "metadata": {},
   "source": [
    "#  v) Find the cube root of numbers from 1 to 10."
   ]
  },
  {
   "cell_type": "code",
   "execution_count": 18,
   "id": "fcd170dc",
   "metadata": {},
   "outputs": [],
   "source": [
    "cr = list(map(lambda x : x ** (1/3), range(1,11))) # Map"
   ]
  },
  {
   "cell_type": "code",
   "execution_count": 19,
   "id": "4b010ede",
   "metadata": {},
   "outputs": [
    {
     "name": "stdout",
     "output_type": "stream",
     "text": [
      "[1.0, 1.2599210498948732, 1.4422495703074083, 1.5874010519681994, 1.7099759466766968, 1.8171205928321397, 1.912931182772389, 2.0, 2.080083823051904, 2.154434690031884]\n"
     ]
    }
   ],
   "source": [
    "print(cr)"
   ]
  },
  {
   "cell_type": "markdown",
   "id": "a5fc11e4",
   "metadata": {},
   "source": [
    "# vi)  Check if a given number is even."
   ]
  },
  {
   "cell_type": "code",
   "execution_count": 20,
   "id": "042c35c1",
   "metadata": {},
   "outputs": [
    {
     "name": "stdout",
     "output_type": "stream",
     "text": [
      "Enter a number: 80\n",
      "Even\n"
     ]
    }
   ],
   "source": [
    "num = int(input(\"Enter a number: \"))\n",
    "even = (lambda x : \"Even\" if x % 2 == 0 else \"Odd\") # Lambda\n",
    "print(even(num))"
   ]
  },
  {
   "cell_type": "markdown",
   "id": "2722bc80",
   "metadata": {},
   "source": [
    "# vii) Filter odd numbers from the given list.\n",
    "\n",
    " # [1,2,3,4,5,6,7,8,9,10]"
   ]
  },
  {
   "cell_type": "code",
   "execution_count": 21,
   "id": "49e668b1",
   "metadata": {},
   "outputs": [],
   "source": [
    "number = [1,2,3,4,5,6,7,8,9,10]"
   ]
  },
  {
   "cell_type": "code",
   "execution_count": 22,
   "id": "0443af0f",
   "metadata": {},
   "outputs": [
    {
     "name": "stdout",
     "output_type": "stream",
     "text": [
      "Odd Numbers: [1, 3, 5, 7, 9]\n"
     ]
    }
   ],
   "source": [
    "odd = list(filter(lambda x : x %2 != 0, number)) # Filter\n",
    "print(\"Odd Numbers:\",odd)"
   ]
  },
  {
   "cell_type": "markdown",
   "id": "c70a8c64",
   "metadata": {},
   "source": [
    "# viii) Sort a list of integers into positive and negative integers lists.\n",
    "\n",
    "# [1,2,3,4,5,6,-1,-2,-3,-4,-5,0]"
   ]
  },
  {
   "cell_type": "code",
   "execution_count": 23,
   "id": "e31fb4fd",
   "metadata": {},
   "outputs": [],
   "source": [
    "L = [1,2,3,4,5,6,-1,-2,-3,-4,-5,0] # The number zero (0) is neither positive nor negative. "
   ]
  },
  {
   "cell_type": "code",
   "execution_count": 24,
   "id": "bd7078fc",
   "metadata": {},
   "outputs": [],
   "source": [
    "P = [i for i in L if i > 0] # List Comprehension"
   ]
  },
  {
   "cell_type": "code",
   "execution_count": 25,
   "id": "e24fcea6",
   "metadata": {},
   "outputs": [
    {
     "name": "stdout",
     "output_type": "stream",
     "text": [
      "Positive Integers: [1, 2, 3, 4, 5, 6]\n"
     ]
    }
   ],
   "source": [
    "print(\"Positive Integers:\", P)"
   ]
  },
  {
   "cell_type": "code",
   "execution_count": 26,
   "id": "7f7258b0",
   "metadata": {},
   "outputs": [],
   "source": [
    "N = [i for i in L if i <  0]"
   ]
  },
  {
   "cell_type": "code",
   "execution_count": 27,
   "id": "ec260734",
   "metadata": {},
   "outputs": [
    {
     "name": "stdout",
     "output_type": "stream",
     "text": [
      "Negative Integers: [-1, -2, -3, -4, -5]\n"
     ]
    }
   ],
   "source": [
    "print(\"Negative Integers:\", N)"
   ]
  },
  {
   "cell_type": "markdown",
   "id": "d3477703",
   "metadata": {},
   "source": [
    "<h4 style='text-align: right;'> Yash Sanjeev Halwai </h4>"
   ]
  }
 ],
 "metadata": {
  "kernelspec": {
   "display_name": "Python 3 (ipykernel)",
   "language": "python",
   "name": "python3"
  },
  "language_info": {
   "codemirror_mode": {
    "name": "ipython",
    "version": 3
   },
   "file_extension": ".py",
   "mimetype": "text/x-python",
   "name": "python",
   "nbconvert_exporter": "python",
   "pygments_lexer": "ipython3",
   "version": "3.9.7"
  }
 },
 "nbformat": 4,
 "nbformat_minor": 5
}
