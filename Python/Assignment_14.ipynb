{
 "cells": [
  {
   "cell_type": "markdown",
   "id": "6da3b7aa",
   "metadata": {},
   "source": [
    "<div style=\"text-align: center\"> <h1>Assignment 14</h1></div>"
   ]
  },
  {
   "cell_type": "markdown",
   "id": "d08d50d7",
   "metadata": {},
   "source": [
    "<h2 style='text-align: left;'> Assignment Questions </h2>"
   ]
  },
  {
   "cell_type": "markdown",
   "id": "a10c60c6",
   "metadata": {},
   "source": [
    "<h3 style='text-align: left;'> 1. What is multithreading in python? Why is it used? Name the module used to handle threads in python. </h3>"
   ]
  },
  {
   "cell_type": "markdown",
   "id": "637fe2ed",
   "metadata": {},
   "source": [
    "<p> <b> Ans:- <br> Multithreading is defined as the ability of a processor to execute multiple threads concurrently. <br> Multithreading is a threading technique in Python programming to run multiple threads concurrently by rapidly switching between threads with a CPU help (called context switching). <br> Besides, it allows sharing of its data space with the main threads inside a process that share information and communication with other threads easier than individual processes. <br> Multithreading aims to perform multiple tasks simultaneously, which increases performance, speed and improves the rendering of the application. <br> </b> </p>"
   ]
  },
  {
   "cell_type": "markdown",
   "id": "b2a517ea",
   "metadata": {},
   "source": [
    "<p> <b> It is a very useful technique for time-saving and improving the performance of an application. <br> Multithreading allows the programmer to divide application tasks into sub-tasks and simultaneously run them in a program. <br> It allows threads to communicate and share resources such as files, data, and memory to the same processor. <br> Furthermore, it increases the user's responsiveness to continue running a program even if a part of the application is the length or blocked. <br> </b> </p>"
   ]
  },
  {
   "cell_type": "markdown",
   "id": "8c2e6fe3",
   "metadata": {},
   "source": [
    "<p> <b> Benefits of Multithreading in Python:- <br><br> Following are the benefits to create a multithreaded application in Python, as follows:<br><br>It ensures effective utilization of computer system resources.<br>Multithreaded applications are more responsive.<br>It shares resources and its state with sub-threads (child) which makes it more economical.<br>It makes the multiprocessor architecture more effective due to similarity.<br>It saves time by executing multiple threads at the same time.<br>The system does not require too much memory to store multiple threads. <br> </b> </p>"
   ]
  },
  {
   "cell_type": "markdown",
   "id": "07fb37e0",
   "metadata": {},
   "source": [
    "<p> <b> There are two main modules of multithreading used to handle threads in Python.<br>1) The thread module<br>2) The threading module"
   ]
  },
  {
   "cell_type": "markdown",
   "id": "d3693645",
   "metadata": {},
   "source": [
    "<h3 style='text-align: left;'> 2. Why threading module used? Write the use of the following functions:<br><br>1)activeCount()<br>2)currentThread()<br>3)enumerate() </h3>"
   ]
  },
  {
   "cell_type": "markdown",
   "id": "c5a0ec43",
   "metadata": {},
   "source": [
    "<p> <b> Ans:- <br> Threading in python is used to run multiple threads (tasks, function calls) at the same time. Note that this does not mean that they are executed on different CPUs. Python threads will NOT make your program faster if it already uses 100 % CPU time. In that case, you probably want to look into parallel programming. <br> 1) activeCount(): <br> threading.activeCount() − Returns the number of thread objects that are active. <br> 2) currentThread(): <br> threading.currentThread() − Returns the number of thread objects in the caller's thread control. <br> 3) enumerate(): <br> threading.enumerate() − Returns a list of all thread objects that are currently active. </b> </p>"
   ]
  },
  {
   "cell_type": "markdown",
   "id": "60e297c5",
   "metadata": {},
   "source": [
    "<h3 style='text-align: left;'> 3. Explain the following functions: <br><br> 1) run() <br> 2) start() <br> 3) join() <br> 4) isAlive() </h3>"
   ]
  },
  {
   "cell_type": "markdown",
   "id": "2b3b113e",
   "metadata": {},
   "source": [
    "<p> <b> Ans:- <br> 1) run() − The run() method is the entry point for a thread. <br> 2) start() − The start() method starts a thread by calling the run method. <br> 3) join([time]) − The join() waits for threads to terminate. <br> 4) isAlive() − The isAlive() method checks whether a thread is still executing. <br> </b> </p>"
   ]
  },
  {
   "cell_type": "markdown",
   "id": "7d3b00ad",
   "metadata": {},
   "source": [
    "<h3 style='text-align: left;'> 4. Write a python program to create two threads. Thread one must print the list of squares and thread two must print the list of cubes. </h3>"
   ]
  },
  {
   "cell_type": "code",
   "execution_count": 4,
   "id": "3bfa8ae1",
   "metadata": {},
   "outputs": [
    {
     "name": "stdout",
     "output_type": "stream",
     "text": [
      "Square: 100 Cube: 1000 Done!\n"
     ]
    }
   ],
   "source": [
    "# Python program to illustrate the concept\n",
    "# of threading\n",
    "# importing the threading module\n",
    "import threading\n",
    "\n",
    "\n",
    "def print_cube(num):\n",
    "    # function to print cube of given num\n",
    "    print(\"Cube: {}\" .format(num * num * num), end = \" \")\n",
    "\n",
    "\n",
    "def print_square(num):\n",
    "    # function to print square of given num\n",
    "    print(\"Square: {}\" .format(num * num), end = \" \")\n",
    "\n",
    "\n",
    "if __name__ ==\"__main__\":\n",
    "    # creating thread\n",
    "    t1 = threading.Thread(target=print_square, args=(10,))\n",
    "    t2 = threading.Thread(target=print_cube, args=(10,))\n",
    "\n",
    "    # starting thread 1\n",
    "    t1.start()\n",
    "    # starting thread 2\n",
    "    t2.start()\n",
    "\n",
    "    # wait until thread 1 is completely executed\n",
    "    t1.join()\n",
    "    # wait until thread 2 is completely executed\n",
    "    t2.join()\n",
    "\n",
    "    # both threads completely executed\n",
    "    print(\"Done!\")\n"
   ]
  },
  {
   "cell_type": "markdown",
   "id": "e6d30f43",
   "metadata": {},
   "source": [
    "<h3 style='text-align: left;'> 5. State advantages and disadvantages of multithreading. </h3>"
   ]
  },
  {
   "cell_type": "markdown",
   "id": "4c00fde1",
   "metadata": {},
   "source": [
    "<p> <b> Ans:- <br> Advantages of Multithreading:- <br><br> Enhanced performance by decreased development time<br>Simplified and streamlined program coding<br>Improvised GUI responsiveness<br>Simultaneous and parallelized occurrence of tasks<br>Better use of cache storage by utilization of resources<br>Decreased cost of maintenance<br>Better use of CPU resource <br><br> Disadvantages of Multithreading:- <br><br> Complex debugging and testing processes<br>Overhead switching of context<br>Increased potential for deadlock occurrence<br>Increased difficulty level in writing a program<br>Unpredictable results </b> </p>"
   ]
  },
  {
   "cell_type": "markdown",
   "id": "8d5b3fb9",
   "metadata": {},
   "source": [
    "<h3 style='text-align: left;'> 6. Explain deadlocks and race conditions. </h3>"
   ]
  },
  {
   "cell_type": "markdown",
   "id": "8e3e1763",
   "metadata": {},
   "source": [
    "<p> <b> Ans:- <br><br> Deadlocks:- <br> When two processes are waiting for each other directly or indirectly, it is called deadlock. <br> This usually occurs when two processes are waiting for shared resources acquired by others. <br> For example, If thread T1 acquired resource R1 and it also needs resource R2 for it to accomplish its task. <br> But the resource R2 is acquired by thread T2 which is waiting for resource R1(which is acquired by T1). <br> Neither of them will be able to accomplish its task, as they keep waiting for the other resources they need. <br> A deadlock is a concurrency failure mode where a thread or threads wait for a condition that never occurs.<br> The result is that the deadlock threads are unable to progress and the program is stuck or frozen and must be terminated forcefully.<br>There are many ways in which you may encounter a deadlock in your concurrent program. Deadlocks are not developed intentionally, instead, they are an unexpected side effect or bug in concurrency programming.<br> Common examples of the cause of threading deadlocks include: <br> 1) A thread that waits on itself (e.g. attempts to acquire the same mutex lock twice).<br>2) Threads that wait on each other (e.g. A waits on B, B waits on A).<br>3) Thread that fails to release a resource (e.g. mutex lock, semaphore, barrier, condition, event, etc.).<br>4) Threads that acquire mutex locks in different orders (e.g. fail to perform lock ordering). <br> Deadlocks may be easy to describe, but hard to detect in an application just from reading code. <br><br> Race Conditions:- <br> When two processes are competing with each other causing data corruption. <br> For example, if two processes/threads are trying to execute the following conditions simultaneously, they cause data corruption: <br> Thread 1: <br> total = num1 + num2 <br> Thread 2: <br> total = num1 - num2 <br> It is very common for the race conditions to go unnoticed during testing even after multiple tests and code reviews. But in production, there would be a lot of processes and threads working parallelly and compete for the same resources, and this problem would occur. </b> </p>"
   ]
  },
  {
   "cell_type": "markdown",
   "id": "042d76f3",
   "metadata": {},
   "source": [
    "<h4 style='text-align: right;'> Yash Sanjeev Halwai </h4>"
   ]
  }
 ],
 "metadata": {
  "kernelspec": {
   "display_name": "Python 3 (ipykernel)",
   "language": "python",
   "name": "python3"
  },
  "language_info": {
   "codemirror_mode": {
    "name": "ipython",
    "version": 3
   },
   "file_extension": ".py",
   "mimetype": "text/x-python",
   "name": "python",
   "nbconvert_exporter": "python",
   "pygments_lexer": "ipython3",
   "version": "3.9.7"
  }
 },
 "nbformat": 4,
 "nbformat_minor": 5
}
