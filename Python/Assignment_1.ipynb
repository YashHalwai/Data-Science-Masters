{
 "cells": [
  {
   "cell_type": "markdown",
   "id": "80c5e376",
   "metadata": {},
   "source": [
    "<div style=\"text-align: center\"> <h1>Assignment 1</h1></div>"
   ]
  },
  {
   "cell_type": "markdown",
   "id": "52b5b6b0",
   "metadata": {},
   "source": [
    "<h2 style='text-align: left;'> Assignment Questions </h2>"
   ]
  },
  {
   "cell_type": "markdown",
   "id": "3e64f400",
   "metadata": {},
   "source": [
    "<h3 style='text-align: left;'> 1. Who developed Python Programming Language? </h3>"
   ]
  },
  {
   "cell_type": "markdown",
   "id": "27628e73",
   "metadata": {},
   "source": [
    "<p style=’text-align: left;’> <b>Ans:- <br><mark>Guido van Rossum</mark> developed Python Programming Language.<b> </p>\n"
   ]
  },
  {
   "cell_type": "markdown",
   "id": "32df882c",
   "metadata": {},
   "source": [
    "<h3 style='text-align: left;'> 2. Which type of Programming does Python support? </h3>"
   ]
  },
  {
   "cell_type": "markdown",
   "id": "263ab28f",
   "metadata": {},
   "source": [
    "<p style=’text-align: left;’> <b>Ans:- <br>Python is an interpreted programming language, supporting object-oriented, structured, and functional programming.<b> </p>"
   ]
  },
  {
   "cell_type": "markdown",
   "id": "02ba14e4",
   "metadata": {},
   "source": [
    "<h3 style='text-align: left;'> 3. Is Python case sensitive when dealing with identifiers? </h3>"
   ]
  },
  {
   "cell_type": "markdown",
   "id": "fe1587c9",
   "metadata": {},
   "source": [
    "<p style=’text-align: left;’> <b>Ans:- <br>Yes, case is always significant while dealing with identifiers in python.<br>(Yes, Python is a case-sensitive language, i.e., it treats uppercase and lowercase characters differently. This applies to identifiers too. You must avoid using the same name with different cases while naming identifiers.)<b> </p>\n"
   ]
  },
  {
   "cell_type": "markdown",
   "id": "e27b94af",
   "metadata": {},
   "source": [
    "<h3 style='text-align: left;'> 4. What is the correct extension of the python file? </h3>"
   ]
  },
  {
   "cell_type": "markdown",
   "id": "2ea96a4a",
   "metadata": {},
   "source": [
    "<p style=’text-align: left;’> <b>Ans:- <br>‘<mark>.py</mark>’ is the correct extension of the Python file. <br>Python programs can be written in any text editor. <br>To save these programs we need to save in files with file extension ‘.py’..<b> </p>\n"
   ]
  },
  {
   "cell_type": "markdown",
   "id": "71c90b6d",
   "metadata": {},
   "source": [
    "<h3 style='text-align: left;'> 5. Is Python code compiled or interpreted? </h3>"
   ]
  },
  {
   "cell_type": "markdown",
   "id": "de1d6253",
   "metadata": {},
   "source": [
    "<p style=’text-align: left;’> <b>Ans:- <br>Python is an interpreted language, which means the source code of a Python program is converted into bytecode that is then executed by the Python virtual machine. Python is different from major compiled languages, such as C and C + +, as Python code is not required to be built and linked like code for these languages.\n",
    "<br>Python is both compiled as well as an interpreted language, which means when we run a python code, it is first compiled and then interpreted line by line.<b> </p>"
   ]
  },
  {
   "cell_type": "markdown",
   "id": "254b240e",
   "metadata": {},
   "source": [
    "<h3 style='text-align: left;'> 6. Name a few blocks of code used to define in Python Language? </h3>"
   ]
  },
  {
   "cell_type": "markdown",
   "id": "3f901a13",
   "metadata": {},
   "source": [
    "<p style=’text-align: left;’> <b>Ans:- <br>Indentation is used to define a block of code in python. <br>Braces {} are used to define a block of code in most programming languages, like C, C++, and Java. But this indentation makes python unique among all programming languages.<b> </p>\n"
   ]
  },
  {
   "cell_type": "markdown",
   "id": "1eeee34a",
   "metadata": {},
   "source": [
    "<h3 style='text-align: left;'> 7. State a character used to give single-line comments in Python? </h3>"
   ]
  },
  {
   "cell_type": "markdown",
   "id": "b5a6eaad",
   "metadata": {},
   "source": [
    "<p style=’text-align: left;’> <b>Ans:- <br>Hash character (<mark>#</mark>) is used to comment the single line in the Python program.<b> </p>"
   ]
  },
  {
   "cell_type": "markdown",
   "id": "11df9885",
   "metadata": {},
   "source": [
    "<h3 style='text-align: left;'> 8. Mention functions which can help us to find the version of python that we are currently working on? </h3>"
   ]
  },
  {
   "cell_type": "markdown",
   "id": "3e150973",
   "metadata": {},
   "source": [
    "<p style=’text-align: left;’> <b>Ans:- <br>The function <mark>sys.version</mark> can help us to find the version of python that we are currently working on. <br>It also contains information on the build number and compiler used. <br>For example, 3.5.2, 2.7.3 etc. this function also returns the current date, time, bits etc along with the version.<b> </p>"
   ]
  },
  {
   "cell_type": "markdown",
   "id": "deb2dcb9",
   "metadata": {},
   "source": [
    "<h3 style='text-align: left;'> 9. Python supports the creation of anonymous functions at runtime, using a construct called <mark>lambda</mark>. <br> <br> [Python supports the creation of anonymous functions (i.e. functions that are not bound to a name) at runtime, using a construct called lambda. <br>Lambda functions are restricted to a single expression. They can be used wherever normal functions can be used.]</h3>"
   ]
  },
  {
   "cell_type": "markdown",
   "id": "38f30501",
   "metadata": {},
   "source": [
    "<h3 style='text-align: left;'> 10. What does pip stands for python? </h3>"
   ]
  },
  {
   "cell_type": "markdown",
   "id": "555ebb8d",
   "metadata": {},
   "source": [
    "<p style=’text-align: left;’> <b>Ans:- <br>pip stands for <mark>preferred installer program</mark> for python.<b> </p>\n"
   ]
  },
  {
   "cell_type": "markdown",
   "id": "fc0848c7",
   "metadata": {},
   "source": [
    "<h3 style='text-align: left;'> 11. Mention a few built in functions in python? </h3>"
   ]
  },
  {
   "cell_type": "markdown",
   "id": "3c3f7dcf",
   "metadata": {},
   "source": [
    "<p style=’text-align: left;’><b>Ans:- <br>Few Built in functions in python:  <ul>\n",
    "<li>print( ) function</li>\n",
    "<li>type( ) function</li>\n",
    "<li>input( ) function</li>\n",
    "<li>abs( ) function</li>\n",
    "<li>pow( ) function</li>\n",
    "<li>dir( ) function</li>\n",
    "<li>sorted( ) function</li>\n",
    "<li>max( ) function</li>\n",
    "<li>round( ) function</li>\n",
    "<li>divmod( ) function</li>\n",
    "<li>id( ) function</li>\n",
    "<li>ord( ) function</li>\n",
    "<li>len( ) function</li>\n",
    "<li>sum( ) function</li>\n",
    "<li>help( ) function</li>\n",
    "</ul>    \n",
    "<b> </p>"
   ]
  },
  {
   "cell_type": "markdown",
   "id": "cf45f850",
   "metadata": {},
   "source": [
    "<h3 style='text-align: left;'> 12. What is the maximum possible length of identifier in python? </h3>"
   ]
  },
  {
   "cell_type": "markdown",
   "id": "a06d952f",
   "metadata": {},
   "source": [
    "<p style=’text-align: left;’> <b>Ans:- <br>An identifier can have a maximum length of <mark>79</mark> characters in Python.<b></p>"
   ]
  },
  {
   "cell_type": "markdown",
   "id": "dffd1956",
   "metadata": {},
   "source": [
    "<h3 style='text-align: left;'> 13. What are the benefits of using Python? </h3>"
   ]
  },
  {
   "cell_type": "markdown",
   "id": "4740085d",
   "metadata": {},
   "source": [
    "<p style=’text-align: left;’> <b>Ans:- <br>Benefits of using Python:\n",
    "\n",
    "Python is a general-purpose programming language that has a simple, easy-to-learn syntax that emphasizes readability and therefore reduces the cost of program maintenance. Moreover, the language is capable of scripting, is completely open-source, and supports third-party packages encouraging modularity and code reuse.\n",
    "<br>Its high-level data structures, combined with dynamic typing and dynamic binding, attract a huge community of developers for Rapid Application Development and deployment.<b></p>"
   ]
  },
  {
   "cell_type": "markdown",
   "id": "479d610e",
   "metadata": {},
   "source": [
    "<h3 style='text-align: left;'> 14. How is memory managed in python? </h3>"
   ]
  },
  {
   "cell_type": "markdown",
   "id": "3eb6962b",
   "metadata": {},
   "source": [
    "<p style=’text-align: left;’><b>Ans:- <br>Memory in Python is managed by Python private heap space. All Python objects and data structures are located in a private heap. This private heap is taken care of by Python Interpreter itself, and a programmer doesn’t have access to this private heap.\n",
    "<br>Python memory manager takes care of the allocation of Python private heap space.\n",
    "<br>Memory for Python private heap space is made available by Python’s in-built garbage collector, which recycles and frees up all the unused memory.<b></p>"
   ]
  },
  {
   "cell_type": "markdown",
   "id": "feee6f97",
   "metadata": {},
   "source": [
    "<h3 style='text-align: left;'> 15. How to install Python on Windows and set path variables? </h3>"
   ]
  },
  {
   "cell_type": "markdown",
   "id": "a397c1d5",
   "metadata": {},
   "source": [
    "<p style=’text-align: left;’> <b>Ans:- <br>\n",
    "    Step 1: Download the Python Installer binaries<br>\n",
    "    Step 2: Run the Executable Installer<br>\n",
    "    Step 3: Add Python to environmental variables<br>\n",
    "    Step 4: Verify the Python Installation<br>\n",
    "    \n",
    "The complete path of python.exe can be added by:\n",
    "\n",
    "Right-clicking This PC and going to Properties.\n",
    "\n",
    "Clicking on the Advanced system settings in the menu on the left.\n",
    "\n",
    "Clicking on the Environment Variables button o​n the bottom right.\n",
    "\n",
    "In the System variables section, selecting the Path variable and clicking on Edit. The next screen will show all the directories that are currently a part of the PATH variable.\n",
    "\n",
    "Clicking on New and entering Python’s install directory.\n",
    "\n",
    "Python can now be used directly from the command prompt without having to write its location. Try executing the command python --version; it will output the version of Python installed on your system.<b></p>"
   ]
  },
  {
   "cell_type": "markdown",
   "id": "ef0f1f94",
   "metadata": {},
   "source": [
    "<h3 style='text-align: left;'> 16. Is indentation required in python? </h3>"
   ]
  },
  {
   "cell_type": "markdown",
   "id": "5b889c05",
   "metadata": {},
   "source": [
    "<p style=’text-align: left;’> <b>Ans:- <br>Yes, Indentation is mandatory in python to define the blocks of statements. It is preferred to use whitespaces instead of tabs to indent in python. Python uses four spaces as default indentation spaces.<b></p>"
   ]
  },
  {
   "cell_type": "markdown",
   "id": "7b9d8c30",
   "metadata": {},
   "source": [
    "<h4 style='text-align: right;'><b> Yash Sanjeev Halwai </b> </h4>"
   ]
  }
 ],
 "metadata": {
  "kernelspec": {
   "display_name": "Python 3 (ipykernel)",
   "language": "python",
   "name": "python3"
  },
  "language_info": {
   "codemirror_mode": {
    "name": "ipython",
    "version": 3
   },
   "file_extension": ".py",
   "mimetype": "text/x-python",
   "name": "python",
   "nbconvert_exporter": "python",
   "pygments_lexer": "ipython3",
   "version": "3.9.7"
  }
 },
 "nbformat": 4,
 "nbformat_minor": 5
}
