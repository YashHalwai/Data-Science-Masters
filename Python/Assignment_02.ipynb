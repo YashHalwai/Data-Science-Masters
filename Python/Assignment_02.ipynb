{
 "cells": [
  {
   "cell_type": "markdown",
   "id": "00cfc362",
   "metadata": {},
   "source": [
    "<div style = \"text-align: center\"> <h1> Assignment 2 </h1> </div>"
   ]
  },
  {
   "cell_type": "markdown",
   "id": "5927f77a",
   "metadata": {},
   "source": [
    "<h2 style = 'text-align: left';> Assignment Questions </h2>"
   ]
  },
  {
   "cell_type": "markdown",
   "id": "6caa2b44",
   "metadata": {},
   "source": [
    "<h3 'text-align: left';> 1. Write a program to accept percentage from the user and display the grade according to follwing criteria: </h3>\n",
    "\n",
    "<table align = \"left\"> \n",
    "    <tr>\n",
    "        <th> Marks </th>\n",
    "        <th> Grade </th>\n",
    "    </tr>\n",
    "    <tr>\n",
    "        <td> >90 </td>\n",
    "        <td> A </td>\n",
    "    </tr>  \n",
    "    <tr>\n",
    "        <td> >80 and <=90 </td>\n",
    "        <td> B </td>\n",
    "    </tr>   \n",
    "    <tr>\n",
    "        <td> >=60 and <=80 </td>\n",
    "        <td> C </td>\n",
    "    </tr>   \n",
    "    <tr>\n",
    "        <td> below 60 </td>\n",
    "        <td> D </td>\n",
    "    </tr>  \n",
    "</table>"
   ]
  },
  {
   "cell_type": "code",
   "execution_count": 12,
   "id": "2eacb8a5",
   "metadata": {},
   "outputs": [
    {
     "name": "stdout",
     "output_type": "stream",
     "text": [
      "Enter your percentage:97\n",
      "Your grade is A\n"
     ]
    }
   ],
   "source": [
    "p = int(input(\"Enter your percentage:\"))\n",
    "\n",
    "if(p > 90):\n",
    "    print(\"Your grade is A\")\n",
    "elif(p > 80 and p <= 90):\n",
    "    print(\"Your Grade is B\")\n",
    "elif(p >= 60 and p <= 80):\n",
    "    print(\"Your Grade is C\")\n",
    "else:\n",
    "    print(\"Your Grade is D\")"
   ]
  },
  {
   "cell_type": "markdown",
   "id": "8ceaa345",
   "metadata": {},
   "source": [
    "<h3 'text-align: left';> 2. Write a program to accept the cost price of a bike and display the road tax to be paid accorsing to the following criteria: </h3>\n",
    "\n",
    "<table align = \"left\"> \n",
    "    <tr>\n",
    "        <th> Tax </th>\n",
    "        <th> Cost Price (in Rs) </th>\n",
    "    </tr>\n",
    "    <tr>\n",
    "        <td> 15% </td>\n",
    "        <td> >100000 </td>\n",
    "    </tr>  \n",
    "    <tr>\n",
    "        <td> 10% </td>\n",
    "        <td> >50000 and <=100000 </td>\n",
    "    </tr>   \n",
    "    <tr>\n",
    "        <td> 5% </td>\n",
    "        <td> <=50000 </td>\n",
    "    </tr>   \n",
    "</table>    "
   ]
  },
  {
   "cell_type": "code",
   "execution_count": 5,
   "id": "a201d5c1",
   "metadata": {},
   "outputs": [
    {
     "name": "stdout",
     "output_type": "stream",
     "text": [
      "Enter Cost Price of bike: 75000\n",
      "Tax = 10%\n"
     ]
    }
   ],
   "source": [
    "cost_price = int(input(\"Enter Cost Price of bike: \"))\n",
    "\n",
    "if cost_price > 100000:\n",
    "    print(\"Tax = 15%\")\n",
    "elif cost_price > 50000 and cost_price <= 100000:\n",
    "    print(\"Tax = 10%\")\n",
    "else:\n",
    "    print(\"Tax = 5%\")    "
   ]
  },
  {
   "cell_type": "markdown",
   "id": "97e3f49f",
   "metadata": {},
   "source": [
    "<h3 'text-align: left';> 3. Accept any city from the user and display monuments of that city: </h3>\n",
    "\n",
    "<table align = \"left\"> \n",
    "    <tr>\n",
    "        <th> City </th>\n",
    "        <th> Monument </th>\n",
    "    </tr>\n",
    "    <tr>\n",
    "        <td> Delhi </td>\n",
    "        <td> Red Fort </td>\n",
    "    </tr>  \n",
    "    <tr>\n",
    "        <td> Agra </td>\n",
    "        <td> Taj Mahal </td>\n",
    "    </tr>   \n",
    "    <tr>\n",
    "        <td> Jaipur </td>\n",
    "        <td> Jal Mahal </td>\n",
    "    </tr>   \n",
    "</table>    "
   ]
  },
  {
   "cell_type": "code",
   "execution_count": 1,
   "id": "d0a31ed2",
   "metadata": {},
   "outputs": [
    {
     "name": "stdout",
     "output_type": "stream",
     "text": [
      "Enter city: delhi\n",
      "Red Fort\n"
     ]
    }
   ],
   "source": [
    "city = input(\"Enter city: \")\n",
    "\n",
    "if city == \"Delhi\" or city == \"delhi\":\n",
    "    print(\"Red Fort\")\n",
    "elif city == \"Agra\" or city == \"agra\":\n",
    "    print(\"Taj Mahal\")\n",
    "elif city == \"Jaipur\" or city == \"jaipur\":\n",
    "    print(\"Jal Mahal\")\n",
    "else:\n",
    "    print(\"Enter valid city\")"
   ]
  },
  {
   "cell_type": "markdown",
   "id": "10056db0",
   "metadata": {},
   "source": [
    "<h3 'text-align: left';> 4. Check how many times a given number can be divided by 3 before it is less than or equal to 10. </h3>"
   ]
  },
  {
   "cell_type": "code",
   "execution_count": 8,
   "id": "5017a30f",
   "metadata": {},
   "outputs": [
    {
     "name": "stdout",
     "output_type": "stream",
     "text": [
      "Enter number: 90\n",
      "Number of times = 2\n"
     ]
    }
   ],
   "source": [
    "number = int(input(\"Enter number: \"))\n",
    "count = 0\n",
    "\n",
    "while number > 10:\n",
    "    number = number / 3\n",
    "    count += 1\n",
    "print(\"Number of times =\",count)    "
   ]
  },
  {
   "cell_type": "markdown",
   "id": "e6f71dcf",
   "metadata": {},
   "source": [
    "<h3 'text-align: left';> 5. Why and When to use while loop in python give a detailed description with example. </h3>"
   ]
  },
  {
   "cell_type": "markdown",
   "id": "836e0d6a",
   "metadata": {},
   "source": [
    "<p style=’text-align: left;’> <b>Ans:- Python while loop is used to run a block code until a certain condition is met.<br><br>\n",
    "        The syntax of while loop is: <br>\n",
    "    while condition: <br>\n",
    "    # body of while loop\n",
    "    <br>\n",
    "    Here,<br>\n",
    "    1) A while loop evaluates the condition<br>\n",
    "    2) If the condition evaluates to True, the code inside the while loop is executed.<br>\n",
    "    3) condition is evaluated again.<br>\n",
    "    4) This process continues until the condition is False.<br>\n",
    "    5) When condition evaluates to False, the loop stops.<br>\n",
    "    <b> </p>"
   ]
  },
  {
   "cell_type": "markdown",
   "id": "32cbafe1",
   "metadata": {},
   "source": [
    "# Example: -"
   ]
  },
  {
   "cell_type": "code",
   "execution_count": 17,
   "id": "435f1156",
   "metadata": {},
   "outputs": [
    {
     "name": "stdout",
     "output_type": "stream",
     "text": [
      "1\n",
      "2\n",
      "3\n",
      "4\n",
      "5\n"
     ]
    }
   ],
   "source": [
    "# program to display numbers from 1 to 5\n",
    "\n",
    "# initialize the variable\n",
    "i = 1\n",
    "n = 5\n",
    "\n",
    "# while loop from i = 1 to 5\n",
    "while i <= n:\n",
    "    print(i)\n",
    "    i = i + 1"
   ]
  },
  {
   "cell_type": "markdown",
   "id": "b9162206",
   "metadata": {},
   "source": [
    "<h3 'text-align: left';> 6. Use nested while loop to print 3 different pattern. </h3>"
   ]
  },
  {
   "cell_type": "markdown",
   "id": "9108b9df",
   "metadata": {},
   "source": [
    "# Pattern 1: - "
   ]
  },
  {
   "cell_type": "code",
   "execution_count": 34,
   "id": "eaaafb3c",
   "metadata": {},
   "outputs": [
    {
     "name": "stdout",
     "output_type": "stream",
     "text": [
      "Enter number of rows: 5\n",
      "* \n",
      "* * \n",
      "* * * \n",
      "* * * * \n",
      "* * * * * \n"
     ]
    }
   ],
   "source": [
    "n = int(input(\"Enter number of rows: \"))\n",
    "i = 1\n",
    "while i <= n:\n",
    "    j = 1\n",
    "    while j <= i:\n",
    "        # printing stars\n",
    "        print(\"*\", end=\" \")\n",
    "        j = j + 1\n",
    "    print()\n",
    "    i = i + 1"
   ]
  },
  {
   "cell_type": "markdown",
   "id": "c7f9e298",
   "metadata": {},
   "source": [
    "# Pattern 2: - "
   ]
  },
  {
   "cell_type": "code",
   "execution_count": 39,
   "id": "3e151ea8",
   "metadata": {},
   "outputs": [
    {
     "name": "stdout",
     "output_type": "stream",
     "text": [
      "Enter number of rows: 5\n",
      "* * * * * \n",
      "* * * * \n",
      "* * * \n",
      "* * \n",
      "* \n"
     ]
    }
   ],
   "source": [
    "n = int(input(\"Enter number of rows: \"))\n",
    "i = 1\n",
    "while i <= n :\n",
    "    j = n\n",
    "    while j >= i:\n",
    "        # printing stars\n",
    "        print(\"*\", end=\" \")\n",
    "        j = j - 1\n",
    "    print()\n",
    "    i = i + 1"
   ]
  },
  {
   "cell_type": "markdown",
   "id": "9e85a7b4",
   "metadata": {},
   "source": [
    "# Pattern 3: -"
   ]
  },
  {
   "cell_type": "code",
   "execution_count": 40,
   "id": "a4e8d90f",
   "metadata": {},
   "outputs": [
    {
     "name": "stdout",
     "output_type": "stream",
     "text": [
      "Enter number of rows: 5\n",
      "* * * * * \n",
      "* * * * * \n",
      "* * * * * \n",
      "* * * * * \n",
      "* * * * * \n"
     ]
    }
   ],
   "source": [
    "n = int(input(\"Enter number of rows: \"))\n",
    "i = 1\n",
    "while i <= n :\n",
    "    j = 1\n",
    "    while j <= n:\n",
    "        # printing stars\n",
    "        print(\"*\", end=\" \")\n",
    "        j = j + 1\n",
    "    print()\n",
    "    i = i + 1"
   ]
  },
  {
   "cell_type": "markdown",
   "id": "7231891b",
   "metadata": {},
   "source": [
    "<h3 'text-align: left';> 7. 8. Reverse a while loop to display numbers from 10 to 1. </h3>"
   ]
  },
  {
   "cell_type": "code",
   "execution_count": 1,
   "id": "f5c69e0a",
   "metadata": {},
   "outputs": [
    {
     "name": "stdout",
     "output_type": "stream",
     "text": [
      "10\n",
      "9\n",
      "8\n",
      "7\n",
      "6\n",
      "5\n",
      "4\n",
      "3\n",
      "2\n",
      "1\n"
     ]
    }
   ],
   "source": [
    "number = 10\n",
    "\n",
    "i = 1\n",
    "\n",
    "while number >= 1:\n",
    "    print(number)\n",
    "    number = number - 1"
   ]
  },
  {
   "cell_type": "markdown",
   "id": "6cb122ef",
   "metadata": {},
   "source": [
    "<h4 style='text-align: right;'><b> Yash Sanjeev Halwai </b> </h4>"
   ]
  }
 ],
 "metadata": {
  "kernelspec": {
   "display_name": "Python 3 (ipykernel)",
   "language": "python",
   "name": "python3"
  },
  "language_info": {
   "codemirror_mode": {
    "name": "ipython",
    "version": 3
   },
   "file_extension": ".py",
   "mimetype": "text/x-python",
   "name": "python",
   "nbconvert_exporter": "python",
   "pygments_lexer": "ipython3",
   "version": "3.9.7"
  }
 },
 "nbformat": 4,
 "nbformat_minor": 5
}
