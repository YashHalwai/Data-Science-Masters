{
 "cells": [
  {
   "cell_type": "markdown",
   "id": "da8a52d6",
   "metadata": {},
   "source": [
    "<div style=\"text-align: center\"> <h1>Assignment 5</h1></div>"
   ]
  },
  {
   "cell_type": "markdown",
   "id": "c3c8fd11",
   "metadata": {},
   "source": [
    "<h2 style='text-align: left;'> Assignment Questions </h2>"
   ]
  },
  {
   "cell_type": "markdown",
   "id": "1c66ed66",
   "metadata": {},
   "source": [
    "<h3 style='text-align: left;'> 1. Create a python program to sort the given list of tuples based on integer value using a \n",
    "lambda function. <br><br>\n",
    "[('Sachin Tendulkar', 34357), ('Ricky Ponting', 27483), ('Jack Kallis', 25534), ('Virat Kohli', 24936)]\n",
    "</h3>"
   ]
  },
  {
   "cell_type": "code",
   "execution_count": 31,
   "id": "df185dc8",
   "metadata": {},
   "outputs": [],
   "source": [
    "cricketer = [('Sachin Tendulkar', 34357), ('Ricky Ponting', 27483), ('Jack Kallis', 25534), ('Virat Kohli', 24936)] "
   ]
  },
  {
   "cell_type": "code",
   "execution_count": 32,
   "id": "220638b6",
   "metadata": {},
   "outputs": [],
   "source": [
    "newList = sorted(cricketer, key = lambda x : x[1], reverse = False)"
   ]
  },
  {
   "cell_type": "code",
   "execution_count": 33,
   "id": "63167d6c",
   "metadata": {},
   "outputs": [
    {
     "name": "stdout",
     "output_type": "stream",
     "text": [
      "[('Virat Kohli', 24936), ('Jack Kallis', 25534), ('Ricky Ponting', 27483), ('Sachin Tendulkar', 34357)]\n"
     ]
    }
   ],
   "source": [
    "print(newList)"
   ]
  },
  {
   "cell_type": "code",
   "execution_count": 34,
   "id": "fdf5b167",
   "metadata": {},
   "outputs": [],
   "source": [
    "#Another way\n",
    "cricketer.sort(key = lambda x:x[1])"
   ]
  },
  {
   "cell_type": "code",
   "execution_count": 35,
   "id": "fa90cfa4",
   "metadata": {},
   "outputs": [
    {
     "name": "stdout",
     "output_type": "stream",
     "text": [
      "[('Virat Kohli', 24936), ('Jack Kallis', 25534), ('Ricky Ponting', 27483), ('Sachin Tendulkar', 34357)]\n"
     ]
    }
   ],
   "source": [
    "print(cricketer)"
   ]
  },
  {
   "cell_type": "markdown",
   "id": "c800d133",
   "metadata": {},
   "source": [
    "<h3 style='text-align: left;'> 2. Write a Python Program to find the squares of all the numbers in the given list of integers using \n",
    "lambda and map functions. <br><br>\n",
    "[1, 2, 3, 4, 5, 6, 7, 8, 9, 10]\n",
    "</h3>"
   ]
  },
  {
   "cell_type": "code",
   "execution_count": 36,
   "id": "3181a4ff",
   "metadata": {},
   "outputs": [],
   "source": [
    "number = [1, 2, 3, 4, 5, 6, 7, 8, 9, 10]"
   ]
  },
  {
   "cell_type": "code",
   "execution_count": 37,
   "id": "5646f6ef",
   "metadata": {},
   "outputs": [],
   "source": [
    "sq = list(map(lambda x : x ** 2, number))"
   ]
  },
  {
   "cell_type": "code",
   "execution_count": 38,
   "id": "df485a9f",
   "metadata": {},
   "outputs": [
    {
     "name": "stdout",
     "output_type": "stream",
     "text": [
      "[1, 4, 9, 16, 25, 36, 49, 64, 81, 100]\n"
     ]
    }
   ],
   "source": [
    "print(sq)"
   ]
  },
  {
   "cell_type": "code",
   "execution_count": 39,
   "id": "bba6bb68",
   "metadata": {},
   "outputs": [],
   "source": [
    "square_number = list(map(lambda x : x ** 2, number))"
   ]
  },
  {
   "cell_type": "code",
   "execution_count": 40,
   "id": "dd2a1c34",
   "metadata": {},
   "outputs": [
    {
     "name": "stdout",
     "output_type": "stream",
     "text": [
      "[1, 4, 9, 16, 25, 36, 49, 64, 81, 100]\n"
     ]
    }
   ],
   "source": [
    "print(square_number)"
   ]
  },
  {
   "cell_type": "markdown",
   "id": "f9df7a8f",
   "metadata": {},
   "source": [
    "<h3 style='text-align: left;'>\n",
    "3. Write a python program to convert the given list of integers into a tuple of strings. Use map and \n",
    "lambda functions.\n",
    "<br>\n",
    "Given String: [1, 2, 3, 4, 5, 6, 7, 8, 9, 10]\n",
    "<br>\n",
    "Expected output: ('1', '2', '3', '4', '5', '6', '7', '8', '9', '10')\n",
    "</h3>"
   ]
  },
  {
   "cell_type": "code",
   "execution_count": 41,
   "id": "1fb75b96",
   "metadata": {},
   "outputs": [],
   "source": [
    "L = [1, 2, 3, 4, 5, 6, 7, 8, 9, 10]"
   ]
  },
  {
   "cell_type": "code",
   "execution_count": 42,
   "id": "001c6fdb",
   "metadata": {},
   "outputs": [],
   "source": [
    "s = tuple(map(lambda x : x, L))"
   ]
  },
  {
   "cell_type": "code",
   "execution_count": 43,
   "id": "bc7786ff",
   "metadata": {},
   "outputs": [],
   "source": [
    "s1 = tuple(map(lambda x : str(x), L))"
   ]
  },
  {
   "cell_type": "code",
   "execution_count": 44,
   "id": "cb0a6919",
   "metadata": {},
   "outputs": [
    {
     "name": "stdout",
     "output_type": "stream",
     "text": [
      "('1', '2', '3', '4', '5', '6', '7', '8', '9', '10')\n"
     ]
    }
   ],
   "source": [
    "print(s1)"
   ]
  },
  {
   "cell_type": "code",
   "execution_count": 45,
   "id": "e12d59a7",
   "metadata": {},
   "outputs": [],
   "source": [
    "S = tuple(map(str,L))"
   ]
  },
  {
   "cell_type": "code",
   "execution_count": 46,
   "id": "501aa9ce",
   "metadata": {},
   "outputs": [
    {
     "name": "stdout",
     "output_type": "stream",
     "text": [
      "('1', '2', '3', '4', '5', '6', '7', '8', '9', '10')\n"
     ]
    }
   ],
   "source": [
    "print(S)"
   ]
  },
  {
   "cell_type": "markdown",
   "id": "1f53319c",
   "metadata": {},
   "source": [
    "<h3 style='text-align: left;'>\n",
    "4.   Write a python program using reduce function to compute the product of a list containing numbers \n",
    "from 1 to 25.\n",
    "</h3>"
   ]
  },
  {
   "cell_type": "code",
   "execution_count": 47,
   "id": "5dbd8e95",
   "metadata": {},
   "outputs": [],
   "source": [
    "from functools import reduce"
   ]
  },
  {
   "cell_type": "code",
   "execution_count": 48,
   "id": "90ba9843",
   "metadata": {},
   "outputs": [
    {
     "name": "stdout",
     "output_type": "stream",
     "text": [
      "[1, 2, 3, 4, 5, 6, 7, 8, 9, 10, 11, 12, 13, 14, 15, 16, 17, 18, 19, 20, 21, 22, 23, 24, 25]\n"
     ]
    }
   ],
   "source": [
    "number = []\n",
    "for i in range(1,26):\n",
    "    number.append(i)\n",
    "print(number)    "
   ]
  },
  {
   "cell_type": "code",
   "execution_count": 49,
   "id": "277495ec",
   "metadata": {},
   "outputs": [
    {
     "data": {
      "text/plain": [
       "15511210043330985984000000"
      ]
     },
     "execution_count": 49,
     "metadata": {},
     "output_type": "execute_result"
    }
   ],
   "source": [
    "reduce(lambda x,y:x*y,number)"
   ]
  },
  {
   "cell_type": "code",
   "execution_count": 50,
   "id": "a9d362a1",
   "metadata": {},
   "outputs": [],
   "source": [
    "import operator"
   ]
  },
  {
   "cell_type": "code",
   "execution_count": 51,
   "id": "6bacb184",
   "metadata": {},
   "outputs": [
    {
     "name": "stdout",
     "output_type": "stream",
     "text": [
      "The product of list elements is : 15511210043330985984000000\n"
     ]
    }
   ],
   "source": [
    "# using reduce to compute product\n",
    "# using operator functions\n",
    "print(\"The product of list elements is : \", end=\"\")\n",
    "print(reduce(operator.mul, number))"
   ]
  },
  {
   "cell_type": "markdown",
   "id": "4fecd0ca",
   "metadata": {},
   "source": [
    "<h3 style='text-align: left;'>\n",
    "5. Write a python program to filter the numbers in a given list that are divisible by 2 and 3 using the \n",
    "filter function.\n",
    "<br><br>\n",
    "[2, 3, 6, 9, 27, 60, 90, 120, 55, 46]    \n",
    "</h3>"
   ]
  },
  {
   "cell_type": "code",
   "execution_count": 52,
   "id": "60eb7b41",
   "metadata": {},
   "outputs": [],
   "source": [
    "number = [2, 3, 6, 9, 27, 60, 90, 120, 55, 46]"
   ]
  },
  {
   "cell_type": "code",
   "execution_count": 53,
   "id": "7fc9dd9e",
   "metadata": {},
   "outputs": [
    {
     "data": {
      "text/plain": [
       "[6, 60, 90, 120]"
      ]
     },
     "execution_count": 53,
     "metadata": {},
     "output_type": "execute_result"
    }
   ],
   "source": [
    "list(filter(lambda x : x % 2 == 0 and x % 3 == 0,number))"
   ]
  },
  {
   "cell_type": "markdown",
   "id": "90d9cb9d",
   "metadata": {},
   "source": [
    "<h3 style='text-align: left;'>\n",
    "6.  Write a python program to find palindromes in the given list of strings using lambda and filter \n",
    "function.\n",
    "<br><br>\n",
    "['python', 'php', 'aba', 'radar', 'level']\n",
    "</h3>"
   ]
  },
  {
   "cell_type": "code",
   "execution_count": 54,
   "id": "88fa54fe",
   "metadata": {},
   "outputs": [],
   "source": [
    "s = ['python', 'php', 'aba', 'radar', 'level']"
   ]
  },
  {
   "cell_type": "code",
   "execution_count": 55,
   "id": "0dc3523e",
   "metadata": {},
   "outputs": [
    {
     "data": {
      "text/plain": [
       "['php', 'aba', 'radar', 'level']"
      ]
     },
     "execution_count": 55,
     "metadata": {},
     "output_type": "execute_result"
    }
   ],
   "source": [
    "list(filter(lambda x : x == x[::-1], s))"
   ]
  },
  {
   "cell_type": "markdown",
   "id": "430d462d",
   "metadata": {},
   "source": [
    "<h4 style='text-align: right;'>Yash Sanjeev Halwai</h4>"
   ]
  }
 ],
 "metadata": {
  "kernelspec": {
   "display_name": "Python 3 (ipykernel)",
   "language": "python",
   "name": "python3"
  },
  "language_info": {
   "codemirror_mode": {
    "name": "ipython",
    "version": 3
   },
   "file_extension": ".py",
   "mimetype": "text/x-python",
   "name": "python",
   "nbconvert_exporter": "python",
   "pygments_lexer": "ipython3",
   "version": "3.9.7"
  }
 },
 "nbformat": 4,
 "nbformat_minor": 5
}
