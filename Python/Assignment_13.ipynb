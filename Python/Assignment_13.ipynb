{
 "cells": [
  {
   "cell_type": "markdown",
   "id": "84539a73",
   "metadata": {},
   "source": [
    "<div style=\"text-align: center\"> <h1>Assignment 13</h1></div>"
   ]
  },
  {
   "cell_type": "markdown",
   "id": "2f25eda0",
   "metadata": {},
   "source": [
    "<h2 style='text-align: left;'> Assignment Questions </h2>"
   ]
  },
  {
   "cell_type": "markdown",
   "id": "e2c8ff79",
   "metadata": {},
   "source": [
    "<h3 style='text-align: left;'> 1.  Explain why we have to use the Exception class while creating a Custom Exception. <br> Note: Here Exception class refers to the base class for all the exceptions. </h3>"
   ]
  },
  {
   "cell_type": "markdown",
   "id": "475a555e",
   "metadata": {},
   "source": [
    "<p> <b> Ans:- <br> In Python, we can define custom exceptions by creating a new class that is derived from the built-in <br> Exception class. <br> Here's the syntax to define custom exceptions:</b> </p>"
   ]
  },
  {
   "cell_type": "code",
   "execution_count": null,
   "id": "9dc4cae0",
   "metadata": {},
   "outputs": [],
   "source": [
    "\"\"\"\n",
    "\n",
    "class CustomError(Exception):\n",
    "    ...\n",
    "    pass\n",
    "\n",
    "try:\n",
    "   ...\n",
    "\n",
    "except CustomError:\n",
    "    ...\n",
    "\n",
    "\"\"\""
   ]
  },
  {
   "cell_type": "markdown",
   "id": "0eeec771",
   "metadata": {},
   "source": [
    "<p> <b> Here, CustomError is a user-defined error which inherits from the Exception class. <br> </b> </p>"
   ]
  },
  {
   "cell_type": "markdown",
   "id": "a9fab56f",
   "metadata": {},
   "source": [
    "<p> <b> Note: <br> When we are developing a large Python program, it is a good practice to place all the user-defined exceptions that our program raises in a separate file. <br> Many standard modules define their exceptions separately as exceptions.py or errors.py (generally but not always). </b> </p>"
   ]
  },
  {
   "cell_type": "markdown",
   "id": "d8b6382d",
   "metadata": {},
   "source": [
    "# Example:-"
   ]
  },
  {
   "cell_type": "code",
   "execution_count": 1,
   "id": "6fc66809",
   "metadata": {},
   "outputs": [
    {
     "name": "stdout",
     "output_type": "stream",
     "text": [
      "Enter a number: 17\n",
      "Exception occurred: Invalid Age\n"
     ]
    }
   ],
   "source": [
    "# define Python user-defined exceptions\n",
    "class InvalidAgeException(Exception):\n",
    "    \"Raised when the input value is less than 18\"\n",
    "    pass\n",
    "\n",
    "# you need to guess this number\n",
    "number = 18\n",
    "\n",
    "try:\n",
    "    input_num = int(input(\"Enter a number: \"))\n",
    "    if input_num < number:\n",
    "        raise InvalidAgeException\n",
    "    else:\n",
    "        print(\"Eligible to Vote\")\n",
    "        \n",
    "except InvalidAgeException:\n",
    "    print(\"Exception occurred: Invalid Age\")"
   ]
  },
  {
   "cell_type": "markdown",
   "id": "26794d23",
   "metadata": {},
   "source": [
    "<h3 style='text-align: left;'> 2. Write a python program to print Python Exception Hierarchy. </h3>"
   ]
  },
  {
   "cell_type": "code",
   "execution_count": 1,
   "id": "a3159203",
   "metadata": {},
   "outputs": [
    {
     "name": "stdout",
     "output_type": "stream",
     "text": [
      "Hierarchy for Built-in exceptions is : \n",
      " BaseException\n",
      "--- Exception\n",
      "------ TypeError\n",
      "--------- MultipartConversionError\n",
      "--------- FloatOperation\n",
      "------ StopAsyncIteration\n",
      "------ StopIteration\n",
      "------ ImportError\n",
      "--------- ModuleNotFoundError\n",
      "--------- ZipImportError\n",
      "------ OSError\n",
      "--------- ConnectionError\n",
      "------------ BrokenPipeError\n",
      "------------ ConnectionAbortedError\n",
      "------------ ConnectionRefusedError\n",
      "------------ ConnectionResetError\n",
      "--------------- RemoteDisconnected\n",
      "--------- BlockingIOError\n",
      "--------- ChildProcessError\n",
      "--------- FileExistsError\n",
      "--------- FileNotFoundError\n",
      "--------- IsADirectoryError\n",
      "--------- NotADirectoryError\n",
      "--------- InterruptedError\n",
      "------------ InterruptedSystemCall\n",
      "--------- PermissionError\n",
      "--------- ProcessLookupError\n",
      "--------- TimeoutError\n",
      "--------- UnsupportedOperation\n",
      "--------- herror\n",
      "--------- gaierror\n",
      "--------- timeout\n",
      "--------- Error\n",
      "------------ SameFileError\n",
      "--------- SpecialFileError\n",
      "--------- ExecError\n",
      "--------- ReadError\n",
      "--------- SSLError\n",
      "------------ SSLCertVerificationError\n",
      "------------ SSLZeroReturnError\n",
      "------------ SSLWantReadError\n",
      "------------ SSLWantWriteError\n",
      "------------ SSLSyscallError\n",
      "------------ SSLEOFError\n",
      "--------- URLError\n",
      "------------ HTTPError\n",
      "------------ ContentTooShortError\n",
      "--------- BadGzipFile\n",
      "------ EOFError\n",
      "--------- IncompleteReadError\n",
      "------ RuntimeError\n",
      "--------- RecursionError\n",
      "--------- NotImplementedError\n",
      "------------ ZMQVersionError\n",
      "------------ StdinNotImplementedError\n",
      "--------- _DeadlockError\n",
      "--------- BrokenBarrierError\n",
      "--------- BrokenExecutor\n",
      "--------- SendfileNotAvailableError\n",
      "--------- ExtractionError\n",
      "--------- VariableError\n",
      "------ NameError\n",
      "--------- UnboundLocalError\n",
      "------ AttributeError\n",
      "--------- FrozenInstanceError\n",
      "------ SyntaxError\n",
      "--------- IndentationError\n",
      "------------ TabError\n",
      "------ LookupError\n",
      "--------- IndexError\n",
      "--------- KeyError\n",
      "------------ NoSuchKernel\n",
      "------------ UnknownBackend\n",
      "--------- CodecRegistryError\n",
      "------ ValueError\n",
      "--------- UnicodeError\n",
      "------------ UnicodeEncodeError\n",
      "------------ UnicodeDecodeError\n",
      "------------ UnicodeTranslateError\n",
      "--------- UnsupportedOperation\n",
      "--------- JSONDecodeError\n",
      "--------- SSLCertVerificationError\n",
      "--------- Error\n",
      "--------- ClassNotFound\n",
      "--------- ClipboardEmpty\n",
      "--------- MessageDefect\n",
      "------------ NoBoundaryInMultipartDefect\n",
      "------------ StartBoundaryNotFoundDefect\n",
      "------------ CloseBoundaryNotFoundDefect\n",
      "------------ FirstHeaderLineIsContinuationDefect\n",
      "------------ MisplacedEnvelopeHeaderDefect\n",
      "------------ MissingHeaderBodySeparatorDefect\n",
      "------------ MultipartInvariantViolationDefect\n",
      "------------ InvalidMultipartContentTransferEncodingDefect\n",
      "------------ UndecodableBytesDefect\n",
      "------------ InvalidBase64PaddingDefect\n",
      "------------ InvalidBase64CharactersDefect\n",
      "------------ InvalidBase64LengthDefect\n",
      "------------ HeaderDefect\n",
      "--------------- InvalidHeaderDefect\n",
      "--------------- HeaderMissingRequiredValue\n",
      "--------------- NonPrintableDefect\n",
      "--------------- ObsoleteHeaderDefect\n",
      "--------------- NonASCIILocalPartDefect\n",
      "--------- IllegalMonthError\n",
      "--------- IllegalWeekdayError\n",
      "--------- MacroToEdit\n",
      "--------- ParserError\n",
      "--------- InvalidFileException\n",
      "--------- InvalidVersion\n",
      "--------- InvalidSpecifier\n",
      "--------- InvalidMarker\n",
      "--------- UndefinedComparison\n",
      "--------- UndefinedEnvironmentName\n",
      "--------- InvalidRequirement\n",
      "------------ RequirementParseError\n",
      "------ AssertionError\n",
      "------ ArithmeticError\n",
      "--------- FloatingPointError\n",
      "--------- OverflowError\n",
      "--------- ZeroDivisionError\n",
      "------------ DivisionByZero\n",
      "------------ DivisionUndefined\n",
      "--------- DecimalException\n",
      "------------ Clamped\n",
      "------------ Rounded\n",
      "--------------- Underflow\n",
      "--------------- Overflow\n",
      "------------ Inexact\n",
      "--------------- Underflow\n",
      "--------------- Overflow\n",
      "------------ Subnormal\n",
      "--------------- Underflow\n",
      "------------ DivisionByZero\n",
      "------------ FloatOperation\n",
      "------------ InvalidOperation\n",
      "--------------- ConversionSyntax\n",
      "--------------- DivisionImpossible\n",
      "--------------- DivisionUndefined\n",
      "--------------- InvalidContext\n",
      "------ SystemError\n",
      "--------- CodecRegistryError\n",
      "------ ReferenceError\n",
      "------ MemoryError\n",
      "------ BufferError\n",
      "------ Warning\n",
      "--------- UserWarning\n",
      "------------ GetPassWarning\n",
      "------------ FormatterWarning\n",
      "--------- DeprecationWarning\n",
      "------------ ProvisionalWarning\n",
      "--------- PendingDeprecationWarning\n",
      "--------- SyntaxWarning\n",
      "--------- RuntimeWarning\n",
      "------------ ProactorSelectorThreadWarning\n",
      "------------ UnknownTimezoneWarning\n",
      "------------ PEP440Warning\n",
      "--------- FutureWarning\n",
      "------------ ProvisionalCompleterWarning\n",
      "--------- ImportWarning\n",
      "--------- UnicodeWarning\n",
      "--------- BytesWarning\n",
      "--------- ResourceWarning\n",
      "--------- DeprecatedTzFormatWarning\n",
      "--------- PkgResourcesDeprecationWarning\n",
      "------ Error\n",
      "------ _OptionError\n",
      "------ error\n",
      "------ Verbose\n",
      "------ _Error\n",
      "------ SubprocessError\n",
      "--------- CalledProcessError\n",
      "--------- TimeoutExpired\n",
      "------ _GiveupOnSendfile\n",
      "------ error\n",
      "------ LZMAError\n",
      "------ RegistryError\n",
      "------ _GiveupOnFastCopy\n",
      "------ ZMQBaseError\n",
      "--------- ZMQError\n",
      "------------ ContextTerminated\n",
      "------------ Again\n",
      "------------ InterruptedSystemCall\n",
      "--------- ZMQBindError\n",
      "--------- NotDone\n",
      "------ Error\n",
      "------ error\n",
      "------ PickleError\n",
      "--------- PicklingError\n",
      "--------- UnpicklingError\n",
      "------ _Stop\n",
      "------ TokenError\n",
      "------ StopTokenizing\n",
      "------ ClassFoundException\n",
      "------ EndOfBlock\n",
      "------ TraitError\n",
      "------ ArgumentError\n",
      "------ ArgumentTypeError\n",
      "------ ConfigError\n",
      "--------- ConfigLoaderError\n",
      "------------ ArgumentError\n",
      "--------- ConfigFileNotFound\n",
      "------ ConfigurableError\n",
      "--------- MultipleInstanceError\n",
      "------ ApplicationError\n",
      "------ NoIPAddresses\n",
      "------ Error\n",
      "--------- CancelledError\n",
      "--------- TimeoutError\n",
      "--------- InvalidStateError\n",
      "------ Incomplete\n",
      "------ TimeoutError\n",
      "------ InvalidStateError\n",
      "------ LimitOverrunError\n",
      "------ QueueEmpty\n",
      "------ QueueFull\n",
      "------ InvalidPortNumber\n",
      "------ Empty\n",
      "------ Full\n",
      "------ DuplicateKernelError\n",
      "------ TimeoutError\n",
      "------ COMError\n",
      "------ ArgumentError\n",
      "------ ReturnValueIgnoredError\n",
      "------ KeyReuseError\n",
      "------ UnknownKeyError\n",
      "------ LeakedCallbackError\n",
      "------ BadYieldError\n",
      "------ ReturnValueIgnoredError\n",
      "------ Return\n",
      "------ ErrorDuringImport\n",
      "------ BdbQuit\n",
      "------ Restart\n",
      "------ FindCmdError\n",
      "------ HomeDirError\n",
      "------ ProfileDirError\n",
      "------ IPythonCoreError\n",
      "--------- TryNext\n",
      "--------- UsageError\n",
      "--------- StdinNotImplementedError\n",
      "------ InputRejected\n",
      "------ GetoptError\n",
      "------ OptionError\n",
      "------ ErrorToken\n",
      "------ PrefilterError\n",
      "------ AliasError\n",
      "--------- InvalidAliasError\n",
      "------ Error\n",
      "--------- InterfaceError\n",
      "--------- DatabaseError\n",
      "------------ InternalError\n",
      "------------ OperationalError\n",
      "------------ ProgrammingError\n",
      "------------ IntegrityError\n",
      "------------ DataError\n",
      "------------ NotSupportedError\n",
      "------ Warning\n",
      "------ SpaceInInput\n",
      "------ DOMException\n",
      "--------- IndexSizeErr\n",
      "--------- DomstringSizeErr\n",
      "--------- HierarchyRequestErr\n",
      "--------- WrongDocumentErr\n",
      "--------- InvalidCharacterErr\n",
      "--------- NoDataAllowedErr\n",
      "--------- NoModificationAllowedErr\n",
      "--------- NotFoundErr\n",
      "--------- NotSupportedErr\n",
      "--------- InuseAttributeErr\n",
      "--------- InvalidStateErr\n",
      "--------- SyntaxErr\n",
      "--------- InvalidModificationErr\n",
      "--------- NamespaceErr\n",
      "--------- InvalidAccessErr\n",
      "--------- ValidationErr\n",
      "------ ValidationError\n",
      "------ EditReadOnlyBuffer\n",
      "------ _Retry\n",
      "------ InvalidLayoutError\n",
      "------ HeightIsUnknownError\n",
      "------ ParserSyntaxError\n",
      "------ InternalParseError\n",
      "------ _PositionUpdatingFinished\n",
      "------ SimpleGetItemNotFound\n",
      "------ UncaughtAttributeError\n",
      "------ ParamIssue\n",
      "------ _JediError\n",
      "--------- InternalError\n",
      "--------- WrongVersion\n",
      "--------- RefactoringError\n",
      "------ OnErrorLeaf\n",
      "------ InvalidPythonEnvironment\n",
      "------ MessageError\n",
      "--------- MessageParseError\n",
      "------------ HeaderParseError\n",
      "------------ BoundaryError\n",
      "--------- MultipartConversionError\n",
      "--------- CharsetError\n",
      "------ Error\n",
      "------ HTTPException\n",
      "--------- NotConnected\n",
      "--------- InvalidURL\n",
      "--------- UnknownProtocol\n",
      "--------- UnknownTransferEncoding\n",
      "--------- UnimplementedFileMode\n",
      "--------- IncompleteRead\n",
      "--------- ImproperConnectionState\n",
      "------------ CannotSendRequest\n",
      "------------ CannotSendHeader\n",
      "------------ ResponseNotReady\n",
      "--------- BadStatusLine\n",
      "------------ RemoteDisconnected\n",
      "--------- LineTooLong\n",
      "------ InteractivelyDefined\n",
      "------ KillEmbedded\n",
      "------ QueueEmpty\n",
      "------ QueueFull\n",
      "------ ExpatError\n",
      "------ Error\n",
      "--------- ProtocolError\n",
      "--------- ResponseError\n",
      "--------- Fault\n",
      "------ BadZipFile\n",
      "------ LargeZipFile\n",
      "------ error\n",
      "------ com_error\n",
      "------ internal_error\n",
      "------ ParseBaseException\n",
      "--------- ParseException\n",
      "--------- ParseFatalException\n",
      "------------ ParseSyntaxException\n",
      "------ RecursiveGrammarException\n",
      "------ ResolutionError\n",
      "--------- VersionConflict\n",
      "------------ ContextualVersionConflict\n",
      "--------- DistributionNotFound\n",
      "--------- UnknownExtra\n",
      "------ UnableToResolveVariableException\n",
      "------ InvalidTypeInArgsException\n",
      "--- GeneratorExit\n",
      "--- SystemExit\n",
      "--- KeyboardInterrupt\n",
      "--- CancelledError\n",
      "--- DebuggerInitializationError\n"
     ]
    }
   ],
   "source": [
    "# import inspect module\n",
    "import inspect\n",
    "\n",
    "# our treeClass function\n",
    "def treeClass(cls, ind = 0):\n",
    "\n",
    "    # print name of the class\n",
    "    print ('-' * ind, cls.__name__)\n",
    "\n",
    "    # iterating through subclasses\n",
    "    for i in cls.__subclasses__():\n",
    "        treeClass(i, ind + 3)\n",
    "\n",
    "print(\"Hierarchy for Built-in exceptions is : \")\n",
    "\n",
    "# inspect.getmro() Return a tuple\n",
    "# of class cls’s base classes.\n",
    "\n",
    "# building a tree hierarchy\n",
    "inspect.getclasstree(inspect.getmro(BaseException))\n",
    "\n",
    "# function call\n",
    "treeClass(BaseException)\n"
   ]
  },
  {
   "cell_type": "markdown",
   "id": "0c9e7199",
   "metadata": {},
   "source": [
    "<h3 style='text-align: left;'> 3. What errors are defined in the ArithmeticError class? Explain any two with an example. </h3>"
   ]
  },
  {
   "cell_type": "markdown",
   "id": "1cfc9ebe",
   "metadata": {},
   "source": [
    "<p> <b> Ans:- <br> ArithmeticError class is the base class for those built-in exceptions that are raised for various arithmetic errors such as : <br> 1) OverflowError <br> 2) ZeroDivisionError <br> 3) FloatingPointError"
   ]
  },
  {
   "cell_type": "markdown",
   "id": "d81ae132",
   "metadata": {},
   "source": [
    "# Example 1:- "
   ]
  },
  {
   "cell_type": "code",
   "execution_count": 5,
   "id": "e54b6e94",
   "metadata": {},
   "outputs": [
    {
     "name": "stdout",
     "output_type": "stream",
     "text": [
      "The statement is raising an arithmetic exception.\n",
      "division by zero\n"
     ]
    }
   ],
   "source": [
    "import logging\n",
    "logging.basicConfig(filename = \"error.log\", level = logging.ERROR)\n",
    "\n",
    "try:\n",
    "    a = 10 / 0\n",
    "    print(a)\n",
    "except ArithmeticError as e:\n",
    "    logging.error(\"i am trying to handle a zerodivisionerror {} \".format(e))\n",
    "    print(\"The statement is raising an arithmetic exception.\")\n",
    "    print(e)\n",
    "else:\n",
    "    print(\"Success\")"
   ]
  },
  {
   "cell_type": "markdown",
   "id": "1523dbe6",
   "metadata": {},
   "source": [
    "# Example 2:-"
   ]
  },
  {
   "cell_type": "code",
   "execution_count": 7,
   "id": "2f9d6be3",
   "metadata": {},
   "outputs": [
    {
     "name": "stdout",
     "output_type": "stream",
     "text": [
      "The statement is raising an arithmetic exception.\n",
      "math range error\n"
     ]
    }
   ],
   "source": [
    "import math\n",
    "\n",
    "try:\n",
    "    a = math.exp(1000)\n",
    "    print(a)\n",
    "except OverflowError as e:\n",
    "    logging.error(\"i am trying to handle a overflowerror {} \".format(e))\n",
    "    print(\"The statement is raising an arithmetic exception.\")\n",
    "    print(e)\n",
    "else:\n",
    "    print(\"Success\")"
   ]
  },
  {
   "cell_type": "markdown",
   "id": "46c8b19a",
   "metadata": {},
   "source": [
    "<h3 style='text-align: left;'> 4. Why LookupError class is used? Explain with an example KeyError and IndexError. </h3>"
   ]
  },
  {
   "cell_type": "markdown",
   "id": "62aea938",
   "metadata": {},
   "source": [
    "<p> <b> Ans:- <br> The LookupError exception in Python forms the base class for all exceptions that are raised when an index or a key is not found for a sequence or dictionary respectively. <br> We can use LookupError exception class to handle both IndexError and KeyError exception classes. </b> </p>"
   ]
  },
  {
   "cell_type": "markdown",
   "id": "2d2906a7",
   "metadata": {},
   "source": [
    "# Example (KeyError):-"
   ]
  },
  {
   "cell_type": "code",
   "execution_count": 13,
   "id": "4b9d7487",
   "metadata": {},
   "outputs": [
    {
     "name": "stdout",
     "output_type": "stream",
     "text": [
      "What do you want to know about the playernumber\n",
      "The statement is raising a Key Error.\n",
      "'number', <class 'KeyError'>\n",
      "'number'\n"
     ]
    }
   ],
   "source": [
    "player_info = {'name' : 'Yash', 'age' : 20, 'role': 'All rounder'}\n",
    "user_input = input(\"What do you want to know about the player\")\n",
    "\n",
    "try:\n",
    "    print(f'{user_input} is {player_info[user_input]}')\n",
    "except LookupError as e:\n",
    "    logging.error(\"i am trying to handle a lookuperror {} \".format(e.__class__))\n",
    "    print(\"The statement is raising a Key Error.\")\n",
    "    print(f'{e}, {e.__class__}')\n",
    "    print(e)"
   ]
  },
  {
   "cell_type": "markdown",
   "id": "5927ce12",
   "metadata": {},
   "source": [
    "# Example (IndexError):-"
   ]
  },
  {
   "cell_type": "code",
   "execution_count": 14,
   "id": "c4abe973",
   "metadata": {},
   "outputs": [
    {
     "name": "stdout",
     "output_type": "stream",
     "text": [
      "The statement is raising a Index Error.\n",
      "list index out of range, <class 'IndexError'>\n",
      "list index out of range\n"
     ]
    }
   ],
   "source": [
    "# lists\n",
    "\n",
    "l = [1,2,3,4.5]\n",
    "\n",
    "try:\n",
    "    print(l[10])\n",
    "except LookupError as e:\n",
    "    logging.error(\"i am trying to handle a lookuperror {} \".format(e.__class__))\n",
    "    print(\"The statement is raising a Index Error.\")\n",
    "    print(f'{e}, {e.__class__}')\n",
    "    print(e)"
   ]
  },
  {
   "cell_type": "markdown",
   "id": "bef6b96a",
   "metadata": {},
   "source": [
    "<h3 style='text-align: left;'> 5. Explain ImportError. What is ModuleNotFoundError? </h3>"
   ]
  },
  {
   "cell_type": "markdown",
   "id": "bb113bcd",
   "metadata": {},
   "source": [
    "<p> <b> Ans:- <br> In Python, when we want to include the module contents in the program then we have to import these specific modules in the program. <br> So to do this we use “import” keyword such as import statement with the module name. <br> When writing this statement and the specified module is not written properly or the imported module is not found in the Python library then the Python interpreter throws an error known as ImportError. <br><br> There are two conditions when the ImportError will be raised. <br> They are <br> 1) If the module does not exist. <br> 2) If we are trying to import submodule from the module. <br>"
   ]
  },
  {
   "cell_type": "markdown",
   "id": "482b1e4d",
   "metadata": {},
   "source": [
    "# ModuleNotFoundError"
   ]
  },
  {
   "cell_type": "markdown",
   "id": "62d01621",
   "metadata": {},
   "source": [
    "<p> <b> When you try to import a module in a Python file, Python tries to resolve this module in several ways. Sometimes, Python throws the ModuleNotFoundError afterward. <br> As the name implies, this error occurs when you're trying to access or use a module that cannot be found. In the case of the title, the \"module named Python\" cannot be found. <br> Here's an error when I try to import a numpys module that cannot be found: <br>"
   ]
  },
  {
   "cell_type": "code",
   "execution_count": 1,
   "id": "e8d3c1b0",
   "metadata": {},
   "outputs": [
    {
     "ename": "ModuleNotFoundError",
     "evalue": "No module named 'numpys'",
     "output_type": "error",
     "traceback": [
      "\u001b[1;31m---------------------------------------------------------------------------\u001b[0m",
      "\u001b[1;31mModuleNotFoundError\u001b[0m                       Traceback (most recent call last)",
      "\u001b[1;32m~\\AppData\\Local\\Temp/ipykernel_2568/3784828524.py\u001b[0m in \u001b[0;36m<module>\u001b[1;34m\u001b[0m\n\u001b[1;32m----> 1\u001b[1;33m \u001b[1;32mimport\u001b[0m \u001b[0mnumpys\u001b[0m\u001b[1;33m\u001b[0m\u001b[1;33m\u001b[0m\u001b[0m\n\u001b[0m",
      "\u001b[1;31mModuleNotFoundError\u001b[0m: No module named 'numpys'"
     ]
    }
   ],
   "source": [
    "import numpys "
   ]
  },
  {
   "cell_type": "markdown",
   "id": "fc1435e5",
   "metadata": {},
   "source": [
    "<h3 style='text-align: left;'> 6. List down some best practices for exception handling in python. </h3>"
   ]
  },
  {
   "cell_type": "markdown",
   "id": "a7a30f96",
   "metadata": {},
   "source": [
    "<p> <b> Ans:- <br> Best practices for exception handling in python:- <br> <br> 1) Use Exceptions for Exceptional Cases <br> 2) Don’t Swallow the Exception <br> 3) Catch Specific Exceptions <br> 4) Always Clean Up Resources in a Finally Block <br> 5) Avoid Raising Generic Exceptions <br> 6) Raise Custom Exceptions <br> 7) Define Your Own Exception Hierarchy <br> 8) Document All Exceptions Thrown by a Function <br> 9) Provide Contextual Information When Raising an Exception <br> 10) Write Tests to Ensure That Exceptions Are Raised Correctly"
   ]
  },
  {
   "cell_type": "markdown",
   "id": "9243438e",
   "metadata": {},
   "source": [
    "<h4 style='text-align: right;'> Yash Sanjeev Halwai </h4>"
   ]
  }
 ],
 "metadata": {
  "kernelspec": {
   "display_name": "Python 3 (ipykernel)",
   "language": "python",
   "name": "python3"
  },
  "language_info": {
   "codemirror_mode": {
    "name": "ipython",
    "version": 3
   },
   "file_extension": ".py",
   "mimetype": "text/x-python",
   "name": "python",
   "nbconvert_exporter": "python",
   "pygments_lexer": "ipython3",
   "version": "3.9.7"
  }
 },
 "nbformat": 4,
 "nbformat_minor": 5
}
