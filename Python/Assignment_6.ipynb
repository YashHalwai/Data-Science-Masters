{
 "cells": [
  {
   "cell_type": "markdown",
   "id": "4fe5cf03",
   "metadata": {},
   "source": [
    "<div style=\"text-align: center\"> <h1>Assignment 6</h1></div>"
   ]
  },
  {
   "cell_type": "markdown",
   "id": "76eddc98",
   "metadata": {},
   "source": [
    "<h2 style='text-align: left;'> Assignment Questions </h2>"
   ]
  },
  {
   "cell_type": "markdown",
   "id": "f4fec517",
   "metadata": {},
   "source": [
    "<h3 style='text-align: left;'> 1. Explain Class and Object with respect to Object-Oriented Programming. Give a suitable example. </h3>"
   ]
  },
  {
   "cell_type": "markdown",
   "id": "02d92d5f",
   "metadata": {},
   "source": [
    "<p style=’text-align: left;’> <b>Ans:-<br>\n",
    "Object Oriented Programming: <br>   \n",
    "<br>\n",
    "In Python, object-oriented Programming (OOPs) is a programming paradigm that uses objects and classes in programming.<br>\n",
    "It aims to implement real-world entities like inheritance, polymorphisms, encapsulation, etc. in the programming. <br>\n",
    "The main concept of OOPs is to bind the data and the functions that work on that together as a single unit so that no other part of the code can access this data.<br><br>\n",
    "Class:\n",
    "<br><br>\n",
    "A class is considered as a blueprint of objects. We can think of the class as a sketch (prototype) of a house. <br>\n",
    "It contains all the details about the floors, doors, windows, etc. Based on these descriptions we build the house. <br>\n",
    "House is the object.<br>\n",
    "Since many houses can be made from the same description, we can create many objects from a class.<br>\n",
    "We use the class keyword to create a class in Python. \n",
    "<br>For example,\n",
    "<br>\n",
    "class ClassName: <br>\n",
    "    &nbsp; # class definition \n",
    "<br><br>\n",
    "Object:\n",
    "<br><br>\n",
    "An object is called an instance of a class. For example, suppose Bike is a class then we can create objects like bike1, bike2, etc from the class.\n",
    "<br>\n",
    "Here's the syntax to create an object.\n",
    "<br>\n",
    "objectName = ClassName()\n",
    "<br>\n",
    "<br>\n",
    "Example:\n",
    "<br><br>\n",
    "</p>\n"
   ]
  },
  {
   "cell_type": "code",
   "execution_count": 23,
   "id": "f99d93aa",
   "metadata": {},
   "outputs": [
    {
     "name": "stdout",
     "output_type": "stream",
     "text": [
      "Name: Mountain Bike, Gears: 11 \n"
     ]
    }
   ],
   "source": [
    "# define a class\n",
    "class Bike:\n",
    "    name = \"\"\n",
    "    gear = 0\n",
    "\n",
    "# create object of class\n",
    "bike1 = Bike()\n",
    "\n",
    "# access attributes and assign new values\n",
    "bike1.gear = 11\n",
    "bike1.name = \"Mountain Bike\"\n",
    "\n",
    "print(f\"Name: {bike1.name}, Gears: {bike1.gear} \")"
   ]
  },
  {
   "cell_type": "markdown",
   "id": "d9b1265c",
   "metadata": {},
   "source": [
    "<h3 style='text-align: left;'> 2. Name the four pillars of OOPs. </h3>"
   ]
  },
  {
   "cell_type": "markdown",
   "id": "612e1e93",
   "metadata": {},
   "source": [
    "<p style=’text-align: left;’> <b>Ans:- <br><br>\n",
    "        The four pillars for OOPs are: <br>\n",
    "    \n",
    "1. Abstraction\n",
    "    \n",
    "    <p><b> It hides the unnecessary code details from the user. Also,  when we do not want to give out sensitive parts of our code implementation and this is where data abstraction came. </b></p>\n",
    "<br>\n",
    "    \n",
    "2. Encapsulation\n",
    "    \n",
    "    <p><b> Encapsulation is one of the fundamental concepts in object-oriented programming (OOP). It describes the idea of wrapping data and the methods that work on data within one unit. This puts restrictions on accessing variables and methods directly and can prevent the accidental modification of data. To prevent accidental change, an object’s variable can only be changed by an object’s method. Those types of variables are known as private variables.</b></p>\n",
    "<br>\n",
    "    \n",
    "3. Inheritance\n",
    "    \n",
    "    <p><b> Inheritance is the capability of one class to derive or inherit the properties from another class. The class that derives properties is called the derived class or child class and the class from which the properties are being derived is called the base class or parent class.  </b></p>\n",
    "<br>\n",
    "    \n",
    "4. Polymorphism\n",
    "    \n",
    "    <p><b> Polymorphism simply means having many forms. For example, we need to determine if the given species of birds fly or not, using polymorphism we can do this using a single function. </b></p>\n",
    "    \n",
    "\n",
    "</b></p>"
   ]
  },
  {
   "cell_type": "markdown",
   "id": "f8407e19",
   "metadata": {},
   "source": [
    "<h3 style='text-align: left;'> 3.  Explain why the __init__() function is used. Give a suitable example. </h3>"
   ]
  },
  {
   "cell_type": "markdown",
   "id": "07d7df06",
   "metadata": {},
   "source": [
    "<p style=’text-align: left;’><b> Ans:-\n",
    "    \n",
    "    __init__() function:\n",
    "    \n",
    "     __init__ is a special python method that runs whenever a new object is created. These types of functions are used to initialize the attributes of that class, E.g., if the class is Person, then the attributes will be name, age, etc.\n",
    "    \n",
    "    In other Object-Oriented Languages(like C++, and Java), these types of functions are called constructors. Constructors \n",
    "    are used to initialize the data members of the class when an object is created. Python uses the __init__ method as a \n",
    "    constructor to initialize the data members when an object is created for the class.\n",
    "</b></p>"
   ]
  },
  {
   "cell_type": "markdown",
   "id": "4d67c580",
   "metadata": {},
   "source": [
    "# Example"
   ]
  },
  {
   "cell_type": "code",
   "execution_count": 24,
   "id": "56778a01",
   "metadata": {},
   "outputs": [
    {
     "name": "stdout",
     "output_type": "stream",
     "text": [
      "From: London\n",
      "To_city: India\n"
     ]
    }
   ],
   "source": [
    "class Trip:\n",
    "    def __init__(self, to_city, from_city):\n",
    "        self.to_city = to_city\n",
    "        self.from_city = from_city\n",
    " \n",
    "    def holiday(self):\n",
    "     return (\"From: \" + self.from_city + \"\\nTo_city: \" + self.to_city)\n",
    " \n",
    "T = Trip('India', 'London')\n",
    "print(T.holiday())\n"
   ]
  },
  {
   "cell_type": "markdown",
   "id": "64b2b55b",
   "metadata": {},
   "source": [
    "<h3 style='text-align: left;'> 4.  Why self is used in OOPs? </h3>"
   ]
  },
  {
   "cell_type": "markdown",
   "id": "b01715d3",
   "metadata": {},
   "source": [
    "<p style=’text-align: left;’><b> Ans:- <br>self represents the instance of the class. By using the “self”  we can access the attributes and methods of the class in python.<br>It binds the attributes with the given arguments.<br>The reason you need to use self. is because Python does not use the @ syntax to refer to instance attributes.<br>Python decided to do methods in a way that makes the instance to which the method belongs be passed automatically, but not received automatically: the first parameter of methods is the instance the method is called on.   \n",
    "</b></p>"
   ]
  },
  {
   "cell_type": "markdown",
   "id": "a778ad2c",
   "metadata": {},
   "source": [
    "# Example"
   ]
  },
  {
   "cell_type": "code",
   "execution_count": 25,
   "id": "5554e0af",
   "metadata": {},
   "outputs": [
    {
     "name": "stdout",
     "output_type": "stream",
     "text": [
      "Address of self =  2792791438624\n",
      "Address of class object =  2792791438624\n"
     ]
    }
   ],
   "source": [
    "#it is clearly seen that self and obj is referring to the same object\n",
    "\n",
    "class check:\n",
    "\tdef __init__(self):\n",
    "\t\tprint(\"Address of self = \",id(self))\n",
    "\n",
    "obj = check()\n",
    "print(\"Address of class object = \",id(obj))"
   ]
  },
  {
   "cell_type": "markdown",
   "id": "9f8b5caf",
   "metadata": {},
   "source": [
    "<p><b>Self is the first argument to be passed in Constructor and Instance Method. </b></p>"
   ]
  },
  {
   "cell_type": "markdown",
   "id": "de8f922d",
   "metadata": {},
   "source": [
    "<p><b>self is parameter in Instance Method and user can use another parameter name in place of it. But it is advisable to use self because it increases the readability of code, and it is also a good programming practice.</b></p>"
   ]
  },
  {
   "cell_type": "markdown",
   "id": "7f7eecb4",
   "metadata": {},
   "source": [
    "<h3 style='text-align: left;'> 5. What is inheritance? Give an example for each type of inheritance. </h3>"
   ]
  },
  {
   "cell_type": "markdown",
   "id": "9ea51ced",
   "metadata": {},
   "source": [
    "<p style=’text-align: left;’><b> Ans:-\n",
    "<br>\n",
    "Inheritance:<br>\n",
    "Inheritance is defined as the mechanism of inheriting the properties of the base class to the child class. <br>\n",
    "<h3 style='text-align: center;'> Types of Inheritance in Python</h3>\n",
    "<br>  \n",
    "Types of Inheritance depend upon the number of child and parent classes involved. There are four types of inheritance in Python:<br>\n",
    "(1) Single Inheritance: <br>   \n",
    "Single inheritance enables a derived class to inherit properties from a single parent class, thus enabling code reusability and the addition of new features to existing code.   \n",
    "</b></p>"
   ]
  },
  {
   "cell_type": "markdown",
   "id": "9113fd57",
   "metadata": {},
   "source": [
    "# Example (Single Inheritance)"
   ]
  },
  {
   "cell_type": "code",
   "execution_count": 1,
   "id": "6297db59",
   "metadata": {},
   "outputs": [
    {
     "name": "stdout",
     "output_type": "stream",
     "text": [
      "This function is in parent class.\n",
      "This function is in child class.\n"
     ]
    }
   ],
   "source": [
    "# Python program to demonstrate\n",
    "# single inheritance\n",
    "\n",
    "# Base class\n",
    "class Parent:\n",
    "\tdef func1(self):\n",
    "\t\tprint(\"This function is in parent class.\")\n",
    "\n",
    "# Derived class\n",
    "\n",
    "\n",
    "class Child(Parent):\n",
    "\tdef func2(self):\n",
    "\t\tprint(\"This function is in child class.\")\n",
    "\n",
    "\n",
    "# Driver's code\n",
    "object = Child()\n",
    "object.func1()\n",
    "object.func2()\n"
   ]
  },
  {
   "cell_type": "markdown",
   "id": "95b80874",
   "metadata": {},
   "source": [
    "<p> <b>\n",
    "(2) Multiple Inheritance: <br>\n",
    "When a class can be derived from more than one base class this type of inheritance is called multiple inheritances. \n",
    "In multiple inheritances, all the features of the base classes are inherited into the derived class. \n",
    "</b> </p>"
   ]
  },
  {
   "cell_type": "markdown",
   "id": "9db0f6b5",
   "metadata": {},
   "source": [
    "# Example (Multiple Inheritance)"
   ]
  },
  {
   "cell_type": "code",
   "execution_count": 2,
   "id": "8d14d14a",
   "metadata": {},
   "outputs": [
    {
     "name": "stdout",
     "output_type": "stream",
     "text": [
      "Father : RAM\n",
      "Mother : SITA\n"
     ]
    }
   ],
   "source": [
    "# Python program to demonstrate\n",
    "# multiple inheritance\n",
    "\n",
    "# Base class1\n",
    "class Mother:\n",
    "\tmothername = \"\"\n",
    "\n",
    "\tdef mother(self):\n",
    "\t\tprint(self.mothername)\n",
    "\n",
    "# Base class2\n",
    "\n",
    "\n",
    "class Father:\n",
    "\tfathername = \"\"\n",
    "\n",
    "\tdef father(self):\n",
    "\t\tprint(self.fathername)\n",
    "\n",
    "# Derived class\n",
    "\n",
    "\n",
    "class Son(Mother, Father):\n",
    "\tdef parents(self):\n",
    "\t\tprint(\"Father :\", self.fathername)\n",
    "\t\tprint(\"Mother :\", self.mothername)\n",
    "\n",
    "\n",
    "# Driver's code\n",
    "s1 = Son()\n",
    "s1.fathername = \"RAM\"\n",
    "s1.mothername = \"SITA\"\n",
    "s1.parents()\n"
   ]
  },
  {
   "cell_type": "markdown",
   "id": "81b41ecf",
   "metadata": {},
   "source": [
    "<p> <b>\n",
    "(3) Multilevel Inheritance :<br>\n",
    "In multilevel inheritance, features of the base class and the derived class are further inherited into the new derived class. \n",
    "This is similar to a relationship representing a child and a grandfather. \n",
    "</b> </p>"
   ]
  },
  {
   "cell_type": "markdown",
   "id": "33643e2e",
   "metadata": {},
   "source": [
    "# Example (Multilevel Inheritance)"
   ]
  },
  {
   "cell_type": "code",
   "execution_count": 3,
   "id": "e2a14f3e",
   "metadata": {},
   "outputs": [
    {
     "name": "stdout",
     "output_type": "stream",
     "text": [
      "Lal mani\n",
      "Grandfather name : Lal mani\n",
      "Father name : Rampal\n",
      "Son name : Prince\n"
     ]
    }
   ],
   "source": [
    "# Python program to demonstrate\n",
    "# multilevel inheritance\n",
    "\n",
    "# Base class\n",
    "\n",
    "\n",
    "class Grandfather:\n",
    "\n",
    "\tdef __init__(self, grandfathername):\n",
    "\t\tself.grandfathername = grandfathername\n",
    "\n",
    "# Intermediate class\n",
    "\n",
    "\n",
    "class Father(Grandfather):\n",
    "\tdef __init__(self, fathername, grandfathername):\n",
    "\t\tself.fathername = fathername\n",
    "\n",
    "\t\t# invoking constructor of Grandfather class\n",
    "\t\tGrandfather.__init__(self, grandfathername)\n",
    "\n",
    "# Derived class\n",
    "\n",
    "\n",
    "class Son(Father):\n",
    "\tdef __init__(self, sonname, fathername, grandfathername):\n",
    "\t\tself.sonname = sonname\n",
    "\n",
    "\t\t# invoking constructor of Father class\n",
    "\t\tFather.__init__(self, fathername, grandfathername)\n",
    "\n",
    "\tdef print_name(self):\n",
    "\t\tprint('Grandfather name :', self.grandfathername)\n",
    "\t\tprint(\"Father name :\", self.fathername)\n",
    "\t\tprint(\"Son name :\", self.sonname)\n",
    "\n",
    "\n",
    "# Driver code\n",
    "s1 = Son('Prince', 'Rampal', 'Lal mani')\n",
    "print(s1.grandfathername)\n",
    "s1.print_name()"
   ]
  },
  {
   "cell_type": "markdown",
   "id": "126c5d1c",
   "metadata": {},
   "source": [
    "<p> <b>\n",
    "(4) Hierarchical Inheritance: <br>\n",
    "When more than one derived class are created from a single base this type of inheritance is called hierarchical inheritance. \n",
    "In this program, we have a parent (base) class and two child (derived) classes.\n",
    "</b> </p>"
   ]
  },
  {
   "cell_type": "markdown",
   "id": "12f9d999",
   "metadata": {},
   "source": [
    "# Example (Hierarchical Inheritance)"
   ]
  },
  {
   "cell_type": "code",
   "execution_count": 4,
   "id": "9058290f",
   "metadata": {},
   "outputs": [
    {
     "name": "stdout",
     "output_type": "stream",
     "text": [
      "This function is in parent class.\n",
      "This function is in child 1.\n",
      "This function is in parent class.\n",
      "This function is in child 2.\n"
     ]
    }
   ],
   "source": [
    "# Python program to demonstrate\n",
    "# Hierarchical inheritance\n",
    "\n",
    "\n",
    "# Base class\n",
    "class Parent:\n",
    "\tdef func1(self):\n",
    "\t\tprint(\"This function is in parent class.\")\n",
    "\n",
    "# Derived class1\n",
    "\n",
    "\n",
    "class Child1(Parent):\n",
    "\tdef func2(self):\n",
    "\t\tprint(\"This function is in child 1.\")\n",
    "\n",
    "# Derivied class2\n",
    "\n",
    "\n",
    "class Child2(Parent):\n",
    "\tdef func3(self):\n",
    "\t\tprint(\"This function is in child 2.\")\n",
    "\n",
    "\n",
    "# Driver's code\n",
    "object1 = Child1()\n",
    "object2 = Child2()\n",
    "object1.func1()\n",
    "object1.func2()\n",
    "object2.func1()\n",
    "object2.func3()"
   ]
  },
  {
   "cell_type": "markdown",
   "id": "0db23c9e",
   "metadata": {},
   "source": [
    "<p> <b>\n",
    "(5) Hybrid Inheritance: <br>\n",
    "Inheritance consisting of multiple types of inheritance is called hybrid inheritance.\n",
    "</b> </p>"
   ]
  },
  {
   "cell_type": "markdown",
   "id": "bf4de7f7",
   "metadata": {},
   "source": [
    "# Example (Hybrid Inheritance)"
   ]
  },
  {
   "cell_type": "code",
   "execution_count": 30,
   "id": "e34dc1f1",
   "metadata": {},
   "outputs": [
    {
     "name": "stdout",
     "output_type": "stream",
     "text": [
      "This function is in school.\n",
      "This function is in student 1. \n"
     ]
    }
   ],
   "source": [
    "# Python program to demonstrate\n",
    "# hybrid inheritance\n",
    "\n",
    "\n",
    "class School:\n",
    "\tdef func1(self):\n",
    "\t\tprint(\"This function is in school.\")\n",
    "\n",
    "\n",
    "class Student1(School):\n",
    "\tdef func2(self):\n",
    "\t\tprint(\"This function is in student 1. \")\n",
    "\n",
    "\n",
    "class Student2(School):\n",
    "\tdef func3(self):\n",
    "\t\tprint(\"This function is in student 2.\")\n",
    "\n",
    "\n",
    "class Student3(Student1, School):\n",
    "\tdef func4(self):\n",
    "\t\tprint(\"This function is in student 3.\")\n",
    "\n",
    "\n",
    "# Driver's code\n",
    "object = Student3()\n",
    "object.func1()\n",
    "object.func2()"
   ]
  },
  {
   "cell_type": "markdown",
   "id": "d54c01c9",
   "metadata": {},
   "source": [
    "<h4 style='text-align: right;'> Yash Sanjeev Halwai </h4>"
   ]
  }
 ],
 "metadata": {
  "kernelspec": {
   "display_name": "Python 3 (ipykernel)",
   "language": "python",
   "name": "python3"
  },
  "language_info": {
   "codemirror_mode": {
    "name": "ipython",
    "version": 3
   },
   "file_extension": ".py",
   "mimetype": "text/x-python",
   "name": "python",
   "nbconvert_exporter": "python",
   "pygments_lexer": "ipython3",
   "version": "3.9.7"
  }
 },
 "nbformat": 4,
 "nbformat_minor": 5
}
