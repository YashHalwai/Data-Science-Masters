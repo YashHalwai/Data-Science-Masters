{
 "cells": [
  {
   "cell_type": "markdown",
   "id": "bfd66ac7",
   "metadata": {},
   "source": [
    "<div style=\"text-align: center\"> <h1>Assignment 7</h1></div>"
   ]
  },
  {
   "cell_type": "markdown",
   "id": "6f4ea461",
   "metadata": {},
   "source": [
    "<h2 style='text-align: left;'> Assignment Questions </h2>"
   ]
  },
  {
   "cell_type": "markdown",
   "id": "67504a75",
   "metadata": {},
   "source": [
    "<h3 style='text-align: left;'> 1.  Create a function which will take a list as an argument and return the product of all the numbers after creating a flat list.<br><br>\n",
    "Use the below-given list as an argument for your function.<br><br>\n",
    "list1 = [1,2,3,4, [44,55,66, True], False, (34,56,78,89,34), {1,2,3,3,2,1}, {1:34, \"key2\": [55, 67, 78, 89], 4: (45, \n",
    "22, 61, 34)}, [56, 'data science'], 'Machine Learning']<br><br>\n",
    "Note: you must extract numeric keys and values of the dictionary also.</h3>"
   ]
  },
  {
   "cell_type": "code",
   "execution_count": 2,
   "id": "c5dd2fc4",
   "metadata": {},
   "outputs": [],
   "source": [
    "list1 = [1,2,3,4, [44,55,66, True], False, (34,56,78,89,34), {1,2,3,3,2,1}, {1:34, \"key2\": [55, 67, 78, 89], 4: (45, 22, 61, 34)}, [56, 'data science'], 'Machine Learning']"
   ]
  },
  {
   "cell_type": "code",
   "execution_count": 3,
   "id": "96848cc1",
   "metadata": {},
   "outputs": [],
   "source": [
    "# taking values of dictionary\n",
    "l1 = []\n",
    "for i in list1[8].values():\n",
    "    l1.append(i)"
   ]
  },
  {
   "cell_type": "code",
   "execution_count": 4,
   "id": "b15c18e2",
   "metadata": {},
   "outputs": [
    {
     "name": "stdout",
     "output_type": "stream",
     "text": [
      "[34, [55, 67, 78, 89], (45, 22, 61, 34)]\n"
     ]
    }
   ],
   "source": [
    "# printing dictionary values\n",
    "print(l1)"
   ]
  },
  {
   "cell_type": "code",
   "execution_count": 5,
   "id": "fbf72c4c",
   "metadata": {},
   "outputs": [],
   "source": [
    "# list to tuple\n",
    "l1.append(list(l1[2]))"
   ]
  },
  {
   "cell_type": "code",
   "execution_count": 6,
   "id": "82f5593a",
   "metadata": {},
   "outputs": [],
   "source": [
    "# remove tuple\n",
    "l1.remove(l1[2])"
   ]
  },
  {
   "cell_type": "code",
   "execution_count": 7,
   "id": "dcac26a8",
   "metadata": {},
   "outputs": [
    {
     "name": "stdout",
     "output_type": "stream",
     "text": [
      "[34, [55, 67, 78, 89], [45, 22, 61, 34]]\n"
     ]
    }
   ],
   "source": [
    "# print list\n",
    "print(l1)"
   ]
  },
  {
   "cell_type": "code",
   "execution_count": 8,
   "id": "548c462e",
   "metadata": {},
   "outputs": [],
   "source": [
    "# convert it into one list\n",
    "l2 = []\n",
    "for sub_list in l1:\n",
    "    if type(sub_list) is list:\n",
    "        for item in sub_list:\n",
    "            l2.append(item)\n",
    "    else:\n",
    "        l2.append(sub_list)"
   ]
  },
  {
   "cell_type": "code",
   "execution_count": 9,
   "id": "b6e3081e",
   "metadata": {},
   "outputs": [
    {
     "name": "stdout",
     "output_type": "stream",
     "text": [
      "[34, 55, 67, 78, 89, 45, 22, 61, 34]\n"
     ]
    }
   ],
   "source": [
    "print(l2)"
   ]
  },
  {
   "cell_type": "code",
   "execution_count": 10,
   "id": "bb5a053a",
   "metadata": {},
   "outputs": [
    {
     "name": "stdout",
     "output_type": "stream",
     "text": [
      "[1, 'key2', 4]\n"
     ]
    }
   ],
   "source": [
    "# extracting keys \n",
    "l3 = []\n",
    "for i in list1[8].keys():\n",
    "    l3.append(i)\n",
    "print(l3)    "
   ]
  },
  {
   "cell_type": "code",
   "execution_count": 11,
   "id": "af38c28b",
   "metadata": {},
   "outputs": [],
   "source": [
    "# printing numeric keys and appending to list\n",
    "for i in l3:\n",
    "    if(type(i) == int):\n",
    "        l2.append(i)"
   ]
  },
  {
   "cell_type": "code",
   "execution_count": 12,
   "id": "e208cccd",
   "metadata": {},
   "outputs": [
    {
     "name": "stdout",
     "output_type": "stream",
     "text": [
      "[34, 55, 67, 78, 89, 45, 22, 61, 34, 1, 4]\n"
     ]
    }
   ],
   "source": [
    "print(l2)"
   ]
  },
  {
   "cell_type": "code",
   "execution_count": 13,
   "id": "4e24b84c",
   "metadata": {},
   "outputs": [
    {
     "data": {
      "text/plain": [
       "11"
      ]
     },
     "execution_count": 13,
     "metadata": {},
     "output_type": "execute_result"
    }
   ],
   "source": [
    "# length of l2\n",
    "len(l2)"
   ]
  },
  {
   "cell_type": "code",
   "execution_count": 14,
   "id": "16552d04",
   "metadata": {},
   "outputs": [],
   "source": [
    "# append list1[4] int values to l2\n",
    "for i in list1[4]:\n",
    "    if(type(i) == int):\n",
    "        l2.append(i)"
   ]
  },
  {
   "cell_type": "code",
   "execution_count": 15,
   "id": "1ee0ba69",
   "metadata": {},
   "outputs": [
    {
     "name": "stdout",
     "output_type": "stream",
     "text": [
      "[34, 55, 67, 78, 89, 45, 22, 61, 34, 1, 4, 44, 55, 66]\n"
     ]
    }
   ],
   "source": [
    "print(l2)"
   ]
  },
  {
   "cell_type": "code",
   "execution_count": 16,
   "id": "1e254cc7",
   "metadata": {},
   "outputs": [],
   "source": [
    "# tuple to list\n",
    "l = list(list1[6])"
   ]
  },
  {
   "cell_type": "code",
   "execution_count": 17,
   "id": "66922051",
   "metadata": {},
   "outputs": [
    {
     "data": {
      "text/plain": [
       "[34, 56, 78, 89, 34]"
      ]
     },
     "execution_count": 17,
     "metadata": {},
     "output_type": "execute_result"
    }
   ],
   "source": [
    "l"
   ]
  },
  {
   "cell_type": "code",
   "execution_count": 18,
   "id": "b5d0756e",
   "metadata": {},
   "outputs": [],
   "source": [
    "# append it to l2\n",
    "l2.append(l)"
   ]
  },
  {
   "cell_type": "code",
   "execution_count": 19,
   "id": "c9be2635",
   "metadata": {},
   "outputs": [
    {
     "name": "stdout",
     "output_type": "stream",
     "text": [
      "[34, 55, 67, 78, 89, 45, 22, 61, 34, 1, 4, 44, 55, 66, [34, 56, 78, 89, 34]]\n"
     ]
    }
   ],
   "source": [
    "print(l2)"
   ]
  },
  {
   "cell_type": "code",
   "execution_count": 20,
   "id": "21e06272",
   "metadata": {},
   "outputs": [],
   "source": [
    "# set to list\n",
    "ll = list(list1[7])"
   ]
  },
  {
   "cell_type": "code",
   "execution_count": 21,
   "id": "b6393922",
   "metadata": {},
   "outputs": [],
   "source": [
    "l2.append(ll)"
   ]
  },
  {
   "cell_type": "code",
   "execution_count": 22,
   "id": "e2c0c873",
   "metadata": {},
   "outputs": [
    {
     "name": "stdout",
     "output_type": "stream",
     "text": [
      "[34, 55, 67, 78, 89, 45, 22, 61, 34, 1, 4, 44, 55, 66, [34, 56, 78, 89, 34], [1, 2, 3]]\n"
     ]
    }
   ],
   "source": [
    "print(l2)"
   ]
  },
  {
   "cell_type": "code",
   "execution_count": 23,
   "id": "0b54c99b",
   "metadata": {},
   "outputs": [],
   "source": [
    "# int values append to l2\n",
    "for i in list1:\n",
    "    if(type(i) == int):\n",
    "        l2.append(i)"
   ]
  },
  {
   "cell_type": "code",
   "execution_count": 24,
   "id": "40a57f95",
   "metadata": {},
   "outputs": [
    {
     "name": "stdout",
     "output_type": "stream",
     "text": [
      "[34, 55, 67, 78, 89, 45, 22, 61, 34, 1, 4, 44, 55, 66, [34, 56, 78, 89, 34], [1, 2, 3], 1, 2, 3, 4]\n"
     ]
    }
   ],
   "source": [
    "print(l2)"
   ]
  },
  {
   "cell_type": "code",
   "execution_count": 25,
   "id": "33504dd4",
   "metadata": {},
   "outputs": [],
   "source": [
    "# int values append to l2\n",
    "for i in list1[9]:\n",
    "    if(type(i) == int):\n",
    "        l2.append(i)"
   ]
  },
  {
   "cell_type": "code",
   "execution_count": 26,
   "id": "5fdd0577",
   "metadata": {},
   "outputs": [
    {
     "name": "stdout",
     "output_type": "stream",
     "text": [
      "[34, 55, 67, 78, 89, 45, 22, 61, 34, 1, 4, 44, 55, 66, [34, 56, 78, 89, 34], [1, 2, 3], 1, 2, 3, 4, 56]\n"
     ]
    }
   ],
   "source": [
    "print(l2)"
   ]
  },
  {
   "cell_type": "code",
   "execution_count": 27,
   "id": "0ac87b03",
   "metadata": {},
   "outputs": [
    {
     "data": {
      "text/plain": [
       "21"
      ]
     },
     "execution_count": 27,
     "metadata": {},
     "output_type": "execute_result"
    }
   ],
   "source": [
    "len(l2)"
   ]
  },
  {
   "cell_type": "code",
   "execution_count": 28,
   "id": "d666d4ce",
   "metadata": {},
   "outputs": [],
   "source": [
    "# final flat_list with all int values (numeric)\n",
    "flat_list = []\n",
    "for sub_l in l2:\n",
    "    if type(sub_l) is list:\n",
    "        for item in sub_l:\n",
    "            flat_list.append(item)\n",
    "    else:\n",
    "        flat_list.append(sub_l)"
   ]
  },
  {
   "cell_type": "code",
   "execution_count": 29,
   "id": "a643bbad",
   "metadata": {},
   "outputs": [
    {
     "name": "stdout",
     "output_type": "stream",
     "text": [
      "[34, 55, 67, 78, 89, 45, 22, 61, 34, 1, 4, 44, 55, 66, 34, 56, 78, 89, 34, 1, 2, 3, 1, 2, 3, 4, 56]\n"
     ]
    }
   ],
   "source": [
    "print(flat_list)"
   ]
  },
  {
   "cell_type": "code",
   "execution_count": 30,
   "id": "189a08a3",
   "metadata": {},
   "outputs": [
    {
     "data": {
      "text/plain": [
       "27"
      ]
     },
     "execution_count": 30,
     "metadata": {},
     "output_type": "execute_result"
    }
   ],
   "source": [
    "len(flat_list)"
   ]
  },
  {
   "cell_type": "code",
   "execution_count": 85,
   "id": "410e5f21",
   "metadata": {},
   "outputs": [
    {
     "name": "stdout",
     "output_type": "stream",
     "text": [
      "The product of all the numbers after creating a flat list: 4134711838987085478833841242112000\n"
     ]
    }
   ],
   "source": [
    "# product of list of numbers extracted from list 1\n",
    "def prod_list(l):\n",
    "    prd = 1\n",
    "    for i in l:\n",
    "        prd = prd * i\n",
    "    return prd\n",
    "\n",
    "p = prod_list(flat_list)\n",
    "print(\"The product of all the numbers after creating a flat list:\",p)"
   ]
  },
  {
   "cell_type": "markdown",
   "id": "39d02fa0",
   "metadata": {},
   "source": [
    "<h3 style='text-align: left;'> 2.  Write a python program for encrypting a message sent to you by your friend. The logic of encryption \n",
    "should be such that, for a the output should be z. For b, the output should be y. For c, the output should \n",
    "be x respectively. Also, the whitespace should be replaced with a dollar sign. Keep the punctuation \n",
    "marks unchanged. </h3>"
   ]
  },
  {
   "cell_type": "markdown",
   "id": "57559311",
   "metadata": {},
   "source": [
    "<h3>\n",
    "Input Sentence: I want to become a Data Scientist.<br>\n",
    "Encrypt the above input sentence using the program you just created.<br>\n",
    "Note: Convert the given input sentence into lowercase before encrypting. The final output should be \n",
    "lowercase.\n",
    "</h3>"
   ]
  },
  {
   "cell_type": "code",
   "execution_count": 80,
   "id": "0a4be6e3",
   "metadata": {},
   "outputs": [],
   "source": [
    "# (Encrypted Sentence: i$wznt$to$yexome$z$dztz$sxientist.)"
   ]
  },
  {
   "cell_type": "code",
   "execution_count": 87,
   "id": "a36b9ea0",
   "metadata": {},
   "outputs": [
    {
     "name": "stdout",
     "output_type": "stream",
     "text": [
      "Enter the input: I want to become a Data Scientist.\n",
      "Original sentence:  i want to become a data scientist. \n",
      "\n",
      "Encrypted sentence: i$wznt$to$yexome$z$dztz$sxientist.\n"
     ]
    }
   ],
   "source": [
    "\n",
    "def sent(sentence):\n",
    "    sentence = sentence.lower()\n",
    "    print(\"Original sentence: \",sentence, \"\\n\") # convert into lowercase\n",
    "\n",
    "    code = {\"a\":\"z\", \"b\":\"y\", \"c\":\"x\", \" \":\"$\"} # condition\n",
    "\n",
    "    s = sentence[::1] # traverse the sentence\n",
    "\n",
    "    for i in code:\n",
    "        s = s.replace(i, code[i]) # replace the letter \n",
    "\n",
    "    print(\"Encrypted sentence:\", s)\n",
    "\n",
    "sentence = input(\"Enter the input: \")\n",
    "sent(sentence)"
   ]
  },
  {
   "cell_type": "markdown",
   "id": "97b98269",
   "metadata": {},
   "source": [
    "<h4 style='text-align: right;'> Yash Sanjeev Halwai </h4>"
   ]
  }
 ],
 "metadata": {
  "kernelspec": {
   "display_name": "Python 3 (ipykernel)",
   "language": "python",
   "name": "python3"
  },
  "language_info": {
   "codemirror_mode": {
    "name": "ipython",
    "version": 3
   },
   "file_extension": ".py",
   "mimetype": "text/x-python",
   "name": "python",
   "nbconvert_exporter": "python",
   "pygments_lexer": "ipython3",
   "version": "3.9.7"
  }
 },
 "nbformat": 4,
 "nbformat_minor": 5
}
