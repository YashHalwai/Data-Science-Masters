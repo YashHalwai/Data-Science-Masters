{
 "cells": [
  {
   "cell_type": "markdown",
   "id": "8779f0c8",
   "metadata": {},
   "source": [
    "<div style=\"text-align: center\"> <h1>Assignment 15</h1></div>"
   ]
  },
  {
   "cell_type": "markdown",
   "id": "f4275380",
   "metadata": {},
   "source": [
    "<h2 style='text-align: left;'> Assignment Questions </h2>"
   ]
  },
  {
   "cell_type": "markdown",
   "id": "6db58414",
   "metadata": {},
   "source": [
    "<h3 style='text-align: left;'> 1. What is a database? Differentiate between SQL and NoSQL databases. </h3>"
   ]
  },
  {
   "cell_type": "markdown",
   "id": "56a3084d",
   "metadata": {},
   "source": [
    "<p> <b> Ans:- <br> A database is an organized collection of data, so that it can be easily accessed and managed. </b> </p>"
   ]
  },
  {
   "cell_type": "markdown",
   "id": "36ae8f5b",
   "metadata": {},
   "source": [
    "  <p> <b> <br> Difference between SQL and NoSQL </b> </p>\n",
    "  <table>\n",
    "    <center>\n",
    "        <tr>\n",
    "            <th><center>SQL</center></th>\n",
    "                <th><center>NoSQL</center></th>\n",
    "        </tr>\n",
    "        <tr>\n",
    "            <td>RELATIONAL DATABASE MANAGEMENT SYSTEM (RDBMS)</td>\n",
    "            <td>Non-relational or distributed database system.</td>\n",
    "        </tr>\n",
    "        <tr>\n",
    "            <td>These databases have fixed or static or predefined schema</td>\n",
    "            <td>They have dynamic schema</td>\n",
    "        </tr>\n",
    "        <tr>\n",
    "            <td>These databases are not suited for hierarchical data storage.</td>\n",
    "            <td>These databases are best suited for hierarchical data storage.</td>\n",
    "        </tr>\n",
    "        <tr>\n",
    "            <td>These databases are best suited for complex queries</td>\n",
    "            <td>These databases are not so good for complex queries</td>\n",
    "        </tr>\n",
    "        <tr>\n",
    "            <td>Vertically Scalable</td>\n",
    "            <td>Horizontally scalable</td>\n",
    "        </tr>\n",
    "        <tr>\n",
    "            <td>Follows ACID property</td>\n",
    "            <td>Follows CAP(consistency, availability, partition tolerance)</td>\n",
    "        </tr>\n",
    "        <tr>\n",
    "            <td>Examples: MySQL, PostgreSQL, Oracle, MS-SQL Server, etc</td>\n",
    "            <td>Examples: MongoDB, GraphQL, HBase, Neo4j, Cassandra, etc</td>\n",
    "        </tr>\n",
    "    </center>\n",
    "</table>"
   ]
  },
  {
   "cell_type": "markdown",
   "id": "6c6f1789",
   "metadata": {},
   "source": [
    "<h3 style='text-align: left;'> 2. What is DDL? Explain why CREATE, DROP, ALTER, and TRUNCATE are used with an example. </h3>"
   ]
  },
  {
   "cell_type": "markdown",
   "id": "23723874",
   "metadata": {},
   "source": [
    "<p> <b> Ans:- <br> A data definition language (DDL) is a computer language used to create and modify the structure of database objects in a database. <br> These database objects include views, schemas, tables, indexes, etc. <br> This term is also known as data description language in some contexts, as it describes the fields and records in a database table.</b> </p>"
   ]
  },
  {
   "cell_type": "markdown",
   "id": "c1038992",
   "metadata": {},
   "source": [
    "<p> <b> CREATE:-  It is used to create a new table in the database. </b> </p>"
   ]
  },
  {
   "cell_type": "markdown",
   "id": "3aa6b549",
   "metadata": {},
   "source": [
    "<p> <b> SYNTAX:-  CREATE TABLE TABLE_NAME (COLUMN_NAME DATATYPES[,....]);   </b> </p>"
   ]
  },
  {
   "cell_type": "markdown",
   "id": "10ba351f",
   "metadata": {},
   "source": [
    "<p> <b> EXAMPLE:-  CREATE TABLE EMPLOYEE(Name VARCHAR2(20), Email VARCHAR2(100), DOB DATE); </b> </p> <br>"
   ]
  },
  {
   "cell_type": "markdown",
   "id": "d9a4e078",
   "metadata": {},
   "source": [
    "<p> <b> DROP:- It is used to delete both the structure and record stored in the table. </b> </p>"
   ]
  },
  {
   "cell_type": "markdown",
   "id": "83f65752",
   "metadata": {},
   "source": [
    "<p> <b> SYNTAX:- DROP TABLE table_name; </b> </p>"
   ]
  },
  {
   "cell_type": "markdown",
   "id": "ef4a78af",
   "metadata": {},
   "source": [
    "<p> <b> EXAMPLE:- DROP TABLE EMPLOYEE;   </b> </p> <br>"
   ]
  },
  {
   "cell_type": "markdown",
   "id": "91222c39",
   "metadata": {},
   "source": [
    "<p> <b> ALTER:- It is used to alter the structure of the database. This change could be either to modify the characteristics of an existing attribute or probably to add a new attribute. </b> </p>"
   ]
  },
  {
   "cell_type": "markdown",
   "id": "a9c6bc4a",
   "metadata": {},
   "source": [
    "<p> <b> SYNTAX:- ALTER TABLE table_name ADD column_name COLUMN-definition; </b> </p>\n",
    "<p> <b> SYNTAX:- ALTER TABLE table_name MODIFY(column_definitions....); </b> </p>"
   ]
  },
  {
   "cell_type": "markdown",
   "id": "7fa42bed",
   "metadata": {},
   "source": [
    "<p> <b> EXAMPLE:- ALTER TABLE STU_DETAILS ADD(ADDRESS VARCHAR2(20)); </b> </p>\n",
    "<p> <b> EXAMPLE:- ALTER TABLE STU_DETAILS MODIFY (NAME VARCHAR2(20));   </b> </p> <br>"
   ]
  },
  {
   "cell_type": "markdown",
   "id": "1b50a21d",
   "metadata": {},
   "source": [
    "<p> <b> TRUNCATE:- It is used to delete all the rows from the table and free the space containing the table. </b> </p>"
   ]
  },
  {
   "cell_type": "markdown",
   "id": "b88f8f90",
   "metadata": {},
   "source": [
    "<p> <b> SYNTAX:- TRUNCATE TABLE table_name; </b> </p>"
   ]
  },
  {
   "cell_type": "markdown",
   "id": "16727eb8",
   "metadata": {},
   "source": [
    "<p> <b> EXAMPLE:- TRUNCATE TABLE EMPLOYEE; </b> </p> <br>"
   ]
  },
  {
   "cell_type": "markdown",
   "id": "99fc6c66",
   "metadata": {},
   "source": [
    "<h3 style='text-align: left;'> 3.  What is DML? Explain INSERT, UPDATE, and DELETE with an example. </h3>"
   ]
  },
  {
   "cell_type": "markdown",
   "id": "fad21cda",
   "metadata": {},
   "source": [
    "<p> <b> Ans:- <br> DML is an abbreviation of Data Manipulation Language. <br> The DML commands in Structured Query Language change the data present in the SQL database. We can easily access, store, modify, update and delete the existing records from the database using DML commands. </b> </p> <br>"
   ]
  },
  {
   "cell_type": "markdown",
   "id": "7bfaa991",
   "metadata": {},
   "source": [
    "<p> <b> INSERT :- Insert command is used to insert data into a table. </b> </p>"
   ]
  },
  {
   "cell_type": "markdown",
   "id": "01369b62",
   "metadata": {},
   "source": [
    "<p> <b> SYNTAX :- Insert into <table_name> (column list) values (column values); </b> </p>"
   ]
  },
  {
   "cell_type": "markdown",
   "id": "e7dba390",
   "metadata": {},
   "source": [
    "<p> <b> EXAMPLE :- Insert into Employee(Emp_id, Emp_name) values (001, “ bhanu”); </b> </p> <br>"
   ]
  },
  {
   "cell_type": "markdown",
   "id": "f0c38ecc",
   "metadata": {},
   "source": [
    "<p> <b> UPDATE :- Update command is used to update existing data within a table. </b> </p>"
   ]
  },
  {
   "cell_type": "markdown",
   "id": "660a1203",
   "metadata": {},
   "source": [
    "<p> <b> SYNTAX :- UPDATE <table_name> SET column_number =value_number WHERE condition; </b> </p>"
   ]
  },
  {
   "cell_type": "markdown",
   "id": "a6401c8d",
   "metadata": {},
   "source": [
    "<p> <b> EXAMPLE :- UPDATE Employee SET Emp_name= Ram WHERE Emp_id= 001; </b> </p> <br>"
   ]
  },
  {
   "cell_type": "markdown",
   "id": "c5e4325a",
   "metadata": {},
   "source": [
    "<p> <b> DELETE :- Delete command is used to delete records from a database table. </b> </p>"
   ]
  },
  {
   "cell_type": "markdown",
   "id": "dee46fe9",
   "metadata": {},
   "source": [
    "<p> <b> SYNTAX :- Delete from <table_name>WHERE condition; </b> </p> "
   ]
  },
  {
   "cell_type": "markdown",
   "id": "d25fc0e7",
   "metadata": {},
   "source": [
    "<p> <b> EXAMPLE :- DELETE from Employee WHERE Emp_id=002; </b> </p> <br>"
   ]
  },
  {
   "cell_type": "markdown",
   "id": "13189a39",
   "metadata": {},
   "source": [
    "<h3 style='text-align: left;'> 4.  What is DQL? Explain SELECT with an example. </h3>"
   ]
  },
  {
   "cell_type": "markdown",
   "id": "c1178c9e",
   "metadata": {},
   "source": [
    "<p> <b> Ans:- <br> DQL stands for Data Query Language. <br> DQL is used to fetch the data from the database. <br> It uses only one command: SELECT </b> </p> <br>"
   ]
  },
  {
   "cell_type": "markdown",
   "id": "564ae1f2",
   "metadata": {},
   "source": [
    "<p> <b> SELECT :- This is the same as the projection operation of relational algebra. It is used to select the attribute based on the condition described by WHERE clause. </b> </p>"
   ]
  },
  {
   "cell_type": "markdown",
   "id": "e1cf2701",
   "metadata": {},
   "source": [
    "<b> <p> SYNTAX :- SELECT expressions FROM TABLES WHERE conditions; </b> </p>\n",
    "<b> <p> EXAMPLE :- SELECT emp_name FROM employee WHERE age > 20; </b> </p>"
   ]
  },
  {
   "cell_type": "markdown",
   "id": "4b5a6113",
   "metadata": {},
   "source": [
    "<h3 style='text-align: left;'> 5. Explain Primary Key and Foreign Key. </h3>"
   ]
  },
  {
   "cell_type": "markdown",
   "id": "de733dcd",
   "metadata": {},
   "source": [
    "<p> <b> Ans:- <br> 1) Primary Key :- <br> A primary key is used to ensure data in the specific column is unique. <br> It uniquely identifies a record in the relational database table. <br> Only one primary key is allowed in a table. <br> It is a combination of UNIQUE and Not Null constraints. <br> It does not allow NULL values. <br> Its value cannot be deleted from the parent table. <br> It constraint can be implicitly defined on the temporary tables. <br> <br> 2) Foreign Key :- <br> A foreign key is a column or group of columns in a relational database table that provides a link between data in two tables. <br> It refers to the field in a table which is the primary key of another table. <br> Whereas more than one foreign key are allowed in a table. <br> It can contain duplicate values and a table in a relational database. <br> It can also contain NULL values. <br> Its value can be deleted from the child table. <br> It constraint cannot be defined on the local or global temporary tables. </b> </p>"
   ]
  },
  {
   "cell_type": "markdown",
   "id": "aefc7e71",
   "metadata": {},
   "source": [
    "<h3 style='text-align: left;'> 6. Write a python code to connect MySQL to python. Explain the cursor() and execute() method. </h3>"
   ]
  },
  {
   "cell_type": "code",
   "execution_count": 4,
   "id": "4b9a7edb",
   "metadata": {},
   "outputs": [
    {
     "name": "stdout",
     "output_type": "stream",
     "text": [
      "Collecting mysql.connector\n",
      "  Downloading mysql-connector-2.2.9.tar.gz (11.9 MB)\n",
      "Building wheels for collected packages: mysql.connector\n",
      "  Building wheel for mysql.connector (setup.py): started\n",
      "  Building wheel for mysql.connector (setup.py): finished with status 'done'\n",
      "  Created wheel for mysql.connector: filename=mysql_connector-2.2.9-cp39-cp39-win_amd64.whl size=247961 sha256=81a3af188b0eaab2ba46e13f8b1d1aec6357d2b2bec70ed2a5e9b92cf1208c31\n",
      "  Stored in directory: c:\\users\\halwa\\appdata\\local\\pip\\cache\\wheels\\7b\\14\\39\\5aad423666e827dfe9a1fbcd111ac17171e7c9865d570780ce\n",
      "Successfully built mysql.connector\n",
      "Installing collected packages: mysql.connector\n",
      "Successfully installed mysql.connector-2.2.9\n",
      "Note: you may need to restart the kernel to use updated packages.\n"
     ]
    }
   ],
   "source": [
    "pip install mysql.connector"
   ]
  },
  {
   "cell_type": "markdown",
   "id": "a70aaea8",
   "metadata": {},
   "source": [
    "# PYTHON CODE to CONNECT MYSQL TO PYTHON"
   ]
  },
  {
   "cell_type": "markdown",
   "id": "f8b56db8",
   "metadata": {},
   "source": [
    "import mysql.connector\n",
    "\n",
    "mydb = mysql.connector.connect(\n",
    "  host=\"localhost\",\n",
    "  user=\"root\",\n",
    "  password=\"12345\"\n",
    ")\n",
    "\n",
    "mycursor = mydb.cursor()"
   ]
  },
  {
   "cell_type": "markdown",
   "id": "a0d8e0d3",
   "metadata": {},
   "source": [
    "# CREATE DATABASE\n",
    "\n",
    "mycursor.execute(\"CREATE DATABASE mydatabase\")"
   ]
  },
  {
   "cell_type": "markdown",
   "id": "5451473f",
   "metadata": {},
   "source": [
    "# SHOW DATABASE\n",
    "\n",
    "mycursor.execute(\"SHOW DATABASES\")"
   ]
  },
  {
   "cell_type": "markdown",
   "id": "0c532da6",
   "metadata": {},
   "source": [
    "for x in mycursor:\n",
    "     print(x)"
   ]
  },
  {
   "cell_type": "markdown",
   "id": "9928f170",
   "metadata": {},
   "source": [
    "# CURSOR METHOD :- "
   ]
  },
  {
   "cell_type": "markdown",
   "id": "8bb69c67",
   "metadata": {},
   "source": [
    "<p> <b> Cursor object can be created using cursor() method. <br> cursor() method belongs to connection object/class. </b> </p>"
   ]
  },
  {
   "cell_type": "markdown",
   "id": "a6d3e1b6",
   "metadata": {},
   "source": [
    "# EXECUTE METHOD :- "
   ]
  },
  {
   "cell_type": "markdown",
   "id": "defd6d0e",
   "metadata": {},
   "source": [
    "<p> <b> execute() method accepts a MySQL query as a parameter and executes the given query. </b> </p>"
   ]
  },
  {
   "cell_type": "markdown",
   "id": "5f4fdf96",
   "metadata": {},
   "source": [
    "<h3 style='text-align: left;'> 7. Give the order of execution of SQL clauses in an SQL query. </h3>"
   ]
  },
  {
   "cell_type": "markdown",
   "id": "e052ea2f",
   "metadata": {},
   "source": [
    "<p> <b> Ans:- <br> The order of execution of SQL clauses in an SQL query :- <br> 1) FROM <br> 2) ON <br> 3) JOIN <br> 4) WHERE <br> 5) GROUP BY <br> 6) WITH CUBE or WITH ROLLUP <br> 7) HAVING <br> 8) SELECT <br> 9) DISTINCT <br> 10) ORDER BY <br> 11) TOP </b> </p>"
   ]
  },
  {
   "cell_type": "markdown",
   "id": "700ac340",
   "metadata": {},
   "source": [
    "<p> <b>Query Process Steps <br>\n",
    "1. Getting Data (From, Join) <br>\n",
    "2. Row Filter (Where) <br>\n",
    "3. Grouping (Group by) <br>\n",
    "4. Group Filter (Having) <br>\n",
    "5. Return Expressions (Select) <br>\n",
    "6. Order & Paging (Order by & Limit / Offset) \n",
    "</b> </p>"
   ]
  },
  {
   "cell_type": "markdown",
   "id": "134d52d2",
   "metadata": {},
   "source": [
    "<h4 style='text-align: right;'> Yash Sanjeev Halwai </h4>"
   ]
  }
 ],
 "metadata": {
  "kernelspec": {
   "display_name": "Python 3 (ipykernel)",
   "language": "python",
   "name": "python3"
  },
  "language_info": {
   "codemirror_mode": {
    "name": "ipython",
    "version": 3
   },
   "file_extension": ".py",
   "mimetype": "text/x-python",
   "name": "python",
   "nbconvert_exporter": "python",
   "pygments_lexer": "ipython3",
   "version": "3.9.7"
  }
 },
 "nbformat": 4,
 "nbformat_minor": 5
}
