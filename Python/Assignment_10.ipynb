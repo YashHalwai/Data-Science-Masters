{
 "cells": [
  {
   "cell_type": "markdown",
   "id": "c7d0f282",
   "metadata": {},
   "source": [
    "<div style=\"text-align: center\"> <h1>Assignment 10</h1></div>"
   ]
  },
  {
   "cell_type": "markdown",
   "id": "445bf4ef",
   "metadata": {},
   "source": [
    "<h2 style='text-align: left;'> Assignment Questions </h2>"
   ]
  },
  {
   "cell_type": "markdown",
   "id": "4c7f9407",
   "metadata": {},
   "source": [
    "<h3 style='text-align: left;'> 1. Create a vehicle class with an init method having instance variables as name_of_vehicle, max_speed and average_of_vehicle. </h3>"
   ]
  },
  {
   "cell_type": "code",
   "execution_count": 47,
   "id": "f87545a0",
   "metadata": {},
   "outputs": [],
   "source": [
    "class Vehicle:\n",
    "    \n",
    "    def __init__(self,name_of_vehicle,max_speed,average_of_vehicle):\n",
    "        self.name = name_of_vehicle\n",
    "        self.speed = max_speed\n",
    "        self.avg = average_of_vehicle\n",
    "        \n",
    "    def return_vehicle_details(self):\n",
    "        return self.name,self.speed,self.avg"
   ]
  },
  {
   "cell_type": "code",
   "execution_count": 48,
   "id": "84a62d75",
   "metadata": {},
   "outputs": [],
   "source": [
    "Car = Vehicle(\"Thar\",150,5)"
   ]
  },
  {
   "cell_type": "code",
   "execution_count": 49,
   "id": "761bc91c",
   "metadata": {},
   "outputs": [
    {
     "data": {
      "text/plain": [
       "('Thar', 150, 5)"
      ]
     },
     "execution_count": 49,
     "metadata": {},
     "output_type": "execute_result"
    }
   ],
   "source": [
    "Car.return_vehicle_details()"
   ]
  },
  {
   "cell_type": "code",
   "execution_count": 50,
   "id": "d99ef6be",
   "metadata": {},
   "outputs": [],
   "source": [
    "Bike = Vehicle(\"BMW\",200,7)"
   ]
  },
  {
   "cell_type": "code",
   "execution_count": 51,
   "id": "3f2bc948",
   "metadata": {},
   "outputs": [
    {
     "data": {
      "text/plain": [
       "('BMW', 200, 7)"
      ]
     },
     "execution_count": 51,
     "metadata": {},
     "output_type": "execute_result"
    }
   ],
   "source": [
    "Bike.return_vehicle_details()"
   ]
  },
  {
   "cell_type": "markdown",
   "id": "4cdf0635",
   "metadata": {},
   "source": [
    "<h3 style='text-align: left;'> 2.  Create a child class car from the vehicle class created in Que 1, which will inherit the vehicle class. Create a method named seating_capacity which takes capacity as an argument and returns the name of the vehicle and its seating capacity. </h3>"
   ]
  },
  {
   "cell_type": "code",
   "execution_count": 52,
   "id": "41e49f3b",
   "metadata": {},
   "outputs": [],
   "source": [
    "class Vehicle1:\n",
    "    \n",
    "    def __init__(self,name_of_vehicle,max_speed,average_of_vehicle):\n",
    "        self.name = name_of_vehicle\n",
    "        self.speed = max_speed\n",
    "        self.avg = average_of_vehicle\n",
    "        \n",
    "    def return_vehicle_details(self):\n",
    "        return self.name,self.speed,self.avg\n",
    "\n",
    "class Car(Vehicle1):\n",
    "    \n",
    "    def seating_capacity(self,capacity):\n",
    "        return f\"The seating capacity of a {self.name} is {capacity} passengers.\""
   ]
  },
  {
   "cell_type": "code",
   "execution_count": 53,
   "id": "ac38bec8",
   "metadata": {},
   "outputs": [],
   "source": [
    "Car1 = Car(\"Thar\",150,5)"
   ]
  },
  {
   "cell_type": "code",
   "execution_count": 54,
   "id": "62aefd26",
   "metadata": {},
   "outputs": [
    {
     "data": {
      "text/plain": [
       "'The seating capacity of a Thar is 7 passengers.'"
      ]
     },
     "execution_count": 54,
     "metadata": {},
     "output_type": "execute_result"
    }
   ],
   "source": [
    "Car1.seating_capacity(7)"
   ]
  },
  {
   "cell_type": "markdown",
   "id": "ce644679",
   "metadata": {},
   "source": [
    "<h3 style='text-align: left;'> 3. What is multiple inheritance? Write a python code to demonstrate multiple inheritance. </h3>"
   ]
  },
  {
   "cell_type": "markdown",
   "id": "e3f5adc7",
   "metadata": {},
   "source": [
    "<p> <b> Ans:- <br> When a class is derived from more than one base class it is called multiple Inheritance. The derived class inherits all the features of the base case.</b> </p>"
   ]
  },
  {
   "cell_type": "code",
   "execution_count": null,
   "id": "084ce84f",
   "metadata": {},
   "outputs": [],
   "source": [
    "\"\"\"\n",
    "\n",
    "Syntax:\n",
    "\n",
    "Class Base1:\n",
    "       Body of the class\n",
    "\n",
    "Class Base2:\n",
    "     Body of the class\n",
    "\n",
    "Class Derived(Base1, Base2):\n",
    "     Body of the class\n",
    "\n",
    "\"\"\""
   ]
  },
  {
   "cell_type": "markdown",
   "id": "1cd11b2f",
   "metadata": {},
   "source": [
    "# Demonstration:"
   ]
  },
  {
   "cell_type": "code",
   "execution_count": 56,
   "id": "40a37890",
   "metadata": {},
   "outputs": [],
   "source": [
    "class c1: # create class c1\n",
    "    def test_c1(self):\n",
    "        return \"This is class 1.\"\n",
    "\n",
    "class c2: # create class c2\n",
    "    def test_c2(self):\n",
    "        return \"This is class 2.\"\n",
    "    \n",
    "class c3(c1,c2): # inherit class c3 in c1 & c2\n",
    "    pass\n",
    "\n",
    "obj_c3 = c3() # object of c3"
   ]
  },
  {
   "cell_type": "code",
   "execution_count": 57,
   "id": "d85bd65f",
   "metadata": {},
   "outputs": [
    {
     "data": {
      "text/plain": [
       "'This is class 1.'"
      ]
     },
     "execution_count": 57,
     "metadata": {},
     "output_type": "execute_result"
    }
   ],
   "source": [
    "obj_c3.test_c1() # shows multiple inheritance"
   ]
  },
  {
   "cell_type": "code",
   "execution_count": 58,
   "id": "66a4eacb",
   "metadata": {},
   "outputs": [
    {
     "data": {
      "text/plain": [
       "'This is class 2.'"
      ]
     },
     "execution_count": 58,
     "metadata": {},
     "output_type": "execute_result"
    }
   ],
   "source": [
    "obj_c3.test_c2() # shows multiple inheritance"
   ]
  },
  {
   "cell_type": "markdown",
   "id": "eedc0d96",
   "metadata": {},
   "source": [
    "<h3 style='text-align: left;'> 4. What are getter and setter in python? Create a class and create a getter and a setter method in this \n",
    "class. </h3>"
   ]
  },
  {
   "cell_type": "markdown",
   "id": "fa792e95",
   "metadata": {},
   "source": [
    "<p> <b> Ans:- <br> Getters are the methods that are used in Object-Oriented Programming (OOPS) to access a class's private attributes. The setattr() function in Python corresponds to the getattr() function in Python. It alters an object's attribute values.<br>The setter is a method that is used to set the property's value. It is very useful in object-oriented programming to set the value of private attributes in a class.<br>Generally, getters and setters are mainly used to ensure the data encapsulation in OOPs. </b> </p>"
   ]
  },
  {
   "cell_type": "markdown",
   "id": "c85ccb56",
   "metadata": {},
   "source": [
    "# Example:-"
   ]
  },
  {
   "cell_type": "code",
   "execution_count": 59,
   "id": "e3df23bd",
   "metadata": {},
   "outputs": [
    {
     "name": "stdout",
     "output_type": "stream",
     "text": [
      "20\n",
      "20\n"
     ]
    }
   ],
   "source": [
    "class Age:\n",
    "    \n",
    "    def __init__(self,age = 0):\n",
    "        self._age = age\n",
    "        \n",
    "        \n",
    "    # using the getter method\n",
    "    def get_age(self):\n",
    "        return self._age\n",
    "    \n",
    "    \n",
    "    # using the setter method\n",
    "    def set_age(self,a):\n",
    "        self._age = a\n",
    "        \n",
    "    \n",
    "Yash = Age()\n",
    "\n",
    "# using the setter function\n",
    "Yash.set_age(20)\n",
    "\n",
    "# using the getter function\n",
    "print(Yash.get_age())\n",
    "\n",
    "print(Yash._age)"
   ]
  },
  {
   "cell_type": "markdown",
   "id": "b494283d",
   "metadata": {},
   "source": [
    "<h3 style='text-align: left;'> 5. What is method overriding in python? Write a python code to demonstrate method overriding. </h3>"
   ]
  },
  {
   "cell_type": "markdown",
   "id": "f1e7a70c",
   "metadata": {},
   "source": [
    "<p> <b> Ans:- <br> Method overriding is an ability of any object-oriented programming language that allows a subclass or child class to provide a specific implementation of a method that is already provided by one of its super-classes or parent classes. When a method in a subclass has the same name, same parameters or signature and same return type(or sub-type) as a method in its super-class, then the method in the subclass is said to override the method in the super-class. </b> </p>"
   ]
  },
  {
   "cell_type": "markdown",
   "id": "7b791283",
   "metadata": {},
   "source": [
    "# Python code to demonstrate method overriding:"
   ]
  },
  {
   "cell_type": "code",
   "execution_count": 60,
   "id": "18c594bd",
   "metadata": {},
   "outputs": [
    {
     "name": "stdout",
     "output_type": "stream",
     "text": [
      "Inside Parent\n",
      "Inside Child\n"
     ]
    }
   ],
   "source": [
    "# Python program to demonstrate \n",
    "# method overriding\n",
    "  \n",
    "  \n",
    "# Defining parent class\n",
    "class Parent():\n",
    "      \n",
    "    # Constructor\n",
    "    def __init__(self):\n",
    "        self.value = \"Inside Parent\"\n",
    "          \n",
    "    # Parent's show method\n",
    "    def show(self):\n",
    "        print(self.value)\n",
    "          \n",
    "# Defining child class\n",
    "class Child(Parent):\n",
    "      \n",
    "    # Constructor\n",
    "    def __init__(self):\n",
    "        self.value = \"Inside Child\"\n",
    "          \n",
    "    # Child's show method\n",
    "    def show(self):\n",
    "        print(self.value)\n",
    "          \n",
    "          \n",
    "# Driver's code\n",
    "obj1 = Parent()\n",
    "obj2 = Child()\n",
    "  \n",
    "obj1.show()\n",
    "obj2.show()"
   ]
  },
  {
   "cell_type": "markdown",
   "id": "6328b7e8",
   "metadata": {},
   "source": [
    "<h4 style='text-align: right;'> Yash Sanjeev Halwai </h4>"
   ]
  }
 ],
 "metadata": {
  "kernelspec": {
   "display_name": "Python 3 (ipykernel)",
   "language": "python",
   "name": "python3"
  },
  "language_info": {
   "codemirror_mode": {
    "name": "ipython",
    "version": 3
   },
   "file_extension": ".py",
   "mimetype": "text/x-python",
   "name": "python",
   "nbconvert_exporter": "python",
   "pygments_lexer": "ipython3",
   "version": "3.9.7"
  }
 },
 "nbformat": 4,
 "nbformat_minor": 5
}
